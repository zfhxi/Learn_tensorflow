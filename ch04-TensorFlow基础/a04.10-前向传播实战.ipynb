{
 "cells": [
  {
   "cell_type": "code",
   "execution_count": 1,
   "metadata": {
    "collapsed": true
   },
   "outputs": [],
   "source": [
    "import matplotlib.pyplot as plt\n",
    "import tensorflow as tf\n",
    "import tensorflow.keras.datasets as datasets"
   ]
  },
  {
   "cell_type": "markdown",
   "source": [
    "目标：实现如下网络\n",
    "\n",
    "$$\\mathrm{out}=\\mathrm{ReLU}_3(\\mathrm{ReLU}_2\\lgroup\\mathrm{ReLU}_1(X@W_1+b_1)@W_2+b_2\\rgroup@W_3+b_3)$$\n",
    "\n",
    "数据集：MNIST\n",
    "输入节点数为784，第一层输出节点为256，第二层输出节点为128，第三层输出节点为10\n"
   ],
   "metadata": {
    "collapsed": false,
    "pycharm": {
     "name": "#%% md\n"
    }
   }
  },
  {
   "cell_type": "markdown",
   "source": [
    "## 1.加载数据\n",
    "将shape为\\[b,28,28\\] -> \\[b,28*28\\]"
   ],
   "metadata": {
    "collapsed": false,
    "pycharm": {
     "name": "#%% md\n"
    }
   }
  },
  {
   "cell_type": "code",
   "execution_count": 2,
   "outputs": [],
   "source": [
    "def load_data():\n",
    "    # 加载MNIST\n",
    "    (x,y),(x_val,y_val)=datasets.mnist.load_data()\n",
    "    # 转换为浮点张量，并缩放到（0～1）\n",
    "    x=tf.convert_to_tensor(x,dtype=tf.float32)/255.\n",
    "    # 转换为整型张量\n",
    "    y=tf.convert_to_tensor(y,dtype=tf.int32)\n",
    "    # one-hot编码\n",
    "    y=tf.one_hot(y,depth=10)\n",
    "    # 改变视图\n",
    "    x=tf.reshape(x,[-1,28*28])\n",
    "\n",
    "    # 构建数据集对象\n",
    "    train_dataset=tf.data.Dataset.from_tensor_slices((x,y))\n",
    "    #批量训练\n",
    "    train_dataset=train_dataset.batch(200)\n",
    "    return train_dataset\n"
   ],
   "metadata": {
    "collapsed": false,
    "pycharm": {
     "name": "#%%\n"
    }
   }
  },
  {
   "cell_type": "markdown",
   "source": [
    "## 2.创建并初始化非线性层的张量参数\n",
    "\n",
    "> `tf.random.truncated_normal`从截断的正态分布中输出随机值。 生成的值服从具有指定平均值和标准偏差的正态分布，如果生成的值大于平均值2个标准偏差的值则丢弃重新选择。"
   ],
   "metadata": {
    "collapsed": false
   }
  },
  {
   "cell_type": "code",
   "execution_count": 3,
   "outputs": [],
   "source": [
    "def init_paramaters():\n",
    "    # 每个张量需要被优化，所以使用tf.Variable\n",
    "    # 第一层\n",
    "    W1=tf.Variable(tf.random.truncated_normal([784,256],stddev=.1))\n",
    "    b1=tf.Variable(tf.zeros([256]))\n",
    "\n",
    "    # 第二层\n",
    "    W2=tf.Variable(tf.random.truncated_normal([256,128],stddev=.1))\n",
    "    b2=tf.Variable(tf.zeros([128]))\n",
    "\n",
    "    # 输出层\n",
    "    W3=tf.Variable(tf.random.truncated_normal([128,10],stddev=.1))\n",
    "    b3=tf.Variable(tf.zeros([10]))\n",
    "\n",
    "    return W1,b1,W2,b2,W3,b3"
   ],
   "metadata": {
    "collapsed": false,
    "pycharm": {
     "name": "#%%\n"
    }
   }
  },
  {
   "cell_type": "markdown",
   "source": [
    "## 3.前向"
   ],
   "metadata": {
    "collapsed": false,
    "pycharm": {
     "name": "#%% md\n"
    }
   }
  },
  {
   "cell_type": "code",
   "execution_count": 4,
   "outputs": [],
   "source": [
    "def my_forward(x,W1,b1,W2,b2,W3,b3):\n",
    "    # 第一层计算，bx784 @ 784x256 + 256 => bx256 + 256 => bx256 + bx256\n",
    "    h1=x@W1+tf.broadcast_to(b1,[x.shape[0],256])\n",
    "    h1=tf.nn.relu(h1) # 激活函数处理\n",
    "\n",
    "    # 第二层计算，bx256 @ 256x128 + 128 => bx128 + 128 => bx128 + bx128\n",
    "    h2=h1@W2+b2\n",
    "    h2=tf.nn.relu(h2) # 激活函数处理\n",
    "\n",
    "    # 输出层计算，bx128 @ 128x10 + 10 => bx10 + 10 => bx10 + bx10\n",
    "    out=h2@W3+b3\n",
    "\n",
    "    return out"
   ],
   "metadata": {
    "collapsed": false,
    "pycharm": {
     "name": "#%%\n"
    }
   }
  },
  {
   "cell_type": "markdown",
   "source": [
    "## 4.误差计算"
   ],
   "metadata": {
    "collapsed": false,
    "pycharm": {
     "name": "#%% md\n"
    }
   }
  },
  {
   "cell_type": "code",
   "execution_count": 5,
   "outputs": [],
   "source": [
    "def mse_loss(y,p):\n",
    "    # mse = mean(sum(y-p)^2)\n",
    "    loss=tf.square(y-p)\n",
    "    loss=tf.reduce_mean(loss)\n",
    "    return loss"
   ],
   "metadata": {
    "collapsed": false,
    "pycharm": {
     "name": "#%%\n"
    }
   }
  },
  {
   "cell_type": "markdown",
   "source": [
    "## 5.求梯度"
   ],
   "metadata": {
    "collapsed": false,
    "pycharm": {
     "name": "#%% md\n"
    }
   }
  },
  {
   "cell_type": "code",
   "execution_count": 6,
   "outputs": [],
   "source": [
    "def train_epoch(train_dataset,W1,b1,W2,b2,W3,b3,lr=0.001):\n",
    "    for (x,y) in train_dataset:\n",
    "        with tf.GradientTape() as tape:\n",
    "            p=my_forward(x,W1,b1,W2,b2,W3,b3)\n",
    "            loss=mse_loss(y,p)\n",
    "\n",
    "            # 自动梯度，需要求梯度的张量有[W1,b1,W2,b2,W3,b3]\n",
    "            grads=tape.gradient(loss,[W1,b1,W2,b2,W3,b3])\n",
    "\n",
    "        # 梯度更新，assign_sub将当前值减去参数值（原地更新）\n",
    "        W1.assign_sub(lr*grads[0])\n",
    "        b1.assign_sub(lr*grads[1])\n",
    "        W2.assign_sub(lr*grads[2])\n",
    "        b2.assign_sub(lr*grads[3])\n",
    "        W3.assign_sub(lr*grads[4])\n",
    "        b3.assign_sub(lr*grads[5])\n",
    "    return loss.numpy()\n",
    "\n",
    "def run(epochs):\n",
    "    losses=[]\n",
    "    train_dataset=load_data()\n",
    "    W1,b1,W2,b2,W3,b3=init_paramaters()\n",
    "    for epoch in range(epochs):\n",
    "        loss=train_epoch(train_dataset,W1,b1,W2,b2,W3,b3,lr=0.001)\n",
    "        print(f'epoch[{epoch}]-loss: {loss}')\n",
    "        losses.append((loss))\n",
    "    # 绘制曲线\n",
    "    xx=[i for i in range(0,epochs)]\n",
    "    plt.plot(xx,losses,color='b',marker='s',label='训练')\n",
    "    plt.xlabel('Epoch')\n",
    "    plt.ylabel('MSE')\n",
    "    plt.legend()\n",
    "    plt.show()"
   ],
   "metadata": {
    "collapsed": false,
    "pycharm": {
     "name": "#%%\n"
    }
   }
  },
  {
   "cell_type": "code",
   "execution_count": 7,
   "outputs": [
    {
     "name": "stdout",
     "output_type": "stream",
     "text": [
      "epoch[0]-loss: 0.16757643222808838\n",
      "epoch[1]-loss: 0.1495293825864792\n",
      "epoch[2]-loss: 0.1362714171409607\n",
      "epoch[3]-loss: 0.1261531263589859\n",
      "epoch[4]-loss: 0.11810728162527084\n",
      "epoch[5]-loss: 0.11159410327672958\n",
      "epoch[6]-loss: 0.10616274923086166\n",
      "epoch[7]-loss: 0.10155212134122849\n",
      "epoch[8]-loss: 0.0975867509841919\n",
      "epoch[9]-loss: 0.09411980211734772\n",
      "epoch[10]-loss: 0.09107614308595657\n",
      "epoch[11]-loss: 0.08836865425109863\n",
      "epoch[12]-loss: 0.08595044165849686\n",
      "epoch[13]-loss: 0.083777517080307\n",
      "epoch[14]-loss: 0.08180715143680573\n",
      "epoch[15]-loss: 0.08001498132944107\n",
      "epoch[16]-loss: 0.0783761739730835\n",
      "epoch[17]-loss: 0.07686644047498703\n",
      "epoch[18]-loss: 0.07546959072351456\n",
      "epoch[19]-loss: 0.0741695836186409\n",
      "epoch[20]-loss: 0.072962686419487\n",
      "epoch[21]-loss: 0.07183241844177246\n",
      "epoch[22]-loss: 0.07076562196016312\n",
      "epoch[23]-loss: 0.06976128369569778\n",
      "epoch[24]-loss: 0.06881675869226456\n",
      "epoch[25]-loss: 0.06793106347322464\n",
      "epoch[26]-loss: 0.06709898263216019\n",
      "epoch[27]-loss: 0.0663105845451355\n",
      "epoch[28]-loss: 0.06556269526481628\n",
      "epoch[29]-loss: 0.0648525282740593\n",
      "epoch[30]-loss: 0.06417573243379593\n",
      "epoch[31]-loss: 0.06352734565734863\n",
      "epoch[32]-loss: 0.06290503591299057\n",
      "epoch[33]-loss: 0.06231079250574112\n",
      "epoch[34]-loss: 0.06174258142709732\n",
      "epoch[35]-loss: 0.06119614839553833\n",
      "epoch[36]-loss: 0.06067202612757683\n",
      "epoch[37]-loss: 0.060163624584674835\n",
      "epoch[38]-loss: 0.05967326462268829\n",
      "epoch[39]-loss: 0.05919959768652916\n"
     ]
    },
    {
     "data": {
      "text/plain": "<Figure size 432x288 with 1 Axes>",
      "image/png": "[encoded data removed]"
     },
     "metadata": {
      "needs_background": "light"
     },
     "output_type": "display_data"
    }
   ],
   "source": [
    "run(epochs=20)\n"
   ],
   "metadata": {
    "collapsed": false,
    "pycharm": {
     "name": "#%%\n"
    }
   }
  },
  {
   "cell_type": "code",
   "execution_count": null,
   "outputs": [],
   "source": [
    "import os\n",
    "pid=os.getpid()\n",
    "!kill -9 $pid\n",
    "\n",
    "\n"
   ],
   "metadata": {
    "collapsed": false,
    "pycharm": {
     "name": "#%%\n",
     "is_executing": true
    }
   }
  },
  {
   "cell_type": "code",
   "execution_count": null,
   "outputs": [],
   "source": [
    "import os\n",
    "pid=os.getpid()\n",
    "!kill -9 $pid\n",
    "\n",
    "\n"
   ],
   "metadata": {
    "collapsed": false,
    "pycharm": {
     "name": "#%%\n",
     "is_executing": true
    }
   }
  },
  {
   "cell_type": "code",
   "execution_count": null,
   "outputs": [],
   "source": [
    "import os\n",
    "pid=os.getpid()\n",
    "!kill -9 $pid\n",
    "\n",
    "\n"
   ],
   "metadata": {
    "collapsed": false,
    "pycharm": {
     "name": "#%%\n",
     "is_executing": true
    }
   }
  }
 ],
 "metadata": {
  "kernelspec": {
   "display_name": "Python 3",
   "language": "python",
   "name": "python3"
  },
  "language_info": {
   "codemirror_mode": {
    "name": "ipython",
    "version": 2
   },
   "file_extension": ".py",
   "mimetype": "text/x-python",
   "name": "python",
   "nbconvert_exporter": "python",
   "pygments_lexer": "ipython2",
   "version": "2.7.6"
  }
 },
 "nbformat": 4,
 "nbformat_minor": 0
}