{
 "cells": [
  {
   "cell_type": "code",
   "execution_count": 1,
   "metadata": {
    "collapsed": true
   },
   "outputs": [
    {
     "name": "stdout",
     "output_type": "stream",
     "text": [
      "10000000\n",
      "/job:localhost/replica:0/task:0/device:CPU:0 /job:localhost/replica:0/task:0/device:CPU:0\n",
      "/job:localhost/replica:0/task:0/device:GPU:0 /job:localhost/replica:0/task:0/device:GPU:0\n",
      "warmup:\n",
      "cpu_time:0.0964315599999992\n",
      "gpu_time:0.7377516749999984\n",
      "run time:\n",
      "cpu_time:0.09227088000000094\n",
      "gpu_time:0.00038254700000095454\n"
     ]
    }
   ],
   "source": [
    "import tensorflow as tf\n",
    "import timeit\n",
    "\n",
    "\n",
    "n=10**7\n",
    "t_n=10\n",
    "print(n)\n",
    "with tf.device('/cpu:0'):\n",
    "    cpu_a=tf.random.normal([1,n])\n",
    "    cpu_b=tf.random.normal([n,1])\n",
    "    print(cpu_a.device,cpu_b.device)\n",
    "with tf.device('/gpu:0'):\n",
    "    gpu_a=tf.random.normal([1,n])\n",
    "    gpu_b=tf.random.normal([n,1])\n",
    "    print(gpu_a.device,gpu_b.device)\n",
    "\n",
    "def cpu_run():\n",
    "    with tf.device('/cpu:0'):\n",
    "        c=tf.matmul(cpu_a,cpu_b)\n",
    "    return c\n",
    "def gpu_run():\n",
    "    with tf.device('/gpu:0'):\n",
    "        c=tf.matmul(gpu_a,gpu_b)\n",
    "    return c\n",
    "\n",
    "cpu_time=timeit.timeit(cpu_run,number=t_n)\n",
    "gpu_time=timeit.timeit(gpu_run,number=t_n)\n",
    "print('warmup:\\ncpu_time:{}\\ngpu_time:{}'.format(cpu_time,gpu_time))\n",
    "\n",
    "cpu_time=timeit.timeit(cpu_run,number=t_n)\n",
    "gpu_time=timeit.timeit(gpu_run,number=t_n)\n",
    "print('run time:\\ncpu_time:{}\\ngpu_time:{}'.format(cpu_time,gpu_time))"
   ]
  }
 ],
 "metadata": {
  "kernelspec": {
   "display_name": "Python 3",
   "language": "python",
   "name": "python3"
  },
  "language_info": {
   "codemirror_mode": {
    "name": "ipython",
    "version": 2
   },
   "file_extension": ".py",
   "mimetype": "text/x-python",
   "name": "python",
   "nbconvert_exporter": "python",
   "pygments_lexer": "ipython2",
   "version": "2.7.6"
  }
 },
 "nbformat": 4,
 "nbformat_minor": 0
}