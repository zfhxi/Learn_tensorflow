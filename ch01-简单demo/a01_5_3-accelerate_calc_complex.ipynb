{
 "cells": [
  {
   "cell_type": "code",
   "execution_count": 1,
   "metadata": {
    "collapsed": true,
    "pycharm": {
     "name": "#%%\n"
    }
   },
   "outputs": [],
   "source": [
    "import tensorflow as tf\n",
    "import timeit\n",
    "\n",
    "import numpy as np\n",
    "import matplotlib\n",
    "from matplotlib import pyplot as plt"
   ]
  },
  {
   "cell_type": "code",
   "execution_count": 2,
   "outputs": [],
   "source": [
    "# update\n",
    "matplotlib.rcParams['font.size']=20\n",
    "matplotlib.rcParams['figure.titlesize']=20\n",
    "matplotlib.rcParams['figure.figsize']=[9,7]\n",
    "matplotlib.rcParams['font.family']=['STKaiti']\n",
    "matplotlib.rcParams['axes.unicode_minus']=False\n",
    "\n",
    "\n",
    "cpu_data=list()\n",
    "gpu_data=list()\n"
   ],
   "metadata": {
    "collapsed": false,
    "pycharm": {
     "name": "#%%\n"
    }
   }
  },
  {
   "cell_type": "code",
   "execution_count": 3,
   "outputs": [],
   "source": [
    "#update\n",
    "\n",
    "def test_accelerate(n,t_n):\n",
    "    with tf.device('/cpu:0'):\n",
    "        cpu_a=tf.random.normal([1,n])\n",
    "        cpu_b=tf.random.normal([n,1])\n",
    "        print(cpu_a.device,cpu_b.device)\n",
    "    with tf.device('/gpu:0'):\n",
    "        gpu_a=tf.random.normal([1,n])\n",
    "        gpu_b=tf.random.normal([n,1])\n",
    "        print(gpu_a.device,gpu_b.device)\n",
    "\n",
    "    def cpu_run():\n",
    "        with tf.device('/cpu:0'):\n",
    "            c=tf.matmul(cpu_a,cpu_b)\n",
    "        return c\n",
    "    def gpu_run():\n",
    "        with tf.device('/gpu:0'):\n",
    "            c=tf.matmul(gpu_a,gpu_b)\n",
    "        return c\n",
    "\n",
    "    cpu_time=timeit.timeit(cpu_run,number=t_n)\n",
    "    gpu_time=timeit.timeit(gpu_run,number=t_n)\n",
    "    print('warmup:\\ncpu_time:{}\\ngpu_time:{}'.format(cpu_time,gpu_time))\n",
    "\n",
    "    cpu_time=timeit.timeit(cpu_run,number=t_n)\n",
    "    gpu_time=timeit.timeit(gpu_run,number=t_n)\n",
    "    print('run time:\\ncpu_time:{}\\ngpu_time:{}'.format(cpu_time,gpu_time))\n",
    "\n",
    "    #update\n",
    "    cpu_data.append(cpu_time/t_n)\n",
    "    gpu_data.append(gpu_time/t_n)\n",
    "\n",
    "    del cpu_a,cpu_b,gpu_a,gpu_b"
   ],
   "metadata": {
    "collapsed": false,
    "pycharm": {
     "name": "#%%\n"
    }
   }
  },
  {
   "cell_type": "code",
   "execution_count": 4,
   "outputs": [
    {
     "name": "stdout",
     "output_type": "stream",
     "text": [
      "/job:localhost/replica:0/task:0/device:CPU:0 /job:localhost/replica:0/task:0/device:CPU:0\n",
      "/job:localhost/replica:0/task:0/device:GPU:0 /job:localhost/replica:0/task:0/device:GPU:0\n",
      "warmup:\n",
      "cpu_time:0.00991100400005962\n",
      "gpu_time:0.6813058460002139\n",
      "run time:\n",
      "cpu_time:0.00037248199987516273\n",
      "gpu_time:0.00016617299979770905\n",
      "/job:localhost/replica:0/task:0/device:CPU:0 /job:localhost/replica:0/task:0/device:CPU:0\n",
      "/job:localhost/replica:0/task:0/device:GPU:0 /job:localhost/replica:0/task:0/device:GPU:0\n",
      "warmup:\n",
      "cpu_time:0.00031903599983706954\n",
      "gpu_time:0.0002229380002063408\n",
      "run time:\n",
      "cpu_time:0.00018482499990568613\n",
      "gpu_time:0.0003258129995629133\n"
     ]
    },
    {
     "name": "stderr",
     "output_type": "stream",
     "text": [
      "<ipython-input-4-4d876aff8bf1>:19: UserWarning: Attempted to set non-positive bottom ylim on a log-scaled axis.\n",
      "Invalid limit will be ignored.\n",
      "  plt.ylim([0,100])\n"
     ]
    },
    {
     "data": {
      "text/plain": "<Figure size 648x504 with 1 Axes>",
      "image/png": "[encoded data removed]"
     },
     "metadata": {
      "needs_background": "light"
     },
     "output_type": "display_data"
    }
   ],
   "source": [
    "#update\n",
    "max_pow=2\n",
    "calc_times=5\n",
    "\n",
    "for n in range(max_pow):\n",
    "    n=10**n\n",
    "    test_accelerate(n,calc_times)\n",
    "\n",
    "x=[10**i for i in range(max_pow)]\n",
    "cpu_y=[1000*i for i in cpu_data]\n",
    "gpu_y=[1000*i for i in gpu_data]\n",
    "plt.plot(x,cpu_y,'C1')\n",
    "plt.plot(x,cpu_y,color='C1',marker='s',label='CPU')\n",
    "plt.plot(x,gpu_y,'C0')\n",
    "plt.plot(x,gpu_y,color='C0',marker='^',label='GPU')\n",
    "\n",
    "plt.gca().set_xscale('log')\n",
    "plt.gca().set_yscale('log')\n",
    "plt.ylim([0,100])\n",
    "plt.xlabel('矩阵大小n:(1xn)@(nx1)')\n",
    "plt.ylabel('运算时间(ms)')\n",
    "plt.legend()\n",
    "plt.show()"
   ],
   "metadata": {
    "collapsed": false,
    "pycharm": {
     "name": "#%%\n"
    }
   }
  },
  {
   "cell_type": "code",
   "execution_count": null,
   "outputs": [],
   "source": [
    "import os\n",
    "pid=os.getpid()\n",
    "!kill -9 $pid\n",
    "\n",
    "\n"
   ],
   "metadata": {
    "collapsed": false,
    "pycharm": {
     "name": "#%%\n",
     "is_executing": true
    }
   }
  }
 ],
 "metadata": {
  "kernelspec": {
   "display_name": "Python 3",
   "language": "python",
   "name": "python3"
  },
  "language_info": {
   "codemirror_mode": {
    "name": "ipython",
    "version": 2
   },
   "file_extension": ".py",
   "mimetype": "text/x-python",
   "name": "python",
   "nbconvert_exporter": "python",
   "pygments_lexer": "ipython2",
   "version": "2.7.6"
  }
 },
 "nbformat": 4,
 "nbformat_minor": 0
}