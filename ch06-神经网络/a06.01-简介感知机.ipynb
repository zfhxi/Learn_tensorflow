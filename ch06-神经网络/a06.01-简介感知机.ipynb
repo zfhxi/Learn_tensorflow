{
 "cells": [
  {
   "cell_type": "markdown",
   "source": [
    "## 0.感知机\n",
    "下图是感知机模型:\n",
    "\n",
    "![](https://github.com/zfhxi/Learn_tensorflow/blob/master/ch06-%C9%F1%BE%AD%CD%F8/img/01.png?raw=true)\n",
    "\n",
    "感知机接受长度为$n$的一维向量$x=[x_1,x_2,...,x_n]$，每个输入节点通过权值为$w_i,i\\in[1,n]$的连接汇集为变量$z$，即：\n",
    "\n",
    "$z=w_1x_1+w_2x_2+\\cdots+w_nx_n+b$\n",
    "\n",
    "其中$b$称为感知机的偏置，一维向量$w=[w_1,w_2,\\dots,w_n]$称为感知机的权值，$z$称为感知机的净活性值\n",
    "\n",
    "上式写成向量形式:\n",
    "\n",
    "$z=w^Tx+b$\n",
    "\n",
    "感知机是线性模型，并不能处理线性不可分问题。通过在线性模型后添加激活函数得到活性值$a$:\n",
    "\n",
    "$a=\\sigma(z)=\\sigma(w^Tx+b)$\n",
    "\n",
    "其中激活函数可以是阶跃函数如下：\n",
    "\n",
    "$\n",
    "a=\\begin{cases}\n",
    "1&w^tx+b\\ge0\\\\0&w^tx+b\\lt0\n",
    "\\end{cases}\n",
    "$\n",
    "\n",
    "也可以是符号函数，表达式如下：\n",
    "\n",
    "$\n",
    "a=\\begin{cases}\n",
    "1&w^tx+b\\ge0\\\\\n",
    "-1&w^tx+b\\le0\n",
    "\\end{cases}\n",
    "$\n",
    "\n",
    "![](https://github.com/zfhxi/Learn_tensorflow/blob/master/ch06-%C9%F1%BE%AD%CD%F8/img/02.png?raw=true)\n",
    "\n",
    "添加激活函数后，感知机可以用来完成二分类任务。阶跃函数和符号函数在$z=0$处是不连续的，其他位置导数为0，无法利用梯度下降算法进行参数优化。对此，Frank Rosenblatt提出了感知机的学习算法：\n",
    "\n",
    "\n",
    "![](https://github.com/zfhxi/Learn_tensorflow/blob/master/ch06-%C9%F1%BE%AD%CD%F8/img/03.png?raw=true)\n",
    "\n",
    "其中$\\eta$为学习率。\n",
    "\n",
    "虽然感知机的提出被寄予良好的发展潜力，但Marvin Lee Minsky和Seymour Papert于1969年在《Perceptrons》书中证明了以感知机为代表的线性模型不能解决异或等线性不可分问题，直接导致当时新兴的神经网络的研究进入低谷期。\n",
    "但书中提到通过嵌套多层神经网络可以解决。"
   ],
   "metadata": {
    "collapsed": false,
    "pycharm": {
     "name": "#%% md\n"
    }
   }
  }
 ],
 "metadata": {
  "kernelspec": {
   "display_name": "Python 3",
   "language": "python",
   "name": "python3"
  },
  "language_info": {
   "codemirror_mode": {
    "name": "ipython",
    "version": 2
   },
   "file_extension": ".py",
   "mimetype": "text/x-python",
   "name": "python",
   "nbconvert_exporter": "python",
   "pygments_lexer": "ipython2",
   "version": "2.7.6"
  }
 },
 "nbformat": 4,
 "nbformat_minor": 0
}