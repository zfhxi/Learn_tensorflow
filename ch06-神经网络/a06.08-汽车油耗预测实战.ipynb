{
 "cells": [
  {
   "cell_type": "code",
   "execution_count": null,
   "outputs": [],
   "source": [
    "import tensorflow as tf\n",
    "from matplotlib import pyplot as plt"
   ],
   "metadata": {
    "collapsed": false,
    "pycharm": {
     "name": "#%%\n"
    }
   }
  },
  {
   "cell_type": "markdown",
   "source": [
    "## 1.数据集\n",
    "采用Auto MPG数据集，记录了各种汽车效能指标与气缸数据、重量、马力等真实数据<br>\n",
    "查看数据集的前5项如下：\n",
    "\n",
    "![](https://github.com/zfhxi/Learn_tensorflow/blob/master/ch06-%E7%A5%9E%E7%BB%8F%E7%BD%91%E7%BB%9C/img/13.png?raw=true)\n",
    "\n",
    "除了产地的数字字段表示类别外，其他字段都是数值类型。对于产地字段，1表示美国，2表示欧洲，3表示日本：\n",
    "\n",
    "![](https://github.com/zfhxi/Learn_tensorflow/blob/master/ch06-%E7%A5%9E%E7%BB%8F%E7%BD%91%E7%BB%9C/img/14.png?raw=true)\n",
    "\n",
    "Auto MPG数据集义工记录了398项数据，从[UCI服务器](http://archive.ics.uci.edu/ml/machine-learning-databases/auto-mpg/auto-mpg.data)下载并读取到DataFrame对象中："
   ],
   "metadata": {
    "collapsed": false,
    "pycharm": {
     "name": "#%% md\n"
    }
   }
  },
  {
   "cell_type": "markdown",
   "source": [
    "### 1.1.加载数据集"
   ],
   "metadata": {
    "collapsed": false,
    "pycharm": {
     "name": "#%% md\n"
    }
   }
  },
  {
   "cell_type": "code",
   "execution_count": 2,
   "outputs": [
    {
     "name": "stdout",
     "output_type": "stream",
     "text": [
      "/home/julian/.keras/datasets/auto-mpg.data\n",
      "    MPG  Cylinders  Displacement  Horsepower  Weight  Acceleration  \\\n",
      "0  18.0          8         307.0       130.0  3504.0          12.0   \n",
      "1  15.0          8         350.0       165.0  3693.0          11.5   \n",
      "2  18.0          8         318.0       150.0  3436.0          11.0   \n",
      "3  16.0          8         304.0       150.0  3433.0          12.0   \n",
      "4  17.0          8         302.0       140.0  3449.0          10.5   \n",
      "\n",
      "   Model Year  Origin  \n",
      "0          70       1  \n",
      "1          70       1  \n",
      "2          70       1  \n",
      "3          70       1  \n",
      "4          70       1  \n"
     ]
    }
   ],
   "source": [
    "from tensorflow import keras\n",
    "import pandas as pd\n",
    "import os\n",
    "# dataset_path=keras.utils.get_file('auto-mpg.data','file://'+os.path.abspath('./data/auto-mpg.data'))\n",
    "# 下载汽车效能数据集\n",
    "dataset_path=keras.utils.get_file('auto-mpg.data','http://archive.ics.uci.edu/ml/machine-learning-databases/auto-mpg/auto-mpg.data')\n",
    "print(dataset_path)\n",
    "# 利用pandas读取数据集\n",
    "column_names=['MPG','Cylinders','Displacement','Horsepower','Weight','Acceleration','Model Year','Origin']\n",
    "raw_dataset=pd.read_csv(dataset_path,names=column_names,na_values='?',comment='\\t',sep=\" \",skipinitialspace=True)\n",
    "dataset=raw_dataset.copy()\n",
    "# 查看部分数据\n",
    "print(dataset.head())"
   ],
   "metadata": {
    "collapsed": false,
    "pycharm": {
     "name": "#%%\n"
    }
   }
  },
  {
   "cell_type": "markdown",
   "source": [
    "### 1.2.清除空白数据\n",
    "删除含有空白字段的数据样本"
   ],
   "metadata": {
    "collapsed": false,
    "pycharm": {
     "name": "#%% md\n"
    }
   }
  },
  {
   "cell_type": "code",
   "execution_count": 3,
   "outputs": [
    {
     "name": "stdout",
     "output_type": "stream",
     "text": [
      "MPG             0\n",
      "Cylinders       0\n",
      "Displacement    0\n",
      "Horsepower      6\n",
      "Weight          0\n",
      "Acceleration    0\n",
      "Model Year      0\n",
      "Origin          0\n",
      "dtype: int64\n",
      "MPG             0\n",
      "Cylinders       0\n",
      "Displacement    0\n",
      "Horsepower      0\n",
      "Weight          0\n",
      "Acceleration    0\n",
      "Model Year      0\n",
      "Origin          0\n",
      "dtype: int64\n"
     ]
    }
   ],
   "source": [
    "# 删除空字段数据项（含有空字段的行）\n",
    "print(dataset.isna().sum()) # 统计空白行\n",
    "dataset=dataset.dropna() # 删除空白数据项\n",
    "print(dataset.isna().sum()) # 再次统计空白行"
   ],
   "metadata": {
    "collapsed": false,
    "pycharm": {
     "name": "#%%\n"
    }
   }
  },
  {
   "cell_type": "markdown",
   "source": [
    "### 1.3.字段类型处理\n",
    "由于Origin字段为类别类型数据，先将其移除，转换为新的3个字段：USA、Europe、Japan：\n"
   ],
   "metadata": {
    "collapsed": false,
    "pycharm": {
     "name": "#%% md\n"
    }
   }
  },
  {
   "cell_type": "code",
   "execution_count": 4,
   "outputs": [
    {
     "name": "stdout",
     "output_type": "stream",
     "text": [
      "      MPG  Cylinders  Displacement  Horsepower  Weight  Acceleration  \\\n",
      "393  27.0          4         140.0        86.0  2790.0          15.6   \n",
      "394  44.0          4          97.0        52.0  2130.0          24.6   \n",
      "395  32.0          4         135.0        84.0  2295.0          11.6   \n",
      "396  28.0          4         120.0        79.0  2625.0          18.6   \n",
      "397  31.0          4         119.0        82.0  2720.0          19.4   \n",
      "\n",
      "     Model Year  USA  Europe  Japan  \n",
      "393          82  1.0     0.0    0.0  \n",
      "394          82  0.0     1.0    0.0  \n",
      "395          82  1.0     0.0    0.0  \n",
      "396          82  1.0     0.0    0.0  \n",
      "397          82  1.0     0.0    0.0  \n"
     ]
    }
   ],
   "source": [
    "# 先弹出（删除并返回）origin这一列\n",
    "origin=dataset.pop('Origin')\n",
    "# 根据origin列来写入新的3个列\n",
    "dataset['USA']=(origin==1)*1.0\n",
    "dataset['Europe']=(origin==2)*1.0\n",
    "dataset['Japan']=(origin==3)*1.0\n",
    "print(dataset.tail()) # 查看表格后几项"
   ],
   "metadata": {
    "collapsed": false,
    "pycharm": {
     "name": "#%%\n"
    }
   }
  },
  {
   "cell_type": "markdown",
   "source": [
    "#### 1.3.1 数据集特征分布观测\n",
    "如下图示，可以大致观察到汽车排量、重量与MPG的关系比较简单, 随着排量或重量的增大，汽车的MPG降低，能耗增加；气缸数越小，汽车能做到的最好MPG也越高，越可能更节能，这都是是符合我们的生活经验的。"
   ],
   "metadata": {
    "collapsed": false,
    "pycharm": {
     "name": "#%% md\n"
    }
   }
  },
  {
   "cell_type": "code",
   "source": [
    "cylinders=dataset['Cylinders']\n",
    "displacements=dataset['Displacement']\n",
    "weights=dataset['Weight']\n",
    "MPGs=dataset['MPG']\n",
    "\n",
    "plt.subplot(2,2,1)\n",
    "plt.scatter(cylinders,MPGs,alpha=0.6)\n",
    "plt.xlabel('Cylinders')\n",
    "\n",
    "plt.subplot(2,2,2)\n",
    "plt.scatter(displacements,MPGs,alpha=0.6)\n",
    "plt.xlabel('Displacement')\n",
    "\n",
    "plt.subplot(2,2,3)\n",
    "plt.scatter(weights,MPGs,alpha=0.6)\n",
    "plt.xlabel('Weights')\n",
    "\n",
    "plt.subplot(2,2,4)\n",
    "plt.hist(MPGs,alpha=0.8)\n",
    "plt.xlabel('MPG')\n",
    "\n",
    "plt.show()"
   ],
   "metadata": {
    "collapsed": false,
    "pycharm": {
     "name": "#%%\n"
    }
   },
   "execution_count": 5,
   "outputs": [
    {
     "data": {
      "text/plain": "<Figure size 432x288 with 4 Axes>",
      "image/png": "[encoded data removed]"
     },
     "metadata": {
      "needs_background": "light"
     },
     "output_type": "display_data"
    }
   ]
  },
  {
   "cell_type": "markdown",
   "source": [
    "### 1.4.划分数据集\n",
    "按照8:2比例划分训练/测试集"
   ],
   "metadata": {
    "collapsed": false,
    "pycharm": {
     "name": "#%% md\n"
    }
   }
  },
  {
   "cell_type": "code",
   "execution_count": 6,
   "outputs": [],
   "source": [
    "train_dataset=dataset.sample(frac=.8,random_state=0)\n",
    "test_dataset=dataset.drop(train_dataset.index)"
   ],
   "metadata": {
    "collapsed": false,
    "pycharm": {
     "name": "#%%\n"
    }
   }
  },
  {
   "cell_type": "markdown",
   "source": [
    "将MPG字段作为标签，因此从train_dataset/test_dataset中移出"
   ],
   "metadata": {
    "collapsed": false,
    "pycharm": {
     "name": "#%% md\n"
    }
   }
  },
  {
   "cell_type": "code",
   "execution_count": 7,
   "outputs": [],
   "source": [
    "train_labels=train_dataset.pop('MPG')\n",
    "test_labels=test_dataset.pop('MPG')"
   ],
   "metadata": {
    "collapsed": false,
    "pycharm": {
     "name": "#%%\n"
    }
   }
  },
  {
   "cell_type": "markdown",
   "source": [
    "### 1.5.数据标准化\n",
    "统计训练集的各个字段的均值和标准差，并完成数据的标准化"
   ],
   "metadata": {
    "collapsed": false,
    "pycharm": {
     "name": "#%% md\n"
    }
   }
  },
  {
   "cell_type": "code",
   "execution_count": 8,
   "outputs": [
    {
     "name": "stdout",
     "output_type": "stream",
     "text": [
      "(314, 9)\n",
      "(78, 9)\n",
      "(314,)\n",
      "(78,)\n"
     ]
    }
   ],
   "source": [
    "# 查看训练集的输入X的统计数据\n",
    "train_stats=train_dataset.describe()\n",
    "# print(train_stats)\n",
    "import sys\n",
    "try:\n",
    "    train_stats.pop('MPG')\n",
    "    # print(train_stats)\n",
    "except Exception:\n",
    "    pass\n",
    "# 标准化数据\n",
    "def norm(x,stats):\n",
    "    '''\n",
    "    标准化，减去每个字段的均值，并除以标准差\n",
    "    :param x:\n",
    "    :return:\n",
    "    '''\n",
    "    return (x-stats.loc['mean'])/stats.loc['std']\n",
    "normed_train_data=norm(train_dataset,train_stats) # 标准化训练集\n",
    "normed_test_data=norm(test_dataset,train_stats) # 标准化测试集\n",
    "print(normed_train_data.shape)\n",
    "print(normed_test_data.shape)\n",
    "print(train_labels.shape)\n",
    "print(test_labels.shape)"
   ],
   "metadata": {
    "collapsed": false,
    "pycharm": {
     "name": "#%%\n"
    }
   }
  },
  {
   "cell_type": "markdown",
   "source": [
    "### 1.6.构建数据集对象\n",
    "利用切分的训练集数据构建数据集对象："
   ],
   "metadata": {
    "collapsed": false,
    "pycharm": {
     "name": "#%% md\n"
    }
   }
  },
  {
   "cell_type": "code",
   "execution_count": 9,
   "outputs": [],
   "source": [
    "train_db=tf.data.Dataset.from_tensor_slices(\n",
    "    (normed_train_data.values,train_labels.values)) # 构建Dataset对象\n",
    "train_db=train_db.shuffle(100).batch(32) # 随机打散，批量化"
   ],
   "metadata": {
    "collapsed": false,
    "pycharm": {
     "name": "#%%\n"
    }
   }
  },
  {
   "cell_type": "markdown",
   "source": [
    "## 2.创建网络\n",
    "\n",
    "考虑到Auto MPG数据集规模较小，我们只创建一个3层的全连接网络来完成MPG值的预测任务。<br>\n",
    "* 输入X的特征共有9种，因此第一层的输入节点数为9。\n",
    "* 第一层和第二层的输出节点数设计为64和64，由于只有一种预测值，输出层输出节点设计为1。\n",
    "* 由于MPG$\\in R^+$，因此输出层的激活函数可以不加，也可以添加ReLU激活函数。"
   ],
   "metadata": {
    "collapsed": false,
    "pycharm": {
     "name": "#%% md\n"
    }
   }
  },
  {
   "cell_type": "markdown",
   "source": [
    "### 2.1.设计自定义网络类\n",
    "\n",
    "将网络实现为一个自定义网络类，只需要在初始化函数中创建各个子网络层，并在前向计算函数call中实现自定义网络类的计算逻辑即可。<br>\n",
    "自定义网络类继承自`keras.Model`基类，这也是自定义网络的标准写法，以方便利用其提供的`trainable_variables`、`save_weights`等各种便捷功能。"
   ],
   "metadata": {
    "collapsed": false,
    "pycharm": {
     "name": "#%% md\n"
    }
   }
  },
  {
   "cell_type": "code",
   "execution_count": 10,
   "outputs": [],
   "source": [
    "class Network(keras.Model):\n",
    "    '''\n",
    "    回归网络模型\n",
    "    '''\n",
    "    def __init__(self):\n",
    "        super(Network,self).__init__()\n",
    "        # 创建3个全连接层\n",
    "        self.fc1=keras.layers.Dense(64,activation='relu')\n",
    "        self.fc2=keras.layers.Dense(64,activation='relu')\n",
    "        self.fc3=keras.layers.Dense(1)\n",
    "    def call(self,inputs,training=None,mask=None):\n",
    "        # 依次通过3个全连接层\n",
    "        x=self.fc1(inputs)\n",
    "        x=self.fc2(x)\n",
    "        x=self.fc3(x)\n",
    "\n",
    "        return x"
   ],
   "metadata": {
    "collapsed": false,
    "pycharm": {
     "name": "#%%\n"
    }
   }
  },
  {
   "cell_type": "markdown",
   "source": [
    "## 3.训练与测试\n",
    "\n",
    "### 3.1.实例化网络并创建优化器\n",
    "\n",
    "在完成主网络模型类的创建后，实例化网络对象和创建优化器，如下："
   ],
   "metadata": {
    "collapsed": false,
    "pycharm": {
     "name": "#%% md\n"
    }
   }
  },
  {
   "cell_type": "code",
   "execution_count": 11,
   "outputs": [
    {
     "name": "stdout",
     "output_type": "stream",
     "text": [
      "Model: \"network\"\n",
      "_________________________________________________________________\n",
      "Layer (type)                 Output Shape              Param #   \n",
      "=================================================================\n",
      "dense (Dense)                multiple                  640       \n",
      "_________________________________________________________________\n",
      "dense_1 (Dense)              multiple                  4160      \n",
      "_________________________________________________________________\n",
      "dense_2 (Dense)              multiple                  65        \n",
      "=================================================================\n",
      "Total params: 4,865\n",
      "Trainable params: 4,865\n",
      "Non-trainable params: 0\n",
      "_________________________________________________________________\n"
     ]
    }
   ],
   "source": [
    "model=Network() # 创建网络类实例\n",
    "# 通过build函数完成内部张量的创建，其中4为任意设置的batch数量，9为输入特征长度\n",
    "model.build(input_shape=(4,9))\n",
    "model.summary() # 打印网络信息\n",
    "optimizer=keras.optimizers.RMSprop(0.001) # 创建优化器，指定学习率"
   ],
   "metadata": {
    "collapsed": false,
    "pycharm": {
     "name": "#%%\n"
    }
   }
  },
  {
   "cell_type": "markdown",
   "source": [
    "### 3.2.循环训练\n",
    "\n",
    "通过Epoch和Step组成双层嵌套循环："
   ],
   "metadata": {
    "collapsed": false,
    "pycharm": {
     "name": "#%% md\n"
    }
   }
  },
  {
   "cell_type": "code",
   "execution_count": 12,
   "outputs": [
    {
     "name": "stdout",
     "output_type": "stream",
     "text": [
      "epoch[0]-step[0] loss:682.953857421875\n",
      "epoch[0]-step[5] loss:550.34765625\n",
      "WARNING:tensorflow:Layer network is casting an input tensor from dtype float64 to the layer's dtype of float32, which is new behavior in TensorFlow 2.  The layer has dtype float32 because it's dtype defaults to floatx.\n",
      "\n",
      "If you intended to run this layer in float32, you can safely ignore this warning. If in doubt, this warning is likely only an issue if you are porting a TensorFlow 1.X model to TensorFlow 2.\n",
      "\n",
      "To change all layers to have dtype float64 by default, call `tf.keras.backend.set_floatx('float64')`. To change just this layer, pass dtype='float64' to the layer constructor. If you are the author of this layer, you can disable autocasting by passing autocast=False to the base Layer constructor.\n",
      "\n",
      "epoch[1]-step[0] loss:555.0595092773438\n",
      "epoch[1]-step[5] loss:438.30511474609375\n",
      "epoch[2]-step[0] loss:550.3174438476562\n",
      "epoch[2]-step[5] loss:427.8591613769531\n",
      "epoch[3]-step[0] loss:386.0423278808594\n",
      "epoch[3]-step[5] loss:358.02618408203125\n",
      "epoch[4]-step[0] loss:324.1351623535156\n",
      "epoch[4]-step[5] loss:329.95172119140625\n",
      "epoch[5]-step[0] loss:189.56573486328125\n",
      "epoch[5]-step[5] loss:225.66921997070312\n",
      "epoch[6]-step[0] loss:192.308349609375\n",
      "epoch[6]-step[5] loss:137.39950561523438\n",
      "epoch[7]-step[0] loss:144.8760528564453\n",
      "epoch[7]-step[5] loss:107.17086029052734\n",
      "epoch[8]-step[0] loss:115.77323913574219\n",
      "epoch[8]-step[5] loss:79.35858917236328\n",
      "epoch[9]-step[0] loss:94.8209228515625\n",
      "epoch[9]-step[5] loss:85.04133605957031\n",
      "epoch[10]-step[0] loss:101.65016174316406\n",
      "epoch[10]-step[5] loss:77.68059539794922\n",
      "epoch[11]-step[0] loss:68.17277526855469\n",
      "epoch[11]-step[5] loss:90.68968200683594\n",
      "epoch[12]-step[0] loss:103.21327209472656\n",
      "epoch[12]-step[5] loss:75.00163269042969\n",
      "epoch[13]-step[0] loss:78.65608215332031\n",
      "epoch[13]-step[5] loss:68.49440002441406\n",
      "epoch[14]-step[0] loss:75.79319763183594\n",
      "epoch[14]-step[5] loss:63.500770568847656\n",
      "epoch[15]-step[0] loss:60.054115295410156\n",
      "epoch[15]-step[5] loss:63.764076232910156\n",
      "epoch[16]-step[0] loss:67.40921020507812\n",
      "epoch[16]-step[5] loss:71.14317321777344\n",
      "epoch[17]-step[0] loss:75.93199157714844\n",
      "epoch[17]-step[5] loss:70.4892349243164\n",
      "epoch[18]-step[0] loss:69.82982635498047\n",
      "epoch[18]-step[5] loss:86.08757019042969\n",
      "epoch[19]-step[0] loss:82.99626922607422\n",
      "epoch[19]-step[5] loss:62.47358322143555\n",
      "epoch[20]-step[0] loss:65.17042541503906\n",
      "epoch[20]-step[5] loss:64.56130981445312\n",
      "epoch[21]-step[0] loss:68.78147888183594\n",
      "epoch[21]-step[5] loss:57.364990234375\n",
      "epoch[22]-step[0] loss:65.64701843261719\n",
      "epoch[22]-step[5] loss:54.75115966796875\n",
      "epoch[23]-step[0] loss:80.74662780761719\n",
      "epoch[23]-step[5] loss:42.55957794189453\n",
      "epoch[24]-step[0] loss:57.63026428222656\n",
      "epoch[24]-step[5] loss:60.44041442871094\n",
      "epoch[25]-step[0] loss:69.92696380615234\n",
      "epoch[25]-step[5] loss:56.759071350097656\n",
      "epoch[26]-step[0] loss:72.39519500732422\n",
      "epoch[26]-step[5] loss:79.767578125\n",
      "epoch[27]-step[0] loss:51.263916015625\n",
      "epoch[27]-step[5] loss:61.97484588623047\n",
      "epoch[28]-step[0] loss:78.13352966308594\n",
      "epoch[28]-step[5] loss:46.05208969116211\n",
      "epoch[29]-step[0] loss:53.09398651123047\n",
      "epoch[29]-step[5] loss:62.54323959350586\n",
      "epoch[30]-step[0] loss:67.64180755615234\n",
      "epoch[30]-step[5] loss:41.77961730957031\n",
      "epoch[31]-step[0] loss:58.61836242675781\n",
      "epoch[31]-step[5] loss:58.088409423828125\n",
      "epoch[32]-step[0] loss:84.88673400878906\n",
      "epoch[32]-step[5] loss:64.90980529785156\n",
      "epoch[33]-step[0] loss:76.55838012695312\n",
      "epoch[33]-step[5] loss:60.61433410644531\n",
      "epoch[34]-step[0] loss:68.19536590576172\n",
      "epoch[34]-step[5] loss:50.22627639770508\n",
      "epoch[35]-step[0] loss:71.45225524902344\n",
      "epoch[35]-step[5] loss:70.8060073852539\n",
      "epoch[36]-step[0] loss:61.352325439453125\n",
      "epoch[36]-step[5] loss:83.99268341064453\n",
      "epoch[37]-step[0] loss:73.84054565429688\n",
      "epoch[37]-step[5] loss:62.23713684082031\n",
      "epoch[38]-step[0] loss:52.83406066894531\n",
      "epoch[38]-step[5] loss:56.28815460205078\n",
      "epoch[39]-step[0] loss:59.24858093261719\n",
      "epoch[39]-step[5] loss:50.95561981201172\n",
      "epoch[40]-step[0] loss:89.93275451660156\n",
      "epoch[40]-step[5] loss:54.30823516845703\n",
      "epoch[41]-step[0] loss:54.3004035949707\n",
      "epoch[41]-step[5] loss:47.8560791015625\n",
      "epoch[42]-step[0] loss:91.9108657836914\n",
      "epoch[42]-step[5] loss:54.115867614746094\n",
      "epoch[43]-step[0] loss:76.72730255126953\n",
      "epoch[43]-step[5] loss:36.44407272338867\n",
      "epoch[44]-step[0] loss:77.4826889038086\n",
      "epoch[44]-step[5] loss:49.56652069091797\n",
      "epoch[45]-step[0] loss:58.44278335571289\n",
      "epoch[45]-step[5] loss:77.91830444335938\n",
      "epoch[46]-step[0] loss:64.53638458251953\n",
      "epoch[46]-step[5] loss:68.92821502685547\n",
      "epoch[47]-step[0] loss:53.74667739868164\n",
      "epoch[47]-step[5] loss:65.91144561767578\n",
      "epoch[48]-step[0] loss:68.53318786621094\n",
      "epoch[48]-step[5] loss:65.21864318847656\n",
      "epoch[49]-step[0] loss:72.86676025390625\n",
      "epoch[49]-step[5] loss:54.0452880859375\n",
      "epoch[50]-step[0] loss:45.315704345703125\n",
      "epoch[50]-step[5] loss:68.62013244628906\n",
      "epoch[51]-step[0] loss:80.32131958007812\n",
      "epoch[51]-step[5] loss:82.34588623046875\n",
      "epoch[52]-step[0] loss:51.74829864501953\n",
      "epoch[52]-step[5] loss:58.824913024902344\n",
      "epoch[53]-step[0] loss:70.80534362792969\n",
      "epoch[53]-step[5] loss:76.02635192871094\n",
      "epoch[54]-step[0] loss:50.49504852294922\n",
      "epoch[54]-step[5] loss:59.093589782714844\n",
      "epoch[55]-step[0] loss:58.34135055541992\n",
      "epoch[55]-step[5] loss:30.252641677856445\n",
      "epoch[56]-step[0] loss:55.98951721191406\n",
      "epoch[56]-step[5] loss:34.308685302734375\n",
      "epoch[57]-step[0] loss:58.081783294677734\n",
      "epoch[57]-step[5] loss:81.56111145019531\n",
      "epoch[58]-step[0] loss:40.229339599609375\n",
      "epoch[58]-step[5] loss:31.77591896057129\n",
      "epoch[59]-step[0] loss:71.3179702758789\n",
      "epoch[59]-step[5] loss:59.03525161743164\n",
      "epoch[60]-step[0] loss:71.91981506347656\n",
      "epoch[60]-step[5] loss:47.29010009765625\n",
      "epoch[61]-step[0] loss:46.47287368774414\n",
      "epoch[61]-step[5] loss:62.00688934326172\n",
      "epoch[62]-step[0] loss:81.8923110961914\n",
      "epoch[62]-step[5] loss:61.92345428466797\n",
      "epoch[63]-step[0] loss:36.38901138305664\n",
      "epoch[63]-step[5] loss:77.60554504394531\n",
      "epoch[64]-step[0] loss:71.05360412597656\n",
      "epoch[64]-step[5] loss:91.64488220214844\n",
      "epoch[65]-step[0] loss:50.292518615722656\n",
      "epoch[65]-step[5] loss:56.154483795166016\n",
      "epoch[66]-step[0] loss:79.38722229003906\n",
      "epoch[66]-step[5] loss:72.87783813476562\n",
      "epoch[67]-step[0] loss:90.94728088378906\n",
      "epoch[67]-step[5] loss:54.183956146240234\n",
      "epoch[68]-step[0] loss:73.18104553222656\n",
      "epoch[68]-step[5] loss:66.50982666015625\n",
      "epoch[69]-step[0] loss:58.14807891845703\n",
      "epoch[69]-step[5] loss:40.23280334472656\n",
      "epoch[70]-step[0] loss:42.742637634277344\n",
      "epoch[70]-step[5] loss:48.63987731933594\n",
      "epoch[71]-step[0] loss:70.08505249023438\n",
      "epoch[71]-step[5] loss:66.30155944824219\n",
      "epoch[72]-step[0] loss:70.26057434082031\n",
      "epoch[72]-step[5] loss:46.694427490234375\n",
      "epoch[73]-step[0] loss:66.82505798339844\n",
      "epoch[73]-step[5] loss:47.78949737548828\n",
      "epoch[74]-step[0] loss:58.46989822387695\n",
      "epoch[74]-step[5] loss:59.086669921875\n",
      "epoch[75]-step[0] loss:62.585899353027344\n",
      "epoch[75]-step[5] loss:47.0368766784668\n",
      "epoch[76]-step[0] loss:40.98789978027344\n",
      "epoch[76]-step[5] loss:82.57069396972656\n",
      "epoch[77]-step[0] loss:57.634033203125\n",
      "epoch[77]-step[5] loss:53.13252639770508\n",
      "epoch[78]-step[0] loss:73.71768188476562\n",
      "epoch[78]-step[5] loss:55.91423416137695\n",
      "epoch[79]-step[0] loss:51.664520263671875\n",
      "epoch[79]-step[5] loss:72.39044952392578\n",
      "epoch[80]-step[0] loss:55.306541442871094\n",
      "epoch[80]-step[5] loss:56.715538024902344\n",
      "epoch[81]-step[0] loss:63.350196838378906\n",
      "epoch[81]-step[5] loss:60.19060516357422\n",
      "epoch[82]-step[0] loss:82.0260009765625\n",
      "epoch[82]-step[5] loss:51.197425842285156\n",
      "epoch[83]-step[0] loss:79.13241577148438\n",
      "epoch[83]-step[5] loss:62.31556701660156\n",
      "epoch[84]-step[0] loss:75.89189147949219\n",
      "epoch[84]-step[5] loss:60.76010513305664\n",
      "epoch[85]-step[0] loss:78.5965576171875\n",
      "epoch[85]-step[5] loss:51.243446350097656\n",
      "epoch[86]-step[0] loss:49.237037658691406\n",
      "epoch[86]-step[5] loss:56.36992645263672\n",
      "epoch[87]-step[0] loss:61.77949905395508\n",
      "epoch[87]-step[5] loss:48.150962829589844\n",
      "epoch[88]-step[0] loss:87.8103256225586\n",
      "epoch[88]-step[5] loss:53.63837432861328\n",
      "epoch[89]-step[0] loss:58.289207458496094\n",
      "epoch[89]-step[5] loss:64.01669311523438\n",
      "epoch[90]-step[0] loss:54.062015533447266\n",
      "epoch[90]-step[5] loss:51.075828552246094\n",
      "epoch[91]-step[0] loss:47.13570022583008\n",
      "epoch[91]-step[5] loss:60.48179626464844\n",
      "epoch[92]-step[0] loss:80.26388549804688\n",
      "epoch[92]-step[5] loss:37.513038635253906\n",
      "epoch[93]-step[0] loss:60.11794662475586\n",
      "epoch[93]-step[5] loss:56.42688751220703\n",
      "epoch[94]-step[0] loss:51.50025177001953\n",
      "epoch[94]-step[5] loss:62.00176239013672\n",
      "epoch[95]-step[0] loss:62.203330993652344\n",
      "epoch[95]-step[5] loss:60.856285095214844\n",
      "epoch[96]-step[0] loss:48.132408142089844\n",
      "epoch[96]-step[5] loss:74.74180603027344\n",
      "epoch[97]-step[0] loss:66.29166412353516\n",
      "epoch[97]-step[5] loss:51.33885192871094\n",
      "epoch[98]-step[0] loss:69.73172760009766\n",
      "epoch[98]-step[5] loss:41.72076416015625\n",
      "epoch[99]-step[0] loss:68.04100036621094\n",
      "epoch[99]-step[5] loss:86.44367980957031\n"
     ]
    }
   ],
   "source": [
    "train_mses=[]\n",
    "train_maes=[]\n",
    "test_mses=[]\n",
    "test_maes=[]\n",
    "for epoch in range(100): # 200个Epoch\n",
    "    for step,(x,y) in enumerate(train_db): # 遍历一次\n",
    "        x=tf.cast(x,dtype=tf.float32)\n",
    "        y=tf.cast(y,dtype=tf.float32)\n",
    "        # 梯度记录器\n",
    "        with tf.GradientTape() as tape:\n",
    "            out=model(x) # 通过网络获得输出\n",
    "            each_loss=keras.losses.MSE(y,out) # 计算batch里的每个样本的MSE\n",
    "            mean_mse_loss=tf.reduce_mean(each_loss) # 计算batch里的样本的平均MSE loss\n",
    "            mean_mae_loss=tf.reduce_mean(keras.losses.MAE(y,out)) # 计算样本平均 MAE loss\n",
    "        if step % 5==0:\n",
    "            print(f'epoch[{epoch}]-step[{step}] loss:{float(mean_mse_loss)}')\n",
    "        grads=tape.gradient(mean_mse_loss,model.trainable_variables)\n",
    "        optimizer.apply_gradients(zip(grads,model.trainable_variables)) # 此处可对比a05.08的写法，有何不同？\n",
    "\n",
    "    train_mses.append(mean_mse_loss)\n",
    "    train_maes.append(mean_mae_loss)\n",
    "    # 使用测试集验证\n",
    "    test_out=model(tf.constant(normed_test_data.values))\n",
    "    test_mses.append(tf.reduce_mean(keras.losses.MSE(test_labels,out)))\n",
    "    test_maes.append(tf.reduce_mean(keras.losses.MAE(test_labels,out)))"
   ],
   "metadata": {
    "collapsed": false,
    "pycharm": {
     "name": "#%%\n"
    }
   }
  },
  {
   "cell_type": "markdown",
   "source": [
    "对于回归问题，不仅可用MSE来测试模型性能，也可用平均绝对误差(Mean Absolute Error)MAE来衡量模型性能：\n",
    "\n",
    "${\\rm mae}\\triangleq\\frac1{d_{\\rm out}}\\sum_i|y_i-o_i|$\n",
    "\n",
    "此处考虑用MSE来更新训练参数，用MSE和MAE来观测模型性能："
   ],
   "metadata": {
    "collapsed": false,
    "pycharm": {
     "name": "#%% md\n"
    }
   }
  },
  {
   "cell_type": "code",
   "execution_count": 13,
   "outputs": [
    {
     "data": {
      "text/plain": "<Figure size 432x288 with 1 Axes>",
      "image/png": "[encoded data removed]"
     },
     "metadata": {
      "needs_background": "light"
     },
     "output_type": "display_data"
    }
   ],
   "source": [
    "xaxis=[i*5 for i in range(len(train_maes))]\n",
    "plt.plot(xaxis,train_mses,color='r',label='TRAIN MSE')\n",
    "plt.plot(xaxis,train_maes,color='g',label='TRIAN MAE')\n",
    "plt.plot(xaxis,test_mses,color='b',label='TEST MSE')\n",
    "plt.plot(xaxis,test_maes,color='m',label='TEST MAE')\n",
    "plt.legend()\n",
    "plt.show()"
   ],
   "metadata": {
    "collapsed": false,
    "pycharm": {
     "name": "#%%\n"
    }
   }
  },
  {
   "cell_type": "code",
   "execution_count": null,
   "outputs": [],
   "source": [
    "import os\n",
    "pid=os.getpid()\n",
    "!kill -9 $pid\n",
    "\n",
    "\n"
   ],
   "metadata": {
    "collapsed": false,
    "pycharm": {
     "name": "#%%\n",
     "is_executing": true
    }
   }
  }
 ],
 "metadata": {
  "kernelspec": {
   "display_name": "Python 3",
   "language": "python",
   "name": "python3"
  },
  "language_info": {
   "codemirror_mode": {
    "name": "ipython",
    "version": 2
   },
   "file_extension": ".py",
   "mimetype": "text/x-python",
   "name": "python",
   "nbconvert_exporter": "python",
   "pygments_lexer": "ipython2",
   "version": "2.7.6"
  }
 },
 "nbformat": 4,
 "nbformat_minor": 0
}