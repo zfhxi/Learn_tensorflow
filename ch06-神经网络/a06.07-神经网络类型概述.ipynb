{
 "cells": [
  {
   "cell_type": "markdown",
   "source": [
    "## 0.前言\n",
    "\n",
    "* 全连接层是最基本的网络类型。\n",
    "* 计算流程相对简单，梯度求导也较简单。\n",
    "* 缺陷是处理较大特征长度的数据时，全连接层的参数量往往较大，使得深层数的全连接网络参数量巨大，训练起来比较困难。\n",
    "\n",
    "## 1.卷积神经网络\n",
    "\n",
    "* 全连接层在处理高纬度图片、视频数据时，网络参数巨大，训练困难\n",
    "* 利用局部相关性和权值共享的思想，Yann Lecun在1986年提出了CNN\n",
    "\n",
    "## 2.循环神经网络\n",
    "\n",
    "* 序列信号也是常见的数据类型，比如文本数据\n",
    "* CNN缺乏Memory机制和处理不定长序列信号的能力，并不擅长序列信号任务\n",
    "* RNN在Yoshua Bengio、Jurgen Schmidhuber等人研究下，被证明擅长处理序列信号\n",
    "\n",
    "## 3.注意力网络\n",
    "\n",
    "* RNN并非NLP的最终解决方案，由于注意力机制的提出，克服了RNN训练不稳定、难以并行化等缺陷\n",
    "* 注意力机制最初用于图片分类，后逐渐侵蚀NLP任务\n",
    "* 2017，Google提出纯注意力机制实现的网络Transform\n",
    "\n",
    "## 4.图卷积神经网络\n",
    "\n",
    "* 图片、文本等数据具有规则空间、时间结构，称为Euclidean Data（欧几里德数据）。CNN、RNN被证明擅长处理这类数据。\n",
    "* 社交网络、通信网络、蛋白质分子结构等一系列的不规则空间拓扑结构的数据，CNN、RNN难以处理。\n",
    "* 2016，Tomas Kipf等人基于前人在一阶近似的谱卷积算法上提出了GCN\n",
    "* GCN算法实现简单，在半监督任务上取得了不错效果\n",
    "\n",
    "\n",
    "\n"
   ],
   "metadata": {
    "collapsed": false,
    "pycharm": {
     "name": "#%% md\n"
    }
   }
  }
 ],
 "metadata": {
  "kernelspec": {
   "display_name": "Python 3",
   "language": "python",
   "name": "python3"
  },
  "language_info": {
   "codemirror_mode": {
    "name": "ipython",
    "version": 2
   },
   "file_extension": ".py",
   "mimetype": "text/x-python",
   "name": "python",
   "nbconvert_exporter": "python",
   "pygments_lexer": "ipython2",
   "version": "2.7.6"
  }
 },
 "nbformat": 4,
 "nbformat_minor": 0
}