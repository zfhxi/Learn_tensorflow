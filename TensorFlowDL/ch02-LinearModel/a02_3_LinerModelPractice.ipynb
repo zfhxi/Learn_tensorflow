{
 "cells": [
  {
   "cell_type": "code",
   "execution_count": 23,
   "outputs": [],
   "source": [
    "import numpy as np\n",
    "import matplotlib as mpl\n"
   ],
   "metadata": {
    "collapsed": false,
    "pycharm": {
     "name": "#%%\n"
    }
   }
  },
  {
   "cell_type": "markdown",
   "metadata": {
    "collapsed": true,
    "pycharm": {
     "name": "#%% md\n"
    }
   },
   "source": [
    "## 1.采样数据并加入噪声"
   ]
  },
  {
   "cell_type": "code",
   "execution_count": 24,
   "outputs": [],
   "source": [
    "def load_data():\n",
    "    data=list()\n",
    "    for i in range(100):\n",
    "        x=np.random.uniform(-10.,10.)\n",
    "        eps=np.random.normal(0.,1)\n",
    "        y=1.447*x+0.089+eps\n",
    "        data.append([x,y])\n",
    "    data=np.array(data)\n",
    "    data2=np.genfromtxt('data.csv',delimiter=',')\n",
    "\n",
    "    return data2"
   ],
   "metadata": {
    "collapsed": false,
    "pycharm": {
     "name": "#%%\n"
    }
   }
  },
  {
   "cell_type": "markdown",
   "source": [
    "## 2.计算误差"
   ],
   "metadata": {
    "collapsed": false,
    "pycharm": {
     "name": "#%% md\n"
    }
   }
  },
  {
   "cell_type": "code",
   "execution_count": 25,
   "outputs": [],
   "source": [
    "def mse(b,w,points):\n",
    "    total_error=0\n",
    "    for i in range(0,len(points)):\n",
    "        x=points[i,0]\n",
    "        y=points[i,1]\n",
    "        total_error+=(y-(w*x+b))**2\n",
    "    return total_error/float(len(points))"
   ],
   "metadata": {
    "collapsed": false,
    "pycharm": {
     "name": "#%%\n"
    }
   }
  },
  {
   "cell_type": "code",
   "source": [
    "## 3.计算梯度"
   ],
   "metadata": {
    "collapsed": false,
    "pycharm": {
     "name": "#%% mgradient_descentd\n"
    }
   },
   "execution_count": 26,
   "outputs": []
  },
  {
   "cell_type": "code",
   "execution_count": 27,
   "outputs": [],
   "source": [
    "def step_gradient(b_current,w_current,points,lr):\n",
    "    b_gradient=0\n",
    "    w_gradient=0\n",
    "    M=float(len(points))\n",
    "    for i in range(0,len(points)):\n",
    "        x=points[i,0]\n",
    "        y=points[i,1]\n",
    "        b_gradient+=(2/M)*((w_current*x+b_current)-y)\n",
    "        w_gradient+=(2/M)*x*((w_current*x+b_current)-y)\n",
    "    new_b=b_current-lr*b_gradient\n",
    "    new_w=w_current-lr*w_gradient\n",
    "    return [new_b,new_w]"
   ],
   "metadata": {
    "collapsed": false,
    "pycharm": {
     "name": "#%%\n"
    }
   }
  },
  {
   "cell_type": "markdown",
   "source": [
    "## 4.梯度更新"
   ],
   "metadata": {
    "collapsed": false,
    "pycharm": {
     "name": "#%% md\n"
    }
   }
  },
  {
   "cell_type": "code",
   "execution_count": 28,
   "outputs": [],
   "source": [
    "all_loss=[]\n",
    "def gradient_descent(points,starting_b,starting_w,lr,num_iterations):\n",
    "    global all_loss\n",
    "    b=starting_b\n",
    "    w=starting_w\n",
    "    for step in range(num_iterations):\n",
    "        b,w=step_gradient(b_current=b,w_current=w,points=np.array(points),lr=lr)\n",
    "        loss=mse(b,w,points)\n",
    "        all_loss.append(loss)\n",
    "        if step%50==0:\n",
    "            print(f\"iteration:{step}, loss:{loss}, w:{w}, b:{b}\")\n",
    "    return [b,w]"
   ],
   "metadata": {
    "collapsed": false,
    "pycharm": {
     "name": "#%%\n"
    }
   }
  },
  {
   "cell_type": "markdown",
   "source": [
    "## 5.main"
   ],
   "metadata": {
    "collapsed": false,
    "pycharm": {
     "name": "#%% md\n"
    }
   }
  },
  {
   "cell_type": "code",
   "execution_count": 29,
   "outputs": [
    {
     "name": "stdout",
     "output_type": "stream",
     "text": [
      "iteration:0, loss:1484.586557408649, w:0.7370702973591052, b:0.014547010110737297\n",
      "iteration:50, loss:112.64882489409928, w:1.4788605608606418, b:0.032131992902294806\n",
      "iteration:100, loss:112.64702056974568, w:1.4788015372774521, b:0.035135020029129285\n",
      "iteration:150, loss:112.64521760674101, w:1.4787425359648851, b:0.03813691406164161\n",
      "iteration:200, loss:112.64341600405817, w:1.478683556914539, b:0.04113767542736797\n",
      "iteration:250, loss:112.64161576067083, w:1.478624600118013, b:0.044137304553683254\n",
      "iteration:300, loss:112.63981687555349, w:1.4785656655669115, b:0.047135801867801\n",
      "iteration:350, loss:112.63801934768121, w:1.47850675325284, b:0.05013316779677366\n",
      "iteration:400, loss:112.63622317603011, w:1.4784478631674083, b:0.05312940276749252\n",
      "iteration:450, loss:112.63442835957675, w:1.4783889953022293, b:0.05612450720668775\n",
      "iteration:500, loss:112.63263489729884, w:1.478330149648919, b:0.05911848154092854\n",
      "iteration:550, loss:112.63084278817455, w:1.478271326199096, b:0.06211132619662314\n",
      "iteration:600, loss:112.62905203118288, w:1.4782125249443832, b:0.06510304160001891\n",
      "iteration:650, loss:112.62726262530379, w:1.4781537458764056, b:0.06809362817720238\n",
      "iteration:700, loss:112.62547456951779, w:1.4780949889867918, b:0.07108308635409925\n",
      "iteration:750, loss:112.6236878628063, w:1.4780362542671734, b:0.07407141655647455\n",
      "iteration:800, loss:112.62190250415141, w:1.4779775417091856, b:0.0770586192099327\n",
      "iteration:850, loss:112.62011849253598, w:1.4779188513044663, b:0.0800446947399175\n",
      "iteration:900, loss:112.61833582694376, w:1.4778601830446565, b:0.08302964357171226\n",
      "iteration:950, loss:112.6165545063592, w:1.4778015369214006, b:0.08601346613043973\n",
      "Final loss:112.61481011613473, w:1.4777440851894448, b:0.08893651993741346\n"
     ]
    }
   ],
   "source": [
    "b=0\n",
    "w=0\n",
    "def main():\n",
    "    global b\n",
    "    global w\n",
    "    lr=0.0001\n",
    "    initial_b=0\n",
    "    initial_w=0\n",
    "    num_iterations=1000\n",
    "\n",
    "    data=load_data()\n",
    "    [b,w]=gradient_descent(data,initial_b,initial_w,lr,num_iterations)\n",
    "    loss=mse(b,w,data)\n",
    "    print(f'Final loss:{loss}, w:{w}, b:{b}')\n",
    "\n",
    "main()"
   ],
   "metadata": {
    "collapsed": false,
    "pycharm": {
     "name": "#%%\n"
    }
   }
  },
  {
   "cell_type": "markdown",
   "source": [
    "尝试画出生成的散点图和拟合的曲线"
   ],
   "metadata": {
    "collapsed": false,
    "pycharm": {
     "name": "#%% md\n"
    }
   }
  },
  {
   "cell_type": "code",
   "execution_count": 30,
   "outputs": [
    {
     "data": {
      "text/plain": "<Figure size 432x288 with 1 Axes>",
      "image/png": "[encoded data removed]"
     },
     "metadata": {
      "needs_background": "light"
     },
     "output_type": "display_data"
    },
    {
     "data": {
      "text/plain": "<Figure size 432x288 with 1 Axes>",
      "image/png": "[encoded data removed]"
     },
     "metadata": {
      "needs_background": "light"
     },
     "output_type": "display_data"
    }
   ],
   "source": [
    "import matplotlib.pyplot as plt\n",
    "import math\n",
    "## 散点\n",
    "data=load_data()\n",
    "##拟合的曲线\n",
    "x=np.linspace(math.floor(min(data[:,0])),math.ceil(max(data[:,0])),100)\n",
    "y=w*x+b\n",
    "\n",
    "plt.scatter(data[:,0],data[:,1],alpha=0.6)\n",
    "plt.plot(x,y,color='r')\n",
    "plt.show()\n",
    "\n",
    "iter=range(0,len(all_loss))\n",
    "plt.plot(iter,all_loss)\n",
    "plt.show()\n"
   ],
   "metadata": {
    "collapsed": false,
    "pycharm": {
     "name": "#%%\n"
    }
   }
  }
 ],
 "metadata": {
  "kernelspec": {
   "display_name": "Python 3",
   "language": "python",
   "name": "python3"
  },
  "language_info": {
   "codemirror_mode": {
    "name": "ipython",
    "version": 2
   },
   "file_extension": ".py",
   "mimetype": "text/x-python",
   "name": "python",
   "nbconvert_exporter": "python",
   "pygments_lexer": "ipython2",
   "version": "2.7.6"
  }
 },
 "nbformat": 4,
 "nbformat_minor": 0
}