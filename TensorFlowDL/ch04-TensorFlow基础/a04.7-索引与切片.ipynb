{
 "cells": [
  {
   "cell_type": "code",
   "execution_count": 1,
   "metadata": {
    "collapsed": true
   },
   "outputs": [],
   "source": [
    "import tensorflow as tf\n",
    "\n",
    "x=tf.random.normal([4,32,32,3]) # 创建4D张量"
   ]
  },
  {
   "cell_type": "markdown",
   "source": [
    "## 1.索引"
   ],
   "metadata": {
    "collapsed": false,
    "pycharm": {
     "name": "#%% md\n"
    }
   }
  },
  {
   "cell_type": "code",
   "execution_count": 2,
   "outputs": [
    {
     "name": "stdout",
     "output_type": "stream",
     "text": [
      "(32, 32, 3)\n",
      "(32, 3)\n",
      "(3,)\n",
      "()\n"
     ]
    }
   ],
   "source": [
    "print(x[0].shape) #第一张图片\n",
    "print(x[0][1].shape) #第一张图片的第二行\n",
    "print(x[0][1][2].shape) #第一张图片的第二行的第三列\n",
    "print(x[2][1][0][1].shape) #第三张图片的第二行的第一列的第2通道颜色强度值"
   ],
   "metadata": {
    "collapsed": false,
    "pycharm": {
     "name": "#%%\n"
    }
   }
  },
  {
   "cell_type": "markdown",
   "source": [
    "当张量x维数较高时，使用$[i][j]...[k]$不方便，可以写为等价的$[i,j,...,k]$，两者取出等值的不同对象"
   ],
   "metadata": {
    "collapsed": false,
    "pycharm": {
     "name": "#%% md\n"
    }
   }
  },
  {
   "cell_type": "code",
   "execution_count": 3,
   "outputs": [
    {
     "name": "stdout",
     "output_type": "stream",
     "text": [
      "False\n",
      "tf.Tensor(True, shape=(), dtype=bool)\n"
     ]
    }
   ],
   "source": [
    "print(x[2][1][0][1] is x[2,1,0,1])\n",
    "print(x[2][1][0][1] == x[2,1,0,1])"
   ],
   "metadata": {
    "collapsed": false,
    "pycharm": {
     "name": "#%%\n"
    }
   }
  },
  {
   "cell_type": "markdown",
   "source": [
    "## 2.切片\n",
    "\n",
    "通过start:end:step切片方式提取\\[start:end)区间内按step步长选择的一段数据"
   ],
   "metadata": {
    "collapsed": false,
    "pycharm": {
     "name": "#%% md\n"
    }
   }
  },
  {
   "cell_type": "code",
   "execution_count": 4,
   "outputs": [
    {
     "name": "stdout",
     "output_type": "stream",
     "text": [
      "(2, 32, 32, 3)\n",
      "(2, 32, 32, 3)\n",
      "tf.Tensor(True, shape=(), dtype=bool)\n"
     ]
    }
   ],
   "source": [
    "print(x[1:3].shape) # 等价提取x[1],x[2]的拼接\n",
    "x_1=tf.expand_dims(x[1],axis=0)\n",
    "x_2=tf.expand_dims(x[2],axis=0)\n",
    "print(tf.concat([x_1,x_2],axis=0).shape)\n",
    "print(tf.reduce_all(x[1:3]==tf.concat([x_1,x_2],axis=0)))"
   ],
   "metadata": {
    "collapsed": false,
    "pycharm": {
     "name": "#%%\n"
    }
   }
  },
  {
   "cell_type": "markdown",
   "source": [
    "切片的各种省略\n",
    "`::`可简写为`:`\n",
    "所有的切片方式如下：\n",
    "\n",
    "![](https://github.com/zfhxi/Learn_tensorflow/blob/master/TensorFlowDL/ch04-TensorFlow%E5%9F%BA%E7%A1%80/img/01.png?raw=true)\n",
    "![](https://github.com/zfhxi/Learn_tensorflow/blob/master/TensorFlowDL/ch04-TensorFlow%E5%9F%BA%E7%A1%80/img/02.png?raw=true)"
   ],
   "metadata": {
    "collapsed": false,
    "pycharm": {
     "name": "#%% md\n"
    }
   }
  },
  {
   "cell_type": "code",
   "execution_count": 5,
   "outputs": [
    {
     "name": "stdout",
     "output_type": "stream",
     "text": [
      "(4, 32, 32, 3)\n",
      "(32, 32, 3)\n",
      "(4, 14, 14, 3)\n",
      "(2, 32, 32)\n",
      "(2, 32, 32, 3)\n",
      "(4, 32, 32, 2)\n"
     ]
    }
   ],
   "source": [
    "print(x[::].shape) # 全省略，步长为1\n",
    "print(x[0,::].shape) # 读取第一张所有行\n",
    "print(x[:,0:28:2,0:28:2,:].shape) # 读取指定区间的数据\n",
    "\n",
    "print(x[0:2,...,1].shape) # 第1-2两张，高宽维度全采集，但只采集G通道\n",
    "print(x[2:,...].shape) # 读取最后两张，高宽全通道采集，等价于x[2:]\n",
    "print(x[...,:2].shape) # 所有样本，所有高、宽的前两个通道"
   ],
   "metadata": {
    "collapsed": false,
    "pycharm": {
     "name": "#%%\n"
    }
   }
  },
  {
   "cell_type": "code",
   "execution_count": null,
   "outputs": [],
   "source": [
    "import os\n",
    "pid=os.getpid()\n",
    "!kill -9 $pid"
   ],
   "metadata": {
    "collapsed": false,
    "pycharm": {
     "name": "#%%\n",
     "is_executing": true
    }
   }
  }
 ],
 "metadata": {
  "kernelspec": {
   "display_name": "Python 3",
   "language": "python",
   "name": "python3"
  },
  "language_info": {
   "codemirror_mode": {
    "name": "ipython",
    "version": 2
   },
   "file_extension": ".py",
   "mimetype": "text/x-python",
   "name": "python",
   "nbconvert_exporter": "python",
   "pygments_lexer": "ipython2",
   "version": "2.7.6"
  }
 },
 "nbformat": 4,
 "nbformat_minor": 0
}