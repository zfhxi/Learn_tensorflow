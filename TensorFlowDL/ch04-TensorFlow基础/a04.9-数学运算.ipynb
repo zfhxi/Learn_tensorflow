{
 "cells": [
  {
   "cell_type": "code",
   "execution_count": 1,
   "metadata": {
    "collapsed": true
   },
   "outputs": [],
   "source": [
    "import tensorflow as tf"
   ]
  },
  {
   "cell_type": "markdown",
   "source": [
    "## 1.加减乘除运算\n",
    "* `tf.add`,`tf.subtract`,`tf.multiply`,`tf.divide`分别与`+-*/`对应\n",
    "* 整除和余除:`//`、`%`"
   ],
   "metadata": {
    "collapsed": false,
    "pycharm": {
     "name": "#%% md\n"
    }
   }
  },
  {
   "cell_type": "code",
   "execution_count": 2,
   "outputs": [
    {
     "name": "stdout",
     "output_type": "stream",
     "text": [
      "tf.Tensor([0 0 1 1 2], shape=(5,), dtype=int32)\n",
      "tf.Tensor([0 1 0 1 0], shape=(5,), dtype=int32)\n"
     ]
    }
   ],
   "source": [
    "# 整除\n",
    "a=tf.range(5)\n",
    "b=tf.constant(2)\n",
    "print(a//b)\n",
    "print(a%b)"
   ],
   "metadata": {
    "collapsed": false,
    "pycharm": {
     "name": "#%%\n"
    }
   }
  },
  {
   "cell_type": "markdown",
   "source": [
    "## 2.乘方运算\n",
    "实现$y=x^a$:\n",
    "* `tf.pow(x,a)`\n",
    "* `x**a`"
   ],
   "metadata": {
    "collapsed": false,
    "pycharm": {
     "name": "#%% md\n"
    }
   }
  },
  {
   "cell_type": "code",
   "execution_count": 3,
   "outputs": [
    {
     "name": "stdout",
     "output_type": "stream",
     "text": [
      "tf.Tensor([ 0  1  8 27], shape=(4,), dtype=int32)\n",
      "tf.Tensor([0 1 4 9], shape=(4,), dtype=int32)\n",
      "tf.Tensor([1. 2. 3.], shape=(3,), dtype=float32)\n"
     ]
    }
   ],
   "source": [
    "x=tf.range(4)\n",
    "print(tf.pow(x,3))\n",
    "print(x**2)\n",
    "x1=tf.constant([1.,4.,9.])\n",
    "print(x1**.5)"
   ],
   "metadata": {
    "collapsed": false,
    "pycharm": {
     "name": "#%%\n"
    }
   }
  },
  {
   "cell_type": "markdown",
   "source": [
    "其他乘方运算：\n",
    "* `tf.square(x)`\n",
    "* `tf.sqrt(x)`，x必须为浮点数"
   ],
   "metadata": {
    "collapsed": false,
    "pycharm": {
     "name": "#%% md\n"
    }
   }
  },
  {
   "cell_type": "code",
   "execution_count": 4,
   "outputs": [
    {
     "name": "stdout",
     "output_type": "stream",
     "text": [
      "tf.Tensor(True, shape=(), dtype=bool)\n",
      "tf.Tensor(True, shape=(), dtype=bool)\n"
     ]
    }
   ],
   "source": [
    "# 平方\n",
    "print(tf.square(4)==4**2)\n",
    "print(tf.sqrt(4.)==4.**.5)"
   ],
   "metadata": {
    "collapsed": false,
    "pycharm": {
     "name": "#%%\n"
    }
   }
  },
  {
   "cell_type": "markdown",
   "source": [
    "## 3.指数和对数运算\n",
    "实现$y=a^x$:\n",
    "* `tf.pow(a,x)`\n",
    "* `a**x`\n"
   ],
   "metadata": {
    "collapsed": false,
    "pycharm": {
     "name": "#%% md\n"
    }
   }
  },
  {
   "cell_type": "code",
   "execution_count": 5,
   "outputs": [
    {
     "name": "stdout",
     "output_type": "stream",
     "text": [
      "tf.Tensor([2. 4. 8.], shape=(3,), dtype=float32)\n"
     ]
    }
   ],
   "source": [
    "# 指数运算\n",
    "x=tf.constant([1.,2.,3.])\n",
    "print(2**x)"
   ],
   "metadata": {
    "collapsed": false,
    "pycharm": {
     "name": "#%%\n"
    }
   }
  },
  {
   "cell_type": "markdown",
   "source": [
    "对于自然指数$e^x$，可通过`tf.exp(x)`实现："
   ],
   "metadata": {
    "collapsed": false,
    "pycharm": {
     "name": "#%% md\n"
    }
   }
  },
  {
   "cell_type": "code",
   "execution_count": 6,
   "outputs": [
    {
     "name": "stdout",
     "output_type": "stream",
     "text": [
      "tf.Tensor(7.389056, shape=(), dtype=float32)\n"
     ]
    }
   ],
   "source": [
    "print(tf.exp(2.))"
   ],
   "metadata": {
    "collapsed": false,
    "pycharm": {
     "name": "#%%\n"
    }
   }
  },
  {
   "cell_type": "markdown",
   "source": [
    "对于自然对数，可以通过`tf.math.log(x)`实现："
   ],
   "metadata": {
    "collapsed": false,
    "pycharm": {
     "name": "#%% md\n"
    }
   }
  },
  {
   "cell_type": "code",
   "execution_count": 7,
   "outputs": [
    {
     "name": "stdout",
     "output_type": "stream",
     "text": [
      "tf.Tensor(8.9, shape=(), dtype=float32)\n"
     ]
    }
   ],
   "source": [
    "x=tf.exp(8.9)\n",
    "y=tf.math.log(x)\n",
    "print(y)"
   ],
   "metadata": {
    "collapsed": false,
    "pycharm": {
     "name": "#%%\n"
    }
   }
  },
  {
   "cell_type": "markdown",
   "source": [
    "对于其他底数的对数，通过换底公式:\n",
    "\n",
    "$$\\mathrm{log}_ax=\\frac{\\mathrm{log}_ex}{\\mathrm{log}_ea}$$\n",
    "\n",
    "如计算$\\mathrm{log}_{10}x$："
   ],
   "metadata": {
    "collapsed": false,
    "pycharm": {
     "name": "#%% md\n"
    }
   }
  },
  {
   "cell_type": "code",
   "execution_count": 8,
   "outputs": [
    {
     "name": "stdout",
     "output_type": "stream",
     "text": [
      "tf.Tensor([2.  3.4], shape=(2,), dtype=float32)\n"
     ]
    }
   ],
   "source": [
    "x=tf.constant([2.,3.4])\n",
    "x1=10**x\n",
    "print(tf.math.log(x1)/tf.math.log(10.))"
   ],
   "metadata": {
    "collapsed": false,
    "pycharm": {
     "name": "#%%\n"
    }
   }
  },
  {
   "cell_type": "markdown",
   "source": [
    "## 4.矩阵相乘运算\n",
    "\n",
    "矩阵相乘的实现：\n",
    "* `A@B`\n",
    "* `tf.matmul(A,B)`\n",
    "\n",
    ">需要注意的是,TensorFlow中的矩阵相乘可以使用批量方式,也就是张量A和B的维度数可以大于2。\n",
    "> 当张量A和B维度数大于2时,TensorFlow会选择A和B的最后两个维度进行矩阵相乘,前面所有的维度都视作Batch维度"
   ],
   "metadata": {
    "collapsed": false,
    "pycharm": {
     "name": "#%% md\n"
    }
   }
  },
  {
   "cell_type": "code",
   "execution_count": 9,
   "outputs": [
    {
     "name": "stdout",
     "output_type": "stream",
     "text": [
      "(4, 3, 28, 2)\n"
     ]
    }
   ],
   "source": [
    "A=tf.random.normal([4,3,28,32])\n",
    "B=tf.random.normal([4,3,32,2])\n",
    "C=A@B\n",
    "print(C.shape)"
   ],
   "metadata": {
    "collapsed": false,
    "pycharm": {
     "name": "#%%\n"
    }
   }
  },
  {
   "cell_type": "markdown",
   "source": [
    "矩阵相乘同样支持自动\n",
    "\n",
    "Broadcasting机制"
   ],
   "metadata": {
    "collapsed": false,
    "pycharm": {
     "name": "#%% md\n"
    }
   }
  },
  {
   "cell_type": "code",
   "execution_count": 10,
   "outputs": [
    {
     "name": "stdout",
     "output_type": "stream",
     "text": [
      "(4, 28, 16)\n"
     ]
    }
   ],
   "source": [
    "A=tf.random.normal([4,28,32])\n",
    "B=tf.random.normal([32,16])\n",
    "C=A@B\n",
    "print(C.shape)"
   ],
   "metadata": {
    "collapsed": false,
    "pycharm": {
     "name": "#%%\n"
    }
   }
  },
  {
   "cell_type": "markdown",
   "source": [
    "上述运算，先将B扩展为shape为\\[4,32,16\\]，再与A相乘"
   ],
   "metadata": {
    "collapsed": false,
    "pycharm": {
     "name": "#%% md\n"
    }
   }
  },
  {
   "cell_type": "code",
   "execution_count": null,
   "outputs": [],
   "source": [
    "import os\n",
    "pid=os.getpid()\n",
    "!kill -9 $pid\n",
    "\n"
   ],
   "metadata": {
    "collapsed": false,
    "pycharm": {
     "name": "#%%\n",
     "is_executing": true
    }
   }
  }
 ],
 "metadata": {
  "kernelspec": {
   "display_name": "Python 3",
   "language": "python",
   "name": "python3"
  },
  "language_info": {
   "codemirror_mode": {
    "name": "ipython",
    "version": 2
   },
   "file_extension": ".py",
   "mimetype": "text/x-python",
   "name": "python",
   "nbconvert_exporter": "python",
   "pygments_lexer": "ipython2",
   "version": "2.7.6"
  }
 },
 "nbformat": 4,
 "nbformat_minor": 0
}