{
 "cells": [
  {
   "cell_type": "code",
   "execution_count": 1,
   "metadata": {
    "collapsed": true
   },
   "outputs": [],
   "source": [
    "import tensorflow as tf"
   ]
  },
  {
   "cell_type": "markdown",
   "source": [
    "## 1.标量典型应用\n",
    "\n",
    "如误差计算结果为标量\n"
   ],
   "metadata": {
    "collapsed": false,
    "pycharm": {
     "name": "#%% md\n"
    }
   }
  },
  {
   "cell_type": "code",
   "execution_count": 2,
   "outputs": [
    {
     "name": "stdout",
     "output_type": "stream",
     "text": [
      "tf.Tensor(0.32864687, shape=(), dtype=float32)\n"
     ]
    }
   ],
   "source": [
    "out=tf.random.uniform([4,10]) # 随机模拟网络输出\n",
    "y=tf.constant([2,3,2,0]) # 随机构造样本真实标签\n",
    "y_onehot=tf.one_hot(y,depth=10)\n",
    "loss=tf.keras.losses.mse(y_onehot,out)\n",
    "mean_loss=tf.reduce_mean(loss)\n",
    "print(mean_loss)"
   ],
   "metadata": {
    "collapsed": false,
    "pycharm": {
     "name": "#%%\n"
    }
   }
  },
  {
   "cell_type": "markdown",
   "source": [
    "## 2.向量的典型应用\n",
    "\n",
    "线性模型中的偏置层b就是向量"
   ],
   "metadata": {
    "collapsed": false,
    "pycharm": {
     "name": "#%% md\n"
    }
   }
  },
  {
   "cell_type": "code",
   "execution_count": 3,
   "outputs": [
    {
     "name": "stdout",
     "output_type": "stream",
     "text": [
      "tf.Tensor(\n",
      "[[ 0.27369753 -0.25807473]\n",
      " [-0.08883336  1.184936  ]\n",
      " [ 0.48938832  1.7196723 ]\n",
      " [ 0.13555428  1.1185842 ]], shape=(4, 2), dtype=float32)\n"
     ]
    }
   ],
   "source": [
    "# z=Wx,模拟获得激活函数的输入z\n",
    "z=tf.random.normal([4,2])\n",
    "b=tf.zeros([2])\n",
    "z+=b # 这里能直接相加是因为auto broadcast\n",
    "print(z)"
   ],
   "metadata": {
    "collapsed": false,
    "pycharm": {
     "name": "#%%\n"
    }
   }
  },
  {
   "cell_type": "markdown",
   "source": [
    "使用`Dense()`方式创建的网络层的偏置仍是向量"
   ],
   "metadata": {
    "collapsed": false,
    "pycharm": {
     "name": "#%% md\n"
    }
   }
  },
  {
   "cell_type": "code",
   "execution_count": 4,
   "outputs": [
    {
     "name": "stdout",
     "output_type": "stream",
     "text": [
      "<tf.Variable 'bias:0' shape=(5,) dtype=float32, numpy=array([0., 0., 0., 0., 0.], dtype=float32)>\n"
     ]
    }
   ],
   "source": [
    "from tensorflow.keras import layers\n",
    "fc=layers.Dense(5) # 创建一层Wx+b，输出节点为3\n",
    "fc.build(input_shape=(4,3)) # 通过build函数创建W，b张量，输入节点为3\n",
    "print(fc.bias) # 查看偏置向量"
   ],
   "metadata": {
    "collapsed": false,
    "pycharm": {
     "name": "#%%\n"
    }
   }
  },
  {
   "cell_type": "markdown",
   "source": [
    "## 3.矩阵\n",
    "如全连接层的输入X形状为\\[b,$d_{in}$\\]，$d_{in}$为输入特征的长度，b表示输入样本的个数"
   ],
   "metadata": {
    "collapsed": false,
    "pycharm": {
     "name": "#%% md\n"
    }
   }
  },
  {
   "cell_type": "code",
   "execution_count": 5,
   "outputs": [
    {
     "name": "stdout",
     "output_type": "stream",
     "text": [
      "tf.Tensor(\n",
      "[[-4.8178864 -4.8178864 -4.8178864]\n",
      " [ 2.0711055  2.0711055  2.0711055]], shape=(2, 3), dtype=float32)\n"
     ]
    }
   ],
   "source": [
    "X=tf.random.normal([2,4]) # 2个样本，特征长度为4\n",
    "W=tf.ones([4,3]) # 全连接输出节点为3,\n",
    "b=tf.zeros([3]) # 定义偏置向量\n",
    "out=X@W+b\n",
    "print(out)"
   ],
   "metadata": {
    "collapsed": false,
    "pycharm": {
     "name": "#%%\n"
    }
   }
  },
  {
   "cell_type": "markdown",
   "source": [
    "注：Dense()可直接构成一个全连接层$\\sigma(X@W+b)$，而当$\\sigma$为空时便是类似下面的线性层"
   ],
   "metadata": {
    "collapsed": false,
    "pycharm": {
     "name": "#%% md\n"
    }
   }
  },
  {
   "cell_type": "code",
   "execution_count": 6,
   "outputs": [
    {
     "name": "stdout",
     "output_type": "stream",
     "text": [
      "<tf.Variable 'kernel:0' shape=(4, 3) dtype=float32, numpy=\n",
      "array([[-0.8323802 , -0.79144245,  0.46062553],\n",
      "       [ 0.58332396,  0.5645393 , -0.01869696],\n",
      "       [ 0.37598026, -0.7486532 ,  0.7172103 ],\n",
      "       [-0.5012189 ,  0.47896707,  0.6090678 ]], dtype=float32)>\n"
     ]
    }
   ],
   "source": [
    "fc=layers.Dense(3)\n",
    "fc.build(input_shape=(2,4))\n",
    "print(fc.kernel) # 查看权重矩阵"
   ],
   "metadata": {
    "collapsed": false,
    "pycharm": {
     "name": "#%%\n"
    }
   }
  },
  {
   "cell_type": "markdown",
   "source": [
    "## 4.三维张量\n",
    "\n",
    "典型应用：表示序列信号\n",
    "\n",
    "$$X=[b,\\mathrm{sequence\\ len},\\mathrm{feature\\ len}]$$"
   ],
   "metadata": {
    "collapsed": false,
    "pycharm": {
     "name": "#%% md\n"
    }
   }
  },
  {
   "cell_type": "markdown",
   "source": [
    "考虑NLP中评价句子是否为正面情绪的情感分类任务网络，通过IMDB数据集来演示如何表示句子"
   ],
   "metadata": {
    "collapsed": false,
    "pycharm": {
     "name": "#%% md\n"
    }
   }
  },
  {
   "cell_type": "code",
   "execution_count": 7,
   "outputs": [
    {
     "name": "stderr",
     "output_type": "stream",
     "text": [
      "/opt/julianApps/miniconda3/envs/tf38/lib/python3.8/site-packages/tensorflow/python/keras/datasets/imdb.py:155: VisibleDeprecationWarning: Creating an ndarray from ragged nested sequences (which is a list-or-tuple of lists-or-tuples-or ndarrays with different lengths or shapes) is deprecated. If you meant to do this, you must specify 'dtype=object' when creating the ndarray\n",
      "  x_train, y_train = np.array(xs[:idx]), np.array(labels[:idx])\n",
      "/opt/julianApps/miniconda3/envs/tf38/lib/python3.8/site-packages/tensorflow/python/keras/datasets/imdb.py:156: VisibleDeprecationWarning: Creating an ndarray from ragged nested sequences (which is a list-or-tuple of lists-or-tuples-or ndarrays with different lengths or shapes) is deprecated. If you meant to do this, you must specify 'dtype=object' when creating the ndarray\n",
      "  x_test, y_test = np.array(xs[idx:]), np.array(labels[idx:])\n"
     ]
    },
    {
     "name": "stdout",
     "output_type": "stream",
     "text": [
      "(25000, 80)\n"
     ]
    }
   ],
   "source": [
    "(x_train,y_train),(x_test,y_test)=tf.keras.datasets.imdb.load_data(num_words=10000) # 自动加载IMDB电影评价数据集\n",
    "x_train=tf.keras.preprocessing.sequence.pad_sequences(x_train,maxlen=80) # 将句子填充、截断为等长80个单词的句子\n",
    "print(x_train.shape)"
   ],
   "metadata": {
    "collapsed": false,
    "pycharm": {
     "name": "#%%\n"
    }
   }
  },
  {
   "cell_type": "markdown",
   "source": [
    "使用词向量将每个单词转换为长度为100的词向量"
   ],
   "metadata": {
    "collapsed": false,
    "pycharm": {
     "name": "#%% md\n"
    }
   }
  },
  {
   "cell_type": "code",
   "execution_count": 8,
   "outputs": [
    {
     "name": "stdout",
     "output_type": "stream",
     "text": [
      "(25000, 80, 100)\n"
     ]
    }
   ],
   "source": [
    "embedding=tf.keras.layers.Embedding(10000,100) # 创建词向量Embedding层类\n",
    "out=embedding(x_train) # 将数字编码的单词转换为词向量\n",
    "print(out.shape)\n",
    "\n"
   ],
   "metadata": {
    "collapsed": false,
    "pycharm": {
     "name": "#%%\n"
    }
   }
  },
  {
   "cell_type": "markdown",
   "source": [
    "## 5.四维张量\n",
    "\n",
    "典型应用：保存特征图数据$[b,h,w,c]$"
   ],
   "metadata": {
    "collapsed": false,
    "pycharm": {
     "name": "#%% md\n"
    }
   }
  },
  {
   "cell_type": "code",
   "execution_count": 9,
   "outputs": [
    {
     "name": "stdout",
     "output_type": "stream",
     "text": [
      "(4, 30, 30, 16)\n"
     ]
    }
   ],
   "source": [
    "x=tf.random.normal([4,32,32,3]) # 创建彩色图片输入\n",
    "layer=tf.keras.layers.Conv2D(16,kernel_size=3) # 创建一个卷积层\n",
    "out=layer(x)\n",
    "print(out.shape)"
   ],
   "metadata": {
    "collapsed": false,
    "pycharm": {
     "name": "#%%\n"
    }
   }
  },
  {
   "cell_type": "code",
   "execution_count": null,
   "outputs": [],
   "source": [
    "import os\n",
    "pid=os.getpid()\n",
    "!kill -9 $pid"
   ],
   "metadata": {
    "collapsed": false,
    "pycharm": {
     "name": "#%%\n",
     "is_executing": true
    }
   }
  }
 ],
 "metadata": {
  "kernelspec": {
   "display_name": "Python 3",
   "language": "python",
   "name": "python3"
  },
  "language_info": {
   "codemirror_mode": {
    "name": "ipython",
    "version": 2
   },
   "file_extension": ".py",
   "mimetype": "text/x-python",
   "name": "python",
   "nbconvert_exporter": "python",
   "pygments_lexer": "ipython2",
   "version": "2.7.6"
  }
 },
 "nbformat": 4,
 "nbformat_minor": 0
}