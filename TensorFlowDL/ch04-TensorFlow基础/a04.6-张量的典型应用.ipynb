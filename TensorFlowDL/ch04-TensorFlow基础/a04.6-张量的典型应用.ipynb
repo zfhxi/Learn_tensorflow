{
 "cells": [
  {
   "cell_type": "code",
   "execution_count": 10,
   "metadata": {
    "collapsed": true
   },
   "outputs": [],
   "source": [
    "import tensorflow as tf"
   ]
  },
  {
   "cell_type": "markdown",
   "source": [
    "## 1.标量典型应用\n",
    "\n",
    "如误差计算结果为标量\n"
   ],
   "metadata": {
    "collapsed": false,
    "pycharm": {
     "name": "#%% md\n"
    }
   }
  },
  {
   "cell_type": "code",
   "execution_count": 11,
   "outputs": [
    {
     "name": "stdout",
     "output_type": "stream",
     "text": [
      "tf.Tensor(0.28569013, shape=(), dtype=float32)\n"
     ]
    }
   ],
   "source": [
    "out=tf.random.uniform([4,10]) # 随机模拟网络输出\n",
    "y=tf.constant([2,3,2,0]) # 随机构造样本真实标签\n",
    "y_onehot=tf.one_hot(y,depth=10)\n",
    "loss=tf.keras.losses.mse(y_onehot,out)\n",
    "mean_loss=tf.reduce_mean(loss)\n",
    "print(mean_loss)"
   ],
   "metadata": {
    "collapsed": false,
    "pycharm": {
     "name": "#%%\n"
    }
   }
  },
  {
   "cell_type": "markdown",
   "source": [
    "## 2.向量的典型应用\n",
    "\n",
    "线性模型中的偏置层b就是向量"
   ],
   "metadata": {
    "collapsed": false,
    "pycharm": {
     "name": "#%% md\n"
    }
   }
  },
  {
   "cell_type": "code",
   "execution_count": 12,
   "outputs": [
    {
     "name": "stdout",
     "output_type": "stream",
     "text": [
      "tf.Tensor(\n",
      "[[ 1.5117668  -0.49642178]\n",
      " [-1.1269653   0.2386058 ]\n",
      " [-0.7498443   0.3158207 ]\n",
      " [ 1.4317056  -0.12876253]], shape=(4, 2), dtype=float32)\n"
     ]
    }
   ],
   "source": [
    "# z=Wx,模拟获得激活函数的输入z\n",
    "z=tf.random.normal([4,2])\n",
    "b=tf.zeros([2])\n",
    "z+=b # 这里能直接相加是因为auto broadcast\n",
    "print(z)"
   ],
   "metadata": {
    "collapsed": false,
    "pycharm": {
     "name": "#%%\n"
    }
   }
  },
  {
   "cell_type": "markdown",
   "source": [
    "使用`Dense()`方式创建的网络层的偏置仍是向量"
   ],
   "metadata": {
    "collapsed": false,
    "pycharm": {
     "name": "#%% md\n"
    }
   }
  },
  {
   "cell_type": "code",
   "execution_count": 13,
   "outputs": [
    {
     "name": "stdout",
     "output_type": "stream",
     "text": [
      "<tf.Variable 'bias:0' shape=(5,) dtype=float32, numpy=array([0., 0., 0., 0., 0.], dtype=float32)>\n"
     ]
    }
   ],
   "source": [
    "from tensorflow.keras import layers\n",
    "fc=layers.Dense(5) # 创建一层Wx+b，输出节点为3\n",
    "fc.build(input_shape=(4,3)) # 通过build函数创建W，b张量，输入节点为3\n",
    "print(fc.bias) # 查看偏置向量"
   ],
   "metadata": {
    "collapsed": false,
    "pycharm": {
     "name": "#%%\n"
    }
   }
  },
  {
   "cell_type": "markdown",
   "source": [
    "## 3.矩阵\n",
    "如全连接层的输入X形状为\\[b,$d_{in}$\\]，$d_{in}$为输入特征的长度，b表示输入样本的个数"
   ],
   "metadata": {
    "collapsed": false,
    "pycharm": {
     "name": "#%% md\n"
    }
   }
  },
  {
   "cell_type": "code",
   "execution_count": 14,
   "outputs": [
    {
     "name": "stdout",
     "output_type": "stream",
     "text": [
      "tf.Tensor(\n",
      "[[-0.16785419 -0.16785419 -0.16785419]\n",
      " [ 1.3512032   1.3512032   1.3512032 ]], shape=(2, 3), dtype=float32)\n"
     ]
    }
   ],
   "source": [
    "X=tf.random.normal([2,4]) # 2个样本，特征长度为4\n",
    "W=tf.ones([4,3]) # 全连接输出节点为3,\n",
    "b=tf.zeros([3]) # 定义偏置向量\n",
    "out=X@W+b\n",
    "print(out)"
   ],
   "metadata": {
    "collapsed": false,
    "pycharm": {
     "name": "#%%\n"
    }
   }
  },
  {
   "cell_type": "markdown",
   "source": [
    "注：Dense()可直接构成一个全连接层$\\sigma(X@W+b)$，而当$\\sigma$为空时便是类似下面的线性层"
   ],
   "metadata": {
    "collapsed": false,
    "pycharm": {
     "name": "#%% md\n"
    }
   }
  },
  {
   "cell_type": "code",
   "execution_count": 15,
   "outputs": [
    {
     "name": "stdout",
     "output_type": "stream",
     "text": [
      "<tf.Variable 'kernel:0' shape=(4, 3) dtype=float32, numpy=\n",
      "array([[ 0.8380239 ,  0.4526614 , -0.63739157],\n",
      "       [-0.05694419, -0.90409404, -0.36676222],\n",
      "       [-0.47348315,  0.8458489 ,  0.8170537 ],\n",
      "       [ 0.5383004 , -0.9121868 , -0.4099993 ]], dtype=float32)>\n"
     ]
    }
   ],
   "source": [
    "fc=layers.Dense(3)\n",
    "fc.build(input_shape=(2,4))\n",
    "print(fc.kernel) # 查看权重矩阵\n",
    "\n"
   ],
   "metadata": {
    "collapsed": false,
    "pycharm": {
     "name": "#%%\n"
    }
   }
  }
 ],
 "metadata": {
  "kernelspec": {
   "display_name": "Python 3",
   "language": "python",
   "name": "python3"
  },
  "language_info": {
   "codemirror_mode": {
    "name": "ipython",
    "version": 2
   },
   "file_extension": ".py",
   "mimetype": "text/x-python",
   "name": "python",
   "nbconvert_exporter": "python",
   "pygments_lexer": "ipython2",
   "version": "2.7.6"
  }
 },
 "nbformat": 4,
 "nbformat_minor": 0
}