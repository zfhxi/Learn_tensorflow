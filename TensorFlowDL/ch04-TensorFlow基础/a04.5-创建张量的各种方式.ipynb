{
 "cells": [
  {
   "cell_type": "code",
   "execution_count": 87,
   "metadata": {
    "collapsed": true
   },
   "outputs": [],
   "source": [
    "import tensorflow as tf\n",
    "import numpy as np"
   ]
  },
  {
   "cell_type": "markdown",
   "source": [
    "## 1.从数组/列表对象创建\n",
    "\n",
    "注：\n",
    "* Numpy默认使用64位精度保存数据，转换到Tensor类型时精度为tf.float64，可在需要时转为tf.float32\n",
    "* 实际上，`tf.constant()`和`tf.convert_to_tensor()`都能自动将Numpy数组和Python列表数据类型转为Tensor类型"
   ],
   "metadata": {
    "collapsed": false,
    "pycharm": {
     "name": "#%% md\n"
    }
   }
  },
  {
   "cell_type": "code",
   "execution_count": 88,
   "outputs": [
    {
     "name": "stdout",
     "output_type": "stream",
     "text": [
      "tf.Tensor([1. 2. 3.], shape=(3,), dtype=float32)\n",
      "tf.Tensor(\n",
      "[[1. 2.]\n",
      " [3. 4.]], shape=(2, 2), dtype=float64)\n"
     ]
    }
   ],
   "source": [
    "# 从列表\n",
    "a=tf.convert_to_tensor([1,2,3.])\n",
    "print(a)\n",
    "# 从数组\n",
    "b=tf.convert_to_tensor(np.array([[1,2.],[3,4]]))\n",
    "print(b)"
   ],
   "metadata": {
    "collapsed": false,
    "pycharm": {
     "name": "#%%\n"
    }
   }
  },
  {
   "cell_type": "markdown",
   "source": [
    "## 2.创建全0或1的张量\n",
    "\n",
    "创建全0或1的张量是很常见的操作。如在线性变换中，y=Wx+b，将W初始化为全1矩阵，b初始化为全0矩阵。"
   ],
   "metadata": {
    "collapsed": false,
    "pycharm": {
     "name": "#%% md\n"
    }
   }
  },
  {
   "cell_type": "markdown",
   "source": [
    "创建全0，全1的标量"
   ],
   "metadata": {
    "collapsed": false,
    "pycharm": {
     "name": "#%% md\n"
    }
   }
  },
  {
   "cell_type": "code",
   "execution_count": 89,
   "outputs": [
    {
     "name": "stdout",
     "output_type": "stream",
     "text": [
      "tf.Tensor(1.0, shape=(), dtype=float32)\n",
      "tf.Tensor(0.0, shape=(), dtype=float32)\n"
     ]
    }
   ],
   "source": [
    "W=tf.ones([])\n",
    "b=tf.zeros([])\n",
    "print(W)\n",
    "print(b)"
   ],
   "metadata": {
    "collapsed": false,
    "pycharm": {
     "name": "#%%\n"
    }
   }
  },
  {
   "cell_type": "markdown",
   "source": [
    "创建全0，全1的向量"
   ],
   "metadata": {
    "collapsed": false,
    "pycharm": {
     "name": "#%% md\n"
    }
   }
  },
  {
   "cell_type": "code",
   "execution_count": 90,
   "outputs": [
    {
     "name": "stdout",
     "output_type": "stream",
     "text": [
      "tf.Tensor([1.], shape=(1,), dtype=float32)\n",
      "tf.Tensor([0.], shape=(1,), dtype=float32)\n"
     ]
    }
   ],
   "source": [
    "W=tf.ones([1])\n",
    "b=tf.zeros([1])\n",
    "print(W)\n",
    "print(b)"
   ],
   "metadata": {
    "collapsed": false,
    "pycharm": {
     "name": "#%%\n"
    }
   }
  },
  {
   "cell_type": "markdown",
   "source": [
    "创建全0，全1的矩阵"
   ],
   "metadata": {
    "collapsed": false,
    "pycharm": {
     "name": "#%% md\n"
    }
   }
  },
  {
   "cell_type": "code",
   "execution_count": 91,
   "outputs": [
    {
     "name": "stdout",
     "output_type": "stream",
     "text": [
      "tf.Tensor(\n",
      "[[1. 1.]\n",
      " [1. 1.]\n",
      " [1. 1.]], shape=(3, 2), dtype=float32)\n",
      "tf.Tensor(\n",
      "[[0. 0.]\n",
      " [0. 0.]], shape=(2, 2), dtype=float32)\n"
     ]
    }
   ],
   "source": [
    "W=tf.ones([3,2])\n",
    "b=tf.zeros([2,2])\n",
    "print(W)\n",
    "print(b)"
   ],
   "metadata": {
    "collapsed": false,
    "pycharm": {
     "name": "#%%\n"
    }
   }
  },
  {
   "cell_type": "markdown",
   "source": [
    "创建与其他变量形状相似的全0，全1张量\n",
    "\n",
    "* 主要函数：`tf.zeros_like()`,`tf.ones_like()`"
   ],
   "metadata": {
    "collapsed": false,
    "pycharm": {
     "name": "#%% md\n"
    }
   }
  },
  {
   "cell_type": "code",
   "execution_count": 92,
   "outputs": [
    {
     "name": "stdout",
     "output_type": "stream",
     "text": [
      "tf.Tensor(\n",
      "[[ 1.   5.6]\n",
      " [10.2 14.8]\n",
      " [19.4 24. ]], shape=(3, 2), dtype=float64)\n",
      "tf.Tensor(\n",
      "[[1. 1.]\n",
      " [1. 1.]\n",
      " [1. 1.]], shape=(3, 2), dtype=float64)\n",
      "tf.Tensor(\n",
      "[[0. 0.]\n",
      " [0. 0.]\n",
      " [0. 0.]], shape=(3, 2), dtype=float64)\n"
     ]
    }
   ],
   "source": [
    "a=np.linspace(1,24,6)\n",
    "a=a.reshape((3,2))\n",
    "A=tf.convert_to_tensor(a)\n",
    "print(A)\n",
    "\n",
    "W=tf.ones_like(A)\n",
    "# W1=tf.ones(A.shape)\n",
    "b=tf.zeros_like(A)\n",
    "# b1=tf.zeros(A.shape)\n",
    "print(W)\n",
    "# print(W1)\n",
    "print(b)\n",
    "# print(b1)"
   ],
   "metadata": {
    "collapsed": false,
    "pycharm": {
     "name": "#%%\n"
    }
   }
  },
  {
   "cell_type": "markdown",
   "source": [
    "## 3.创建自定义数值的张量\n",
    "\n",
    "主要函数为：`tf.fill()`，初始化为指定值"
   ],
   "metadata": {
    "collapsed": false,
    "pycharm": {
     "name": "#%% md\n"
    }
   }
  },
  {
   "cell_type": "code",
   "execution_count": 93,
   "outputs": [
    {
     "name": "stdout",
     "output_type": "stream",
     "text": [
      "tf.Tensor(-1, shape=(), dtype=int32)\n",
      "tf.Tensor([-2 -2 -2 -2], shape=(4,), dtype=int32)\n",
      "tf.Tensor(\n",
      "[[99 99]\n",
      " [99 99]], shape=(2, 2), dtype=int32)\n"
     ]
    }
   ],
   "source": [
    "# 创建元素为-1的标量\n",
    "print(tf.fill([],-1))\n",
    "# 创建长度为4、所有元素为-2的向量\n",
    "print(tf.fill([4],-2))\n",
    "# 创建所有元素为99的矩阵\n",
    "print(tf.fill([2,2],99))"
   ],
   "metadata": {
    "collapsed": false,
    "pycharm": {
     "name": "#%%\n"
    }
   }
  },
  {
   "cell_type": "markdown",
   "source": [
    "## 4.创建已知分布的张量\n",
    "\n",
    "1. 正太分布: `tf.random.normal(shape,mean=0.0,stddev=1.0)`\n",
    "2. 均匀分布: `tf.random.uniform(shape,minval=0.0,maxval=None,dtype=tf.float32)`， For floats, the default range is [0, 1). For ints, at least maxval must be specified explicitly.\n"
   ],
   "metadata": {
    "collapsed": false,
    "pycharm": {
     "name": "#%% md\n"
    }
   }
  },
  {
   "cell_type": "code",
   "execution_count": 94,
   "outputs": [
    {
     "name": "stdout",
     "output_type": "stream",
     "text": [
      "tf.Tensor(\n",
      "[[ 0.878792   0.9604731]\n",
      " [ 1.617727  -0.984781 ]], shape=(2, 2), dtype=float32)\n",
      "tf.Tensor(\n",
      "[[7.1574316 2.995714 ]\n",
      " [5.307251  1.4103305]], shape=(2, 2), dtype=float32)\n",
      "tf.Tensor(\n",
      "[[30 40]\n",
      " [29 16]], shape=(2, 2), dtype=int32)\n"
     ]
    }
   ],
   "source": [
    "# 正太分布\n",
    "a=tf.random.normal(shape=[2,2],mean=1.,stddev=2.)\n",
    "print(a)\n",
    "\n",
    "# 均匀分布\n",
    "b=tf.random.uniform([2,2],minval=0,maxval=10)\n",
    "print(b)\n",
    "b1=tf.random.uniform([2,2],maxval=100,dtype=tf.int32)\n",
    "print(b1)"
   ],
   "metadata": {
    "collapsed": false,
    "pycharm": {
     "name": "#%%\n"
    }
   }
  },
  {
   "cell_type": "markdown",
   "source": [
    "## 5.创建序列\n",
    "\n",
    "主要函数：\n",
    "* `tf.range(limit,delta=1)`来创建[0,limit)之间、步长为delta的整型序列\n",
    "* `tf.range(start,limit,delta=1)`来创建[start,limit)之间、步长为delta的整型序列"
   ],
   "metadata": {
    "collapsed": false,
    "pycharm": {
     "name": "#%% md\n"
    }
   }
  },
  {
   "cell_type": "code",
   "execution_count": 95,
   "outputs": [
    {
     "name": "stdout",
     "output_type": "stream",
     "text": [
      "tf.Tensor([0 2 4 6 8], shape=(5,), dtype=int32)\n",
      "tf.Tensor(\n",
      "[50 52 54 56 58 60 62 64 66 68 70 72 74 76 78 80 82 84 86 88 90 92 94 96\n",
      " 98], shape=(25,), dtype=int32)\n"
     ]
    }
   ],
   "source": [
    "a=tf.range(10,delta=2)\n",
    "print(a)\n",
    "b=tf.range(50,100,2)\n",
    "print(b)\n"
   ],
   "metadata": {
    "collapsed": false,
    "pycharm": {
     "name": "#%%\n"
    }
   }
  }
 ],
 "metadata": {
  "kernelspec": {
   "display_name": "Python 3",
   "language": "python",
   "name": "python3"
  },
  "language_info": {
   "codemirror_mode": {
    "name": "ipython",
    "version": 2
   },
   "file_extension": ".py",
   "mimetype": "text/x-python",
   "name": "python",
   "nbconvert_exporter": "python",
   "pygments_lexer": "ipython2",
   "version": "2.7.6"
  }
 },
 "nbformat": 4,
 "nbformat_minor": 0
}