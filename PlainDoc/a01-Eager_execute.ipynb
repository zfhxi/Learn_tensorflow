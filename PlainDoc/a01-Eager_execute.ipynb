{
 "cells": [
  {
   "cell_type": "markdown",
   "source": [
    "## Eager执行\n",
    "参考:<https://zhuanlan.zhihu.com/p/70232196>"
   ],
   "metadata": {
    "collapsed": false,
    "pycharm": {
     "name": "#%% md\n"
    }
   }
  },
  {
   "cell_type": "code",
   "execution_count": 1,
   "metadata": {
    "collapsed": true,
    "pycharm": {
     "name": "#%%\n"
    }
   },
   "outputs": [],
   "source": [
    "import tensorflow as tf"
   ]
  },
  {
   "cell_type": "markdown",
   "source": [
    "在eager执行下，每个操作后的返回值是tf.Tensor"
   ],
   "metadata": {
    "collapsed": false,
    "pycharm": {
     "name": "#%% md\n"
    }
   }
  },
  {
   "cell_type": "code",
   "execution_count": 2,
   "outputs": [
    {
     "name": "stdout",
     "output_type": "stream",
     "text": [
      "tf.Tensor(\n",
      "[[4. 6.]\n",
      " [4. 6.]], shape=(2, 2), dtype=float32)\n",
      "[[4. 6.]\n",
      " [4. 6.]]\n"
     ]
    }
   ],
   "source": [
    "x=tf.ones((2,2),dtype=tf.dtypes.float32)\n",
    "y=tf.constant([[1,2],\n",
    "               [3,4]],dtype=tf.dtypes.float32)\n",
    "z=tf.matmul(x,y)\n",
    "print(z)\n",
    "print(z.numpy())"
   ],
   "metadata": {
    "collapsed": false,
    "pycharm": {
     "name": "#%%\n"
    }
   }
  },
  {
   "cell_type": "markdown",
   "source": [
    "这种eager执行的另外一个好处是可以使用Python原生功能，比如下面的条件判断："
   ],
   "metadata": {
    "collapsed": false,
    "pycharm": {
     "name": "#%% md\n"
    }
   }
  },
  {
   "cell_type": "code",
   "execution_count": 3,
   "outputs": [
    {
     "name": "stdout",
     "output_type": "stream",
     "text": [
      "tf.Tensor(0.45175254, shape=(), dtype=float32)\n",
      "tf.Tensor(\n",
      "[[0 2]\n",
      " [4 6]], shape=(2, 2), dtype=int32)\n"
     ]
    }
   ],
   "source": [
    "random_value=tf.random.uniform([],0,1)\n",
    "x1=tf.reshape(tf.range(0,4),[2,2])\n",
    "print(random_value)\n",
    "if random_value.numpy()>0.5:\n",
    "    y1=tf.matmul(x1,x1)\n",
    "else:\n",
    "    y1=tf.add(x1,x1)\n",
    "print(y1)"
   ],
   "metadata": {
    "collapsed": false,
    "pycharm": {
     "name": "#%%\n"
    }
   }
  },
  {
   "cell_type": "markdown",
   "source": [
    "另外一个重要的问题，在egaer模式下如何计算梯度。\n",
    "* 在Graph模式时，我们在构建模型前向图时，同时也会构建梯度图，这样实际喂数据执行时可以很方便计算梯度。\n",
    "* 但是eager执行是动态的，这就需要每一次执行都要记录这些操作以计算梯度，这是通过tf.GradientTape来追踪所执行的操作以计算梯度，下面是一个计算实例："
   ],
   "metadata": {
    "collapsed": false,
    "pycharm": {
     "name": "#%% md\n"
    }
   }
  },
  {
   "cell_type": "code",
   "execution_count": 4,
   "outputs": [
    {
     "name": "stdout",
     "output_type": "stream",
     "text": [
      "tf.Tensor([[4.]], shape=(1, 1), dtype=float32)\n"
     ]
    }
   ],
   "source": [
    "w=tf.Variable([[1.0]])\n",
    "with tf.GradientTape() as tape:\n",
    "    loss=w*w+2.*w+5.\n",
    "grad=tape.gradient(loss,w)\n",
    "print(grad)"
   ],
   "metadata": {
    "collapsed": false,
    "pycharm": {
     "name": "#%%\n"
    }
   }
  },
  {
   "cell_type": "code",
   "execution_count": null,
   "outputs": [
    {
     "name": "stdout",
     "output_type": "stream",
     "text": [
      "3039\n"
     ]
    }
   ],
   "source": [
    "import os\n",
    "\n",
    "pid = os.getpid()\n",
    "print(pid)\n",
    "!kill -9 $pid"
   ],
   "metadata": {
    "collapsed": false,
    "pycharm": {
     "name": "#%%\n",
     "is_executing": true
    }
   }
  }
 ],
 "metadata": {
  "kernelspec": {
   "display_name": "Python 3",
   "language": "python",
   "name": "python3"
  },
  "language_info": {
   "codemirror_mode": {
    "name": "ipython",
    "version": 2
   },
   "file_extension": ".py",
   "mimetype": "text/x-python",
   "name": "python",
   "nbconvert_exporter": "python",
   "pygments_lexer": "ipython2",
   "version": "2.7.6"
  }
 },
 "nbformat": 4,
 "nbformat_minor": 0
}