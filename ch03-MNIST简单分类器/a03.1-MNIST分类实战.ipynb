{
 "cells": [
  {
   "cell_type": "markdown",
   "metadata": {
    "collapsed": true,
    "pycharm": {
     "name": "#%% md\n"
    }
   },
   "source": [
    "## 1.加载MNIST数据集"
   ]
  },
  {
   "cell_type": "code",
   "execution_count": 1,
   "outputs": [
    {
     "name": "stdout",
     "output_type": "stream",
     "text": [
      "(60000, 28, 28)\n",
      "(60000, 10)\n"
     ]
    }
   ],
   "source": [
    "import os\n",
    "import tensorflow as tf\n",
    "from tensorflow import keras\n",
    "from tensorflow.keras import layers, optimizers,datasets\n",
    "(x,y),(x_val,y_val)=datasets.mnist.load_data()\n",
    "\n",
    "# 转换为tensor格式并分批\n",
    "x=tf.convert_to_tensor(x,dtype=tf.float32)/255.\n",
    "y=tf.convert_to_tensor(y,dtype=tf.int32)\n",
    "y=tf.one_hot(y,depth=10)\n",
    "print(x.shape)\n",
    "print(y.shape)\n",
    "train_dataset=tf.data.Dataset.from_tensor_slices((x,y))\n",
    "train_dataset=train_dataset.batch(200)"
   ],
   "metadata": {
    "collapsed": false,
    "pycharm": {
     "name": "#%%\n"
    }
   }
  },
  {
   "cell_type": "markdown",
   "source": [
    "## 2.模型构建"
   ],
   "metadata": {
    "collapsed": false,
    "pycharm": {
     "name": "#%% md\n"
    }
   }
  },
  {
   "cell_type": "code",
   "execution_count": 2,
   "outputs": [],
   "source": [
    "# 3个非线性层嵌套模型\n",
    "model=keras.Sequential([\n",
    "    layers.Dense(512,activation='relu'), # 隐藏层1\n",
    "    layers.Dense(256,activation='relu'), # 隐藏层2\n",
    "    layers.Dense(10), #输出层,10个分类\n",
    "])\n",
    "# 优化器SGD\n",
    "optimizer=optimizers.SGD(learning_rate=0.001)"
   ],
   "metadata": {
    "collapsed": false,
    "pycharm": {
     "name": "#%%\n"
    }
   }
  },
  {
   "cell_type": "markdown",
   "source": [
    "## 3.模型训练"
   ],
   "metadata": {
    "collapsed": false,
    "pycharm": {
     "name": "#%% md\n"
    }
   }
  },
  {
   "cell_type": "code",
   "execution_count": 3,
   "outputs": [
    {
     "name": "stdout",
     "output_type": "stream",
     "text": [
      "epoch[0]-step[0] loss:1.801163673400879\n",
      "epoch[0]-step[100] loss:0.9222341179847717\n",
      "epoch[0]-step[200] loss:0.7424997091293335\n",
      "epoch[1]-step[0] loss:0.6835026741027832\n",
      "epoch[1]-step[100] loss:0.6778228282928467\n",
      "epoch[1]-step[200] loss:0.5668632984161377\n",
      "epoch[2]-step[0] loss:0.5605961084365845\n",
      "epoch[2]-step[100] loss:0.5918837189674377\n",
      "epoch[2]-step[200] loss:0.49526241421699524\n",
      "epoch[3]-step[0] loss:0.5008974671363831\n",
      "epoch[3]-step[100] loss:0.5428507924079895\n",
      "epoch[3]-step[200] loss:0.4538201093673706\n",
      "epoch[4]-step[0] loss:0.4631483554840088\n",
      "epoch[4]-step[100] loss:0.5077462196350098\n",
      "epoch[4]-step[200] loss:0.4250261187553406\n",
      "epoch[5]-step[0] loss:0.4353351294994354\n",
      "epoch[5]-step[100] loss:0.48068228363990784\n",
      "epoch[5]-step[200] loss:0.4030313193798065\n",
      "epoch[6]-step[0] loss:0.4134552776813507\n",
      "epoch[6]-step[100] loss:0.4586365818977356\n",
      "epoch[6]-step[200] loss:0.38520127534866333\n",
      "epoch[7]-step[0] loss:0.3952696919441223\n",
      "epoch[7]-step[100] loss:0.44043540954589844\n",
      "epoch[7]-step[200] loss:0.37035316228866577\n",
      "epoch[8]-step[0] loss:0.3796274662017822\n",
      "epoch[8]-step[100] loss:0.4247547388076782\n",
      "epoch[8]-step[200] loss:0.3575280010700226\n",
      "epoch[9]-step[0] loss:0.3660612404346466\n",
      "epoch[9]-step[100] loss:0.41118961572647095\n",
      "epoch[9]-step[200] loss:0.34625670313835144\n",
      "epoch[10]-step[0] loss:0.3540801703929901\n",
      "epoch[10]-step[100] loss:0.3992713689804077\n",
      "epoch[10]-step[200] loss:0.3362210988998413\n",
      "epoch[11]-step[0] loss:0.3433353006839752\n",
      "epoch[11]-step[100] loss:0.38863328099250793\n",
      "epoch[11]-step[200] loss:0.3271935284137726\n",
      "epoch[12]-step[0] loss:0.33361756801605225\n",
      "epoch[12]-step[100] loss:0.3790203928947449\n",
      "epoch[12]-step[200] loss:0.31902453303337097\n",
      "epoch[13]-step[0] loss:0.3248317837715149\n",
      "epoch[13]-step[100] loss:0.3702731430530548\n",
      "epoch[13]-step[200] loss:0.31162938475608826\n",
      "epoch[14]-step[0] loss:0.31675800681114197\n",
      "epoch[14]-step[100] loss:0.36229681968688965\n",
      "epoch[14]-step[200] loss:0.30485621094703674\n",
      "epoch[15]-step[0] loss:0.3093075156211853\n",
      "epoch[15]-step[100] loss:0.354959636926651\n",
      "epoch[15]-step[200] loss:0.29858946800231934\n",
      "epoch[16]-step[0] loss:0.30242815613746643\n",
      "epoch[16]-step[100] loss:0.34815219044685364\n",
      "epoch[16]-step[200] loss:0.2927308678627014\n",
      "epoch[17]-step[0] loss:0.29606667160987854\n",
      "epoch[17]-step[100] loss:0.3418618142604828\n",
      "epoch[17]-step[200] loss:0.28725746273994446\n",
      "epoch[18]-step[0] loss:0.2901506721973419\n",
      "epoch[18]-step[100] loss:0.33599457144737244\n",
      "epoch[18]-step[200] loss:0.28211602568626404\n",
      "epoch[19]-step[0] loss:0.28459617495536804\n",
      "epoch[19]-step[100] loss:0.3304459750652313\n",
      "epoch[19]-step[200] loss:0.2772752642631531\n",
      "epoch[20]-step[0] loss:0.27941206097602844\n",
      "epoch[20]-step[100] loss:0.3252216577529907\n",
      "epoch[20]-step[200] loss:0.2727445363998413\n",
      "epoch[21]-step[0] loss:0.27453136444091797\n",
      "epoch[21]-step[100] loss:0.3203490376472473\n",
      "epoch[21]-step[200] loss:0.2684623599052429\n",
      "epoch[22]-step[0] loss:0.2699272632598877\n",
      "epoch[22]-step[100] loss:0.3157976269721985\n",
      "epoch[22]-step[200] loss:0.26442116498947144\n",
      "epoch[23]-step[0] loss:0.26559555530548096\n",
      "epoch[23]-step[100] loss:0.31141674518585205\n",
      "epoch[23]-step[200] loss:0.26060473918914795\n",
      "epoch[24]-step[0] loss:0.2614743113517761\n",
      "epoch[24]-step[100] loss:0.30722570419311523\n",
      "epoch[24]-step[200] loss:0.2569848299026489\n",
      "epoch[25]-step[0] loss:0.257564514875412\n",
      "epoch[25]-step[100] loss:0.30327752232551575\n",
      "epoch[25]-step[200] loss:0.25350451469421387\n",
      "epoch[26]-step[0] loss:0.25389137864112854\n",
      "epoch[26]-step[100] loss:0.299513578414917\n",
      "epoch[26]-step[200] loss:0.25019651651382446\n",
      "epoch[27]-step[0] loss:0.25038954615592957\n",
      "epoch[27]-step[100] loss:0.2959001660346985\n",
      "epoch[27]-step[200] loss:0.2470681369304657\n",
      "epoch[28]-step[0] loss:0.24707424640655518\n",
      "epoch[28]-step[100] loss:0.2924591302871704\n",
      "epoch[28]-step[200] loss:0.24412593245506287\n",
      "epoch[29]-step[0] loss:0.24390915036201477\n",
      "epoch[29]-step[100] loss:0.289212703704834\n",
      "epoch[29]-step[200] loss:0.24136407673358917\n"
     ]
    }
   ],
   "source": [
    "all_loss=[]\n",
    "def train_with_single_epoch(epoch_no):\n",
    "    for step,(x,y) in enumerate(train_dataset):\n",
    "        with tf.GradientTape() as tape: # 构建梯度记录环境\n",
    "            # 前向\n",
    "            x=tf.reshape(x,(-1,28*28)) # 拉平，[b,28,28]=>[b,784]\n",
    "            out=model(x) # 得到模型输出\n",
    "            # 计算每个样本的平均误差\n",
    "            loss=tf.square(out-y)\n",
    "            loss=tf.reduce_sum(loss)/x.shape[0]\n",
    "            global all_loss\n",
    "            all_loss.append(loss)\n",
    "        # 计算参数的梯度\n",
    "        grads=tape.gradient(loss,model.trainable_variables)\n",
    "        # 更新网络参数, w'=w-lr*grad\n",
    "        optimizer.apply_gradients(zip(grads,model.trainable_variables))\n",
    "\n",
    "        if step%100==0:\n",
    "            print(f'epoch[{epoch_no}]-step[{step}] loss:{loss.numpy()}')\n",
    "\n",
    "\n",
    "def run():\n",
    "    for epoch in range(30):\n",
    "        train_with_single_epoch(epoch_no=epoch)\n",
    "\n",
    "run()"
   ],
   "metadata": {
    "collapsed": false,
    "pycharm": {
     "name": "#%%\n"
    }
   }
  },
  {
   "cell_type": "markdown",
   "source": [
    "## 4.模型验证"
   ],
   "metadata": {
    "collapsed": false
   }
  },
  {
   "cell_type": "code",
   "execution_count": 4,
   "outputs": [
    {
     "name": "stdout",
     "output_type": "stream",
     "text": [
      "(10000, 28, 28)\n",
      "(10000, 10)\n"
     ]
    }
   ],
   "source": [
    "# 转换为tensor格式并分批\n",
    "val_loss=[]\n",
    "x_val=tf.convert_to_tensor(x_val,dtype=tf.float32)/255.\n",
    "y_val=tf.convert_to_tensor(y_val,dtype=tf.int32)\n",
    "y_val=tf.one_hot(y_val,depth=10)\n",
    "print(x_val.shape)\n",
    "print(y_val.shape)\n",
    "val_dataset=tf.data.Dataset.from_tensor_slices((x_val,y_val))\n",
    "# val_dataset=train_dataset.batch(200)\n",
    "for (x,y) in val_dataset:\n",
    "    x=tf.reshape(x,(-1,28*28))\n",
    "    out=model(x)\n",
    "    loss=tf.square(out-y)\n",
    "    loss=tf.reduce_sum(loss)/x.shape[0]\n",
    "    global val_loss\n",
    "    val_loss.append(loss)"
   ],
   "metadata": {
    "collapsed": false,
    "pycharm": {
     "name": "#%%\n"
    }
   }
  },
  {
   "cell_type": "markdown",
   "source": [
    "## 5.画误差曲线"
   ],
   "metadata": {
    "collapsed": false,
    "pycharm": {
     "name": "#%% md\n"
    }
   }
  },
  {
   "cell_type": "code",
   "execution_count": 5,
   "outputs": [
    {
     "data": {
      "text/plain": "<Figure size 432x288 with 2 Axes>",
      "image/png": "[encoded data removed]"
     },
     "metadata": {
      "needs_background": "light"
     },
     "output_type": "display_data"
    }
   ],
   "source": [
    "import matplotlib.pyplot as plt\n",
    "x1=range(0,len(all_loss))\n",
    "x2=range(0,len(val_loss))\n",
    "plt.subplot(1,2,1)\n",
    "plt.plot(x1,all_loss)\n",
    "plt.title('train loss')\n",
    "plt.subplot(1,2,2)\n",
    "plt.plot(x2,val_loss)\n",
    "plt.title('validation loss')\n",
    "plt.show()"
   ],
   "metadata": {
    "collapsed": false,
    "pycharm": {
     "name": "#%%\n"
    }
   }
  },
  {
   "cell_type": "code",
   "execution_count": null,
   "outputs": [],
   "source": [
    "pid=os.getpid()\n",
    "!kill -9 $pid"
   ],
   "metadata": {
    "collapsed": false,
    "pycharm": {
     "name": "#%%\n",
     "is_executing": true
    }
   }
  }
 ],
 "metadata": {
  "kernelspec": {
   "display_name": "Python 3",
   "language": "python",
   "name": "python3"
  },
  "language_info": {
   "codemirror_mode": {
    "name": "ipython",
    "version": 2
   },
   "file_extension": ".py",
   "mimetype": "text/x-python",
   "name": "python",
   "nbconvert_exporter": "python",
   "pygments_lexer": "ipython2",
   "version": "2.7.6"
  }
 },
 "nbformat": 4,
 "nbformat_minor": 0
}