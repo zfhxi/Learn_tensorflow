{
 "cells": [
  {
   "cell_type": "markdown",
   "metadata": {
    "collapsed": true,
    "pycharm": {
     "name": "#%% md\n"
    }
   },
   "source": [
    "## 1.链式法则\n",
    "\n",
    "考虑复合函数$y=f(u),u=g(x),$则:<br>\n",
    "$\\frac{dy}{dx}=\\frac{dy}{du}\\cdot\\frac{du}{dx}=f\\prime\\lgroup g(x)\\rgroup\\cdot g\\prime(x)$\n",
    "\n",
    "考虑多元复合函数$z=f(x,y),$其中$x=g(t),y=h(t),$那么:<br>\n",
    "$\\frac{dz}{dt}=\\frac{\\partial z}{\\partial x}\\frac{dx}{dt}+\\frac{\\partial z}{\\partial y}\\frac{dy}{dt}$"
   ]
  },
  {
   "cell_type": "markdown",
   "source": [
    "## 2.链式法则验证"
   ],
   "metadata": {
    "collapsed": false
   }
  },
  {
   "cell_type": "code",
   "source": [
    "import tensorflow as tf\n",
    "# 构建待优化变量\n",
    "x=tf.constant(1.)\n",
    "w1=tf.constant(2.)\n",
    "b1=tf.constant(1.)\n",
    "w2=tf.constant(2.)\n",
    "b2=tf.constant(1.)\n",
    "\n",
    "# 构建梯度记录器\n",
    "with tf.GradientTape(persistent=True) as tape:\n",
    "    # 非tf.Variable类型的张量需要人为设置记录梯度信息\n",
    "    tape.watch([w1,b1,w2,b2])\n",
    "    # 构建2层线性网络\n",
    "    y1=x*w1+b1\n",
    "    y2=y1*w2+b2\n",
    "\n",
    "# 独立求解出各个偏导数\n",
    "dy2_dy1=tape.gradient(y2,[y1])[0]\n",
    "dy1_dw1=tape.gradient(y1,[w1])[0]\n",
    "dy2_dw1=tape.gradient(y2,[w1])[0]\n",
    "\n",
    "# 验证链式法则，输出应相等\n",
    "print(dy2_dy1*dy1_dw1)\n",
    "print(dy2_dw1)\n"
   ],
   "metadata": {
    "collapsed": false,
    "pycharm": {
     "name": "#%%\n"
    }
   },
   "execution_count": 1,
   "outputs": [
    {
     "name": "stdout",
     "output_type": "stream",
     "text": [
      "tf.Tensor(2.0, shape=(), dtype=float32)\n",
      "tf.Tensor(2.0, shape=(), dtype=float32)\n"
     ]
    }
   ]
  },
  {
   "cell_type": "code",
   "execution_count": null,
   "outputs": [],
   "source": [
    "import os\n",
    "pid=os.getpid()\n",
    "!kill -9 $pid\n",
    "\n"
   ],
   "metadata": {
    "collapsed": false,
    "pycharm": {
     "name": "#%%\n",
     "is_executing": true
    }
   }
  }
 ],
 "metadata": {
  "kernelspec": {
   "display_name": "Python 3",
   "language": "python",
   "name": "python3"
  },
  "language_info": {
   "codemirror_mode": {
    "name": "ipython",
    "version": 2
   },
   "file_extension": ".py",
   "mimetype": "text/x-python",
   "name": "python",
   "nbconvert_exporter": "python",
   "pygments_lexer": "ipython2",
   "version": "2.7.6"
  }
 },
 "nbformat": 4,
 "nbformat_minor": 0
}