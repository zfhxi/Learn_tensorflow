{
 "cells": [
  {
   "cell_type": "code",
   "execution_count": 1,
   "metadata": {
    "collapsed": true
   },
   "outputs": [],
   "source": [
    "import tensorflow as tf"
   ]
  },
  {
   "cell_type": "markdown",
   "source": [
    "## 1.相等比较\n",
    "\n",
    "为了计算分类任务的准确率等指标,一般需要将预测结果和真实标签比较,统计比较结果中正确的数量来计算准确率"
   ],
   "metadata": {
    "collapsed": false,
    "pycharm": {
     "name": "#%% md\n"
    }
   }
  },
  {
   "cell_type": "code",
   "execution_count": 2,
   "outputs": [],
   "source": [
    "# 生成预测值\n",
    "out=tf.random.normal([100,10]) # 考虑100个样本\n",
    "p=tf.nn.softmax(out,axis=1) # 每个样本归一化\n",
    "pred=tf.argmax(p,axis=1) # 计算预测值\n",
    "\n",
    "# 模拟真实值\n",
    "y=tf.random.uniform([100],dtype=tf.int64,maxval=10)"
   ],
   "metadata": {
    "collapsed": false,
    "pycharm": {
     "name": "#%%\n"
    }
   }
  },
  {
   "cell_type": "markdown",
   "source": [
    "比较两个张量是否相等的关键函数:\n",
    "* `tf.equal(a,b)`\n",
    "* `tf.math.equal(a,b)`与上等价\n",
    "\n",
    "思考: a和b都有浮点数的情况下，tf.equal这种相等判断是否可靠"
   ],
   "metadata": {
    "collapsed": false,
    "pycharm": {
     "name": "#%% md\n"
    }
   }
  },
  {
   "cell_type": "code",
   "execution_count": 3,
   "outputs": [
    {
     "name": "stdout",
     "output_type": "stream",
     "text": [
      "tf.Tensor(\n",
      "[False False False False False False False False False  True  True False\n",
      " False False False False False False False False False  True False False\n",
      "  True False False False False False False False False  True False False\n",
      " False False False False False False  True False  True False False False\n",
      " False False False False False False False False False False False False\n",
      "  True False False False False False False False False  True False  True\n",
      " False False False False False False False False False False False False\n",
      " False  True False False  True False False False  True False False False\n",
      " False False False False], shape=(100,), dtype=bool)\n"
     ]
    }
   ],
   "source": [
    "result=tf.equal(pred,y) # 预测值是否与真实值相等，返回bool类型的张量\n",
    "print(result)"
   ],
   "metadata": {
    "collapsed": false,
    "pycharm": {
     "name": "#%%\n"
    }
   }
  },
  {
   "cell_type": "markdown",
   "source": [
    "tf.equal()函数返回布尔类型的张量比较结果,只需要统计张量中True元素的个数,即可知道预测正确的个数。\n",
    "\n",
    "先将布尔类型转换为整形张量,即True对应为1,False对应为0,再求和其中1的个数,就可以得到比较结果中True元素的个数:"
   ],
   "metadata": {
    "collapsed": false,
    "pycharm": {
     "name": "#%% md\n"
    }
   }
  },
  {
   "cell_type": "code",
   "execution_count": 4,
   "outputs": [
    {
     "name": "stdout",
     "output_type": "stream",
     "text": [
      "tf.Tensor(\n",
      "[0 0 0 0 0 0 0 0 0 1 1 0 0 0 0 0 0 0 0 0 0 1 0 0 1 0 0 0 0 0 0 0 0 1 0 0 0\n",
      " 0 0 0 0 0 1 0 1 0 0 0 0 0 0 0 0 0 0 0 0 0 0 0 1 0 0 0 0 0 0 0 0 1 0 1 0 0\n",
      " 0 0 0 0 0 0 0 0 0 0 0 1 0 0 1 0 0 0 1 0 0 0 0 0 0 0], shape=(100,), dtype=int64)\n",
      "tf.Tensor(13, shape=(), dtype=int64)\n"
     ]
    }
   ],
   "source": [
    "result_int=tf.cast(result,dtype=tf.int64) # bool转int\n",
    "print(result_int)\n",
    "correct=tf.reduce_sum(result_int) # 统计true的个数\n",
    "print(correct)"
   ],
   "metadata": {
    "collapsed": false,
    "pycharm": {
     "name": "#%%\n"
    }
   }
  },
  {
   "cell_type": "markdown",
   "source": [
    "## 2.其他比较\n",
    "\n",
    "![](https://github.com/zfhxi/Learn_tensorflow/blob/master/ch05-TensorFlow%e8%bf%9b%e9%98%b6/img/02.png?raw=true)\n"
   ],
   "metadata": {
    "collapsed": false,
    "pycharm": {
     "name": "#%% md\n"
    }
   }
  },
  {
   "cell_type": "code",
   "execution_count": null,
   "outputs": [],
   "source": [
    "import os\n",
    "pid=os.getpid()\n",
    "!kill -9 $pid\n",
    "\n"
   ],
   "metadata": {
    "collapsed": false,
    "pycharm": {
     "name": "#%%\n",
     "is_executing": true
    }
   }
  }
 ],
 "metadata": {
  "kernelspec": {
   "display_name": "Python 3",
   "language": "python",
   "name": "python3"
  },
  "language_info": {
   "codemirror_mode": {
    "name": "ipython",
    "version": 2
   },
   "file_extension": ".py",
   "mimetype": "text/x-python",
   "name": "python",
   "nbconvert_exporter": "python",
   "pygments_lexer": "ipython2",
   "version": "2.7.6"
  }
 },
 "nbformat": 4,
 "nbformat_minor": 0
}