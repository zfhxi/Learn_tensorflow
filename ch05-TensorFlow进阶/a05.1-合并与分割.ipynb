{
 "cells": [
  {
   "cell_type": "code",
   "execution_count": 1,
   "metadata": {
    "collapsed": true
   },
   "outputs": [],
   "source": [
    "import tensorflow as tf"
   ]
  },
  {
   "cell_type": "markdown",
   "source": [
    "## 1.合并\n",
    "\n",
    "* 指将多个张量沿某个维度合并为一个张量，可以使用拼接和堆叠操作实现\n",
    "* >拼接操作不会产生新的维度，仅在现有维度上合并，而堆叠会创建新的维度"
   ],
   "metadata": {
    "collapsed": false,
    "pycharm": {
     "name": "#%% md\n"
    }
   }
  },
  {
   "cell_type": "markdown",
   "source": [
    "1.1.拼接\n",
    "\n",
    "`tf.concat(tensors,axis)`tensors保存了所有需要合并的张量List，axis指定了要合并的维度"
   ],
   "metadata": {
    "collapsed": false,
    "pycharm": {
     "name": "#%% md\n"
    }
   }
  },
  {
   "cell_type": "code",
   "execution_count": 2,
   "outputs": [
    {
     "name": "stdout",
     "output_type": "stream",
     "text": [
      "(10, 35, 8)\n"
     ]
    }
   ],
   "source": [
    "A=tf.random.normal([4,35,8])\n",
    "B=tf.random.normal([6,35,8])\n",
    "C=tf.concat([A,B],axis=0)\n",
    "print(C.shape)"
   ],
   "metadata": {
    "collapsed": false,
    "pycharm": {
     "name": "#%%\n"
    }
   }
  },
  {
   "cell_type": "markdown",
   "source": [
    "语法上来说,拼接合并操作可以在任意的维度上进行,唯一的约束是非合并维度的长度必须一致。"
   ],
   "metadata": {
    "collapsed": false,
    "pycharm": {
     "name": "#%% md\n"
    }
   }
  },
  {
   "cell_type": "code",
   "execution_count": 3,
   "outputs": [
    {
     "name": "stdout",
     "output_type": "stream",
     "text": [
      "(20, 35, 4)\n",
      "(10, 70, 4)\n",
      "(10, 35, 8)\n"
     ]
    }
   ],
   "source": [
    "A=tf.random.normal([10,35,4])\n",
    "B=tf.random.normal([10,35,4])\n",
    "C=tf.concat([A,B],axis=0)\n",
    "D=tf.concat([A,B],axis=1)\n",
    "E=tf.concat([A,B],axis=2)\n",
    "print(C.shape)\n",
    "print(D.shape)\n",
    "print(E.shape)"
   ],
   "metadata": {
    "collapsed": false,
    "pycharm": {
     "name": "#%%\n"
    }
   }
  },
  {
   "cell_type": "markdown",
   "source": [
    "1.2.堆叠\n",
    "\n",
    "`tf.stack(tensors,axis)`，以堆叠方式合并多个张量，axis指定新维度插入的位置(>=0在axis之前插入；<0则在axis之后插入)\n",
    "\n",
    "![](https://github.com/zfhxi/Learn_tensorflow/blob/master/ch05-TensorFlow%e8%bf%9b%e9%98%b6/img/01.png?raw=true)\n",
    "\n",
    "`tf.stack`需要满足张量堆叠合并条件,它需要所有待合并的张量shape完全一致才可合并。"
   ],
   "metadata": {
    "collapsed": false,
    "pycharm": {
     "name": "#%% md\n"
    }
   }
  },
  {
   "cell_type": "code",
   "execution_count": 4,
   "outputs": [
    {
     "name": "stdout",
     "output_type": "stream",
     "text": [
      "(2, 35, 8)\n",
      "(35, 2, 8)\n",
      "(35, 8, 2)\n"
     ]
    }
   ],
   "source": [
    "A=tf.random.normal([35,8])\n",
    "B=tf.random.normal([35,8])\n",
    "C=tf.stack([A,B],axis=0) # 插入在最前\n",
    "D=tf.stack([A,B],axis=1) # 插入在次前\n",
    "E=tf.stack([A,B],axis=-1) # 插入在最后\n",
    "print(C.shape)\n",
    "print(D.shape)\n",
    "print(E.shape)"
   ],
   "metadata": {
    "collapsed": false,
    "pycharm": {
     "name": "#%%\n"
    }
   }
  },
  {
   "cell_type": "markdown",
   "source": [
    "## 2.分割\n",
    "\n",
    "* 分割是合并操作的逆过程\n",
    "* 关键函数`tf.split(x,num_or_size_splits,axis)`\n",
    "    * x:待分割的张量\n",
    "    * num_or_size_splits:为单个数值如10——等长分割为10份，为List——每个数字表示每份的长度(\\[2,4,3,1\\]表示每份长度依次为2、4、3、1)\n",
    "    * axis:指定分割的维度索引号"
   ],
   "metadata": {
    "collapsed": false,
    "pycharm": {
     "name": "#%% md\n"
    }
   }
  },
  {
   "cell_type": "code",
   "execution_count": 5,
   "outputs": [
    {
     "name": "stdout",
     "output_type": "stream",
     "text": [
      "(1, 35, 8)\n",
      "10\n",
      "(3, 35, 8)\n",
      "4\n"
     ]
    }
   ],
   "source": [
    "x=tf.random.normal([10,35,8])\n",
    "# 等长切割为10份\n",
    "result=tf.split(x,num_or_size_splits=10,axis=0)\n",
    "print(result[0].shape)\n",
    "print(len(result))\n",
    "# 不等长分割\n",
    "result2=tf.split(x,num_or_size_splits=[4,3,2,1],axis=0)\n",
    "print(result2[1].shape)\n",
    "print(len(result2))"
   ],
   "metadata": {
    "collapsed": false,
    "pycharm": {
     "name": "#%%\n"
    }
   }
  },
  {
   "cell_type": "markdown",
   "source": [
    "特别地，希望在某一维度上按照长度为1的方式分割，可使用`tf.unstack(x,axis)`。"
   ],
   "metadata": {
    "collapsed": false,
    "pycharm": {
     "name": "#%% md\n"
    }
   }
  },
  {
   "cell_type": "code",
   "execution_count": 6,
   "outputs": [
    {
     "name": "stdout",
     "output_type": "stream",
     "text": [
      "10\n"
     ]
    }
   ],
   "source": [
    "x=tf.random.normal([10,35,8])\n",
    "result=tf.unstack(x,axis=0)\n",
    "print(len(result))\n"
   ],
   "metadata": {
    "collapsed": false,
    "pycharm": {
     "name": "#%%\n"
    }
   }
  },
  {
   "cell_type": "code",
   "execution_count": null,
   "outputs": [],
   "source": [
    "import os\n",
    "pid=os.getpid()\n",
    "!kill -9 $pid\n",
    "\n",
    "\n"
   ],
   "metadata": {
    "collapsed": false,
    "pycharm": {
     "name": "#%%\n",
     "is_executing": true
    }
   }
  }
 ],
 "metadata": {
  "kernelspec": {
   "display_name": "Python 3",
   "language": "python",
   "name": "python3"
  },
  "language_info": {
   "codemirror_mode": {
    "name": "ipython",
    "version": 2
   },
   "file_extension": ".py",
   "mimetype": "text/x-python",
   "name": "python",
   "nbconvert_exporter": "python",
   "pygments_lexer": "ipython2",
   "version": "2.7.6"
  }
 },
 "nbformat": 4,
 "nbformat_minor": 0
}