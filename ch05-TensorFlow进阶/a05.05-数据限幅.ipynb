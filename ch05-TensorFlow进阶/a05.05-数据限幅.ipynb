{
 "cells": [
  {
   "cell_type": "code",
   "execution_count": 1,
   "metadata": {
    "collapsed": true
   },
   "outputs": [],
   "source": [
    "import tensorflow as tf"
   ]
  },
  {
   "cell_type": "markdown",
   "source": [
    "## 0.前言\n",
    "考虑非线性激活函数ReLU，其可以通过简单的数据限幅运算实现（限制元素范围[0,$\\infty$))\n",
    "\n",
    "常见限幅：\n",
    "* 下限幅: `tf.maximum(x,a)`, $x\\in[a,+\\infty)$\n",
    "* 上限幅: `tf.minimum(x,a)`, $x\\in(-\\infty,a]$\n",
    "* `tf.clip_by_value(x,min,max)`, $x\\in[\\mathrm{min},\\mathrm{max}]$，也可通过`tf.minimum(tf.maximum(x,min),max)`组合实现"
   ],
   "metadata": {
    "collapsed": false,
    "pycharm": {
     "name": "#%% md\n"
    }
   }
  },
  {
   "cell_type": "code",
   "execution_count": 2,
   "outputs": [
    {
     "name": "stdout",
     "output_type": "stream",
     "text": [
      "tf.Tensor([2 2 2 3 4 5 6 7 8], shape=(9,), dtype=int32)\n",
      "tf.Tensor([0 1 2 3 4 5 6 7 7], shape=(9,), dtype=int32)\n",
      "tf.Tensor([2 2 2 3 4 5 6 7 7], shape=(9,), dtype=int32)\n"
     ]
    }
   ],
   "source": [
    "x=tf.range(9)\n",
    "print(tf.maximum(x,2))\n",
    "print(tf.minimum(x,7))\n",
    "# 限制到2-7\n",
    "print(tf.minimum(tf.maximum(x,2),7))"
   ],
   "metadata": {
    "collapsed": false,
    "pycharm": {
     "name": "#%%\n"
    }
   }
  },
  {
   "cell_type": "code",
   "execution_count": null,
   "outputs": [],
   "source": [
    "import os\n",
    "pid=os.getpid()\n",
    "!kill -9 $pid"
   ],
   "metadata": {
    "collapsed": false,
    "pycharm": {
     "name": "#%%\n",
     "is_executing": true
    }
   }
  }
 ],
 "metadata": {
  "kernelspec": {
   "display_name": "Python 3",
   "language": "python",
   "name": "python3"
  },
  "language_info": {
   "codemirror_mode": {
    "name": "ipython",
    "version": 2
   },
   "file_extension": ".py",
   "mimetype": "text/x-python",
   "name": "python",
   "nbconvert_exporter": "python",
   "pygments_lexer": "ipython2",
   "version": "2.7.6"
  }
 },
 "nbformat": 4,
 "nbformat_minor": 0
}