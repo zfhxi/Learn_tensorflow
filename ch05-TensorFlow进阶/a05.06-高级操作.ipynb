{
 "cells": [
  {
   "cell_type": "code",
   "execution_count": 16,
   "metadata": {
    "collapsed": true
   },
   "outputs": [],
   "source": [
    "import tensorflow as tf"
   ]
  },
  {
   "cell_type": "markdown",
   "source": [
    "介绍一些常用的稍微复杂的功能函数\n",
    "\n",
    "参考：\n",
    "1. <https://www.cnblogs.com/nxf-rabbit75/p/11276195.html>"
   ],
   "metadata": {
    "collapsed": false,
    "pycharm": {
     "name": "#%% md\n"
    }
   }
  },
  {
   "cell_type": "markdown",
   "source": [
    "## 1.`tf.gather`\n",
    "`tf.gather(params, indices, validate_indices=None, name=None, axis=0)`\n",
    "\n",
    "根据提供的indices在axis这个轴上对params进行索引，拼接成一个新的张量。\n",
    "* params：需要被索引的张量\n",
    "* indices：必须为整数类型，如int32,int64等，注意检查不要越界了，因为如果越界了，如果使用的CPU，则会报错，如果在GPU上进行操作的，那么相应的输出值将会被置为0，而不会报错，因此认真检查是否越界。\n",
    "* name：返回张量名称\n",
    "\n",
    "![](https://github.com/zfhxi/Learn_tensorflow/blob/master/ch05-TensorFlow%e8%bf%9b%e9%98%b6/img/04.png?raw=true)"
   ],
   "metadata": {
    "collapsed": false,
    "pycharm": {
     "name": "#%% md\n"
    }
   }
  },
  {
   "cell_type": "code",
   "execution_count": 17,
   "outputs": [
    {
     "name": "stdout",
     "output_type": "stream",
     "text": [
      "(2, 35, 8)\n"
     ]
    }
   ],
   "source": [
    "x=tf.random.uniform([4,35,8],maxval=100,dtype=tf.int32) # 4个班级，35个学生，8门科目\n",
    "# 收集1-2个班的成绩册\n",
    "gather_x=tf.gather(x,[0,1],axis=0)\n",
    "print(gather_x.shape)"
   ],
   "metadata": {
    "collapsed": false,
    "pycharm": {
     "name": "#%%\n"
    }
   }
  },
  {
   "cell_type": "markdown",
   "source": [
    "上述操作可通过`x[:2]`切片操作简单实现，但对于不规则的索引方式，切片方式相当麻烦，而tf.gather优势便在于此。"
   ],
   "metadata": {
    "collapsed": false,
    "pycharm": {
     "name": "#%% md\n"
    }
   }
  },
  {
   "cell_type": "code",
   "execution_count": 18,
   "outputs": [
    {
     "name": "stdout",
     "output_type": "stream",
     "text": [
      "(4, 6, 8)\n",
      "(4, 35, 2)\n"
     ]
    }
   ],
   "source": [
    "# 收集1,4,9,12,13,27号同学的成绩\n",
    "gather_x=tf.gather(x,[x-1 for x in [1,4,9,12,13,27]],axis=1)\n",
    "print(gather_x.shape)\n",
    "# 收集第3,5科目的成绩\n",
    "gather_x=tf.gather(x,[2,4],axis=2)\n",
    "print(gather_x.shape)"
   ],
   "metadata": {
    "collapsed": false,
    "pycharm": {
     "name": "#%%\n"
    }
   }
  },
  {
   "cell_type": "markdown",
   "source": [
    "`tf.gather`非常适合于索引号没有规则的场合，其中索引号可以乱序排序："
   ],
   "metadata": {
    "collapsed": false,
    "pycharm": {
     "name": "#%% md\n"
    }
   }
  },
  {
   "cell_type": "code",
   "execution_count": 19,
   "outputs": [
    {
     "name": "stdout",
     "output_type": "stream",
     "text": [
      "tf.Tensor(\n",
      "[[0 1]\n",
      " [2 3]\n",
      " [4 5]\n",
      " [6 7]], shape=(4, 2), dtype=int32)\n",
      "tf.Tensor(\n",
      "[[6 7]\n",
      " [2 3]\n",
      " [0 1]\n",
      " [4 5]], shape=(4, 2), dtype=int32)\n"
     ]
    }
   ],
   "source": [
    "a=tf.range(8)\n",
    "a=tf.reshape(a,[4,2])\n",
    "print((a))\n",
    "gather_a=tf.gather(a,[3,1,0,2],axis=0) # 等价于交换行\n",
    "print(gather_a)"
   ],
   "metadata": {
    "collapsed": false,
    "pycharm": {
     "name": "#%%\n"
    }
   }
  },
  {
   "cell_type": "markdown",
   "source": [
    "将问题复杂化，希望抽查第2-3班的第3，4，6，27号同学的科目成绩。通过组合tf.gather实现:"
   ],
   "metadata": {
    "collapsed": false,
    "pycharm": {
     "name": "#%% md\n"
    }
   }
  },
  {
   "cell_type": "code",
   "execution_count": 20,
   "outputs": [
    {
     "name": "stdout",
     "output_type": "stream",
     "text": [
      "(2, 4, 8)\n"
     ]
    }
   ],
   "source": [
    "gather_x=tf.gather(tf.gather(x,[1,2],axis=0),[2,3,5,26],axis=1)\n",
    "print(gather_x.shape)"
   ],
   "metadata": {
    "collapsed": false,
    "pycharm": {
     "name": "#%%\n"
    }
   }
  },
  {
   "cell_type": "markdown",
   "source": [
    "## 2.`tf.gather_nd`\n",
    "`tf.gather_nd(params,indices,name=None,batch_dims=0)`\n",
    "\n",
    "类似于tf.gather，不过后者只能在一个维度上进行索引，而前者可以在多个维度上进行索引\n",
    "\n",
    "* params：待索引输入张量\n",
    "* indices：是嵌套List，List中的每个元素亦是List，表示每个维度采样的索引\n",
    "  * 如希望采样$i$号班级,$j$个学生,$k$门科目的成绩，则可表达为`[...,[i,j,k],...]`，外层括号长度表示采样的个数，内层列表包含了每个采样样本的索引坐标\n",
    "* name=None：操作的名称（可选）"
   ],
   "metadata": {
    "collapsed": false,
    "pycharm": {
     "name": "#%% md\n"
    }
   }
  },
  {
   "cell_type": "markdown",
   "source": [
    "将问题再复杂化，希望抽查第2个班的第2个同学的所有科目，第3个班的第3个同学的所有科目，第4个班的第4个同学的所有科目。实现方式："
   ],
   "metadata": {
    "collapsed": false,
    "pycharm": {
     "name": "#%% md\n"
    }
   }
  },
  {
   "cell_type": "code",
   "execution_count": 21,
   "outputs": [
    {
     "name": "stdout",
     "output_type": "stream",
     "text": [
      "(3, 8)\n",
      "(3, 8)\n"
     ]
    }
   ],
   "source": [
    "# 手动提取并堆叠合并\n",
    "x=tf.random.uniform([4,35,8],maxval=100,dtype=tf.int32) # 4个班级，35个学生，8门科目\n",
    "gather_x=tf.stack([x[1,1],x[2,2],x[3,3]],axis=0)\n",
    "print(gather_x.shape)\n",
    "\n",
    "# 上面的操作手动串行采样，计算效率低\n",
    "# 采用tf.gather_nd\n",
    "gather_x=tf.gather_nd(x,[[1,1],[2,2],[3,3]])\n",
    "print(gather_x.shape)"
   ],
   "metadata": {
    "collapsed": false,
    "pycharm": {
     "name": "#%%\n"
    }
   }
  },
  {
   "cell_type": "markdown",
   "source": [
    "抽查班级1的学生1的科目2、班级2的学生2的科目3、班级3的学生3的科目4的成绩,共有3个成绩数据,结果汇总:"
   ],
   "metadata": {
    "collapsed": false,
    "pycharm": {
     "name": "#%% md\n"
    }
   }
  },
  {
   "cell_type": "code",
   "execution_count": 22,
   "outputs": [
    {
     "name": "stdout",
     "output_type": "stream",
     "text": [
      "(3,)\n"
     ]
    }
   ],
   "source": [
    "gather_result=tf.gather_nd(x,[[1,1,2],[2,2,3],[3,3,4]])\n",
    "print(gather_result.shape)"
   ],
   "metadata": {
    "collapsed": false,
    "pycharm": {
     "name": "#%%\n"
    }
   }
  },
  {
   "cell_type": "markdown",
   "source": [
    "## 3.`tf.boolean_mask`\n",
    "\n",
    "除了上述的给定索引进行采样，也可通过给定掩码进行采样\n",
    "\n",
    "`tf.boolean_mask(x,mask,axis)`可在axis轴上根据mask方案进行采样\n",
    "\n",
    "* 掩码长度应与对应维度的长度一致，如对班级进行采样，那么掩码长度应和班级数一致(如下例)"
   ],
   "metadata": {
    "collapsed": false,
    "pycharm": {
     "name": "#%% md\n"
    }
   }
  },
  {
   "cell_type": "code",
   "execution_count": 23,
   "outputs": [
    {
     "name": "stdout",
     "output_type": "stream",
     "text": [
      "(2, 35, 8)\n"
     ]
    }
   ],
   "source": [
    "x=tf.random.uniform([4,35,8],maxval=100,dtype=tf.int32) # 4个班级，35个学生，8门科目\n",
    "# 采样第1个和第4个班级的数据\n",
    "result=tf.boolean_mask(x,mask=[True,False,False,True],axis=0)\n",
    "print(result.shape)"
   ],
   "metadata": {
    "collapsed": false,
    "pycharm": {
     "name": "#%%\n"
    }
   }
  },
  {
   "cell_type": "markdown",
   "source": [
    "不难发现，与`tf.gather`很相似，只是给定索引换成了给定掩码。\n",
    "\n",
    "考虑类似`tf.gather_nd`的多维度掩码采样，为方便演示，设定2个班级，每个班级3个学生"
   ],
   "metadata": {
    "collapsed": false,
    "pycharm": {
     "name": "#%% md\n"
    }
   }
  },
  {
   "cell_type": "code",
   "execution_count": 24,
   "outputs": [
    {
     "name": "stdout",
     "output_type": "stream",
     "text": [
      "tf.Tensor(\n",
      "[[63 98 38 19 65 83 57  2]\n",
      " [65 82 71 35 88 14 68 60]\n",
      " [94 11 33 89  7 82 51 51]\n",
      " [75 86 69 88 47 64 71 47]], shape=(4, 8), dtype=int32)\n"
     ]
    }
   ],
   "source": [
    "x=tf.random.uniform([2,3,8],maxval=100,dtype=tf.int32)\n",
    "# 采样第1班的1-2号学生，2班的2-3号学生\n",
    "result1=tf.gather_nd(x,[[0,0],[0,1],[1,1],[1,2]])\n",
    "print(result1)"
   ],
   "metadata": {
    "collapsed": false,
    "pycharm": {
     "name": "#%%\n"
    }
   }
  },
  {
   "cell_type": "markdown",
   "source": [
    "掩码方式如何实现？\n",
    "\n",
    "下表列出了采样情况:\n",
    "\n",
    "![](https://github.com/zfhxi/Learn_tensorflow/blob/master/ch05-TensorFlow%e8%bf%9b%e9%98%b6/img/05.png?raw=true)\n",
    "\n",
    "通过此表，便明白了掩码方案："
   ],
   "metadata": {
    "collapsed": false,
    "pycharm": {
     "name": "#%% md\n"
    }
   }
  },
  {
   "cell_type": "code",
   "execution_count": 25,
   "outputs": [
    {
     "name": "stdout",
     "output_type": "stream",
     "text": [
      "tf.Tensor(\n",
      "[[63 98 38 19 65 83 57  2]\n",
      " [65 82 71 35 88 14 68 60]\n",
      " [94 11 33 89  7 82 51 51]\n",
      " [75 86 69 88 47 64 71 47]], shape=(4, 8), dtype=int32)\n"
     ]
    }
   ],
   "source": [
    "result2=tf.boolean_mask(x,[[True,True,False],[False,True,True]])\n",
    "print(result2)"
   ],
   "metadata": {
    "collapsed": false,
    "pycharm": {
     "name": "#%%\n"
    }
   }
  },
  {
   "cell_type": "markdown",
   "source": [
    "## 4.`tf.where`\n",
    "\n",
    "1. `tf.where(condition)`\n",
    "  * condition是bool型值，True/False\n",
    "  * 返回值，是condition中元素为True对应的索引\n",
    "2. `tf.where(condition, x=None, y=None, name=None)`\n",
    "    * condition， x, y 相同维度，condition是bool型值，True/False\n",
    "    * 返回值是对应元素，condition中元素为True的元素替换为x中的元素，为False的元素替换为y中对应元素\n",
    "    * x只负责对应替换True的元素，y只负责对应替换False的元素，x，y各有分工\n",
    "    * 由于是替换，返回值的维度，和condition，x ， y都是相等的。"
   ],
   "metadata": {
    "collapsed": false,
    "pycharm": {
     "name": "#%% md\n"
    }
   }
  },
  {
   "cell_type": "code",
   "execution_count": 26,
   "outputs": [
    {
     "name": "stdout",
     "output_type": "stream",
     "text": [
      "tf.Tensor(\n",
      "[[0 0]\n",
      " [1 1]\n",
      " [1 2]\n",
      " [2 0]\n",
      " [2 1]], shape=(5, 2), dtype=int64)\n",
      "tf.Tensor(\n",
      "[[1. 0. 0.]\n",
      " [0. 1. 1.]\n",
      " [1. 1. 0.]], shape=(3, 3), dtype=float32)\n"
     ]
    }
   ],
   "source": [
    "condition=[[True,False,False],\n",
    "           [False,True,True],\n",
    "           [True,True,False]]\n",
    "result=tf.where(condition)\n",
    "print(result)\n",
    "A=tf.ones([3,3])\n",
    "B=tf.zeros([3,3])\n",
    "result1=tf.where(condition,A,B)\n",
    "print(result1)"
   ],
   "metadata": {
    "collapsed": false,
    "pycharm": {
     "name": "#%%\n"
    }
   }
  },
  {
   "cell_type": "markdown",
   "source": [
    "用途？考虑场景，提取张量中所有正数的数据和索引："
   ],
   "metadata": {
    "collapsed": false,
    "pycharm": {
     "name": "#%% md\n"
    }
   }
  },
  {
   "cell_type": "code",
   "execution_count": 27,
   "outputs": [
    {
     "name": "stdout",
     "output_type": "stream",
     "text": [
      "tf.Tensor(\n",
      "[[-1.0058336  -0.5472079   0.28864366]\n",
      " [-1.0228276   0.13646765  0.7407832 ]\n",
      " [-0.3122578   1.1740584  -0.1288489 ]], shape=(3, 3), dtype=float32)\n",
      "tf.Tensor(\n",
      "[[False False  True]\n",
      " [False  True  True]\n",
      " [False  True False]], shape=(3, 3), dtype=bool)\n",
      "tf.Tensor(\n",
      "[[0 2]\n",
      " [1 1]\n",
      " [1 2]\n",
      " [2 1]], shape=(4, 2), dtype=int64)\n",
      "tf.Tensor([0.28864366 0.13646765 0.7407832  1.1740584 ], shape=(4,), dtype=float32)\n",
      "tf.Tensor([0.28864366 0.13646765 0.7407832  1.1740584 ], shape=(4,), dtype=float32)\n"
     ]
    }
   ],
   "source": [
    "x=tf.random.normal([3,3])\n",
    "# 得到正数掩码\n",
    "mask=x>0\n",
    "# 提取所有大于0的元素索引\n",
    "indices=tf.where(mask)\n",
    "# 使用tf.gather_nd得到所有正数的元素\n",
    "result2=tf.gather_nd(x,indices)\n",
    "print(x)\n",
    "print(mask)\n",
    "print(indices)\n",
    "print(result2)\n",
    "\n",
    "# 或者在得到mask后直接使用tf.boolean_mask获取元素\n",
    "result3=tf.boolean_mask(x,mask=mask)\n",
    "print(result3)"
   ],
   "metadata": {
    "collapsed": false,
    "pycharm": {
     "name": "#%%\n"
    }
   }
  },
  {
   "cell_type": "markdown",
   "source": [
    "## 5.`scatter_nd`\n",
    "\n",
    "`tf.scatter_nd(indices,updates,shape)`从全0的白板数据中对指定位置刷新数据为指定值\n",
    "* indices，待刷新的数据索引\n",
    "* updates，待填充的数据\n",
    "* shape，指定白板的形状\n",
    "\n",
    "下图是刷新过程的示意：\n",
    "\n",
    "![](https://github.com/zfhxi/Learn_tensorflow/blob/master/ch05-TensorFlow%e8%bf%9b%e9%98%b6/img/06.png?raw=true)"
   ],
   "metadata": {
    "collapsed": false,
    "pycharm": {
     "name": "#%% md\n"
    }
   }
  },
  {
   "cell_type": "code",
   "execution_count": 28,
   "outputs": [
    {
     "name": "stdout",
     "output_type": "stream",
     "text": [
      "tf.Tensor([0.  1.1 0.  3.3 4.4 0.  0.  7.7], shape=(8,), dtype=float32)\n"
     ]
    }
   ],
   "source": [
    "# 构造刷新位置参数4,3,1,7号位置\n",
    "indices=tf.constant([[4],[3],[1],[7]])\n",
    "# 构造刷新位置对应的刷新数据\n",
    "updates=tf.constant([4.4,3.3,1.1,7.7])\n",
    "# 在长度为8的全0向量上刷新\n",
    "out=tf.scatter_nd(indices,updates,[8])\n",
    "print(out)"
   ],
   "metadata": {
    "collapsed": false,
    "pycharm": {
     "name": "#%%\n"
    }
   }
  },
  {
   "cell_type": "markdown",
   "source": [
    "考虑3维张量的例子: 白板张量的shape为\\[4,4,4\\]，共有4个通道的特征图，每个通道大小为4x4，现有2个通道的新数据updates: \\[2,4,4\\]，需要写入索引为\\[1,3\\]的通道上\n",
    "\n",
    "![](https://github.com/zfhxi/Learn_tensorflow/blob/master/ch05-TensorFlow%e8%bf%9b%e9%98%b6/img/07.png?raw=true)"
   ],
   "metadata": {
    "collapsed": false,
    "pycharm": {
     "name": "#%% md\n"
    }
   }
  },
  {
   "cell_type": "code",
   "execution_count": 29,
   "outputs": [
    {
     "name": "stdout",
     "output_type": "stream",
     "text": [
      "tf.Tensor(\n",
      "[[[0 0 0 0]\n",
      "  [0 0 0 0]\n",
      "  [0 0 0 0]\n",
      "  [0 0 0 0]]\n",
      "\n",
      " [[5 5 5 5]\n",
      "  [6 6 6 6]\n",
      "  [7 7 7 7]\n",
      "  [8 8 8 8]]\n",
      "\n",
      " [[0 0 0 0]\n",
      "  [0 0 0 0]\n",
      "  [0 0 0 0]\n",
      "  [0 0 0 0]]\n",
      "\n",
      " [[1 1 1 1]\n",
      "  [2 2 2 2]\n",
      "  [3 3 3 3]\n",
      "  [4 4 4 4]]], shape=(4, 4, 4), dtype=int32)\n"
     ]
    }
   ],
   "source": [
    "indices=tf.constant([[1],[3]])\n",
    "# 构造写入数据，即2个矩阵\n",
    "updates=tf.constant([\n",
    "   [[5,5,5,5],[6,6,6,6],[7,7,7,7],[8,8,8,8]],\n",
    "    [[1,1,1,1],[2,2,2,2],[3,3,3,3],[4,4,4,4]]\n",
    "])\n",
    "# 在白板上写入\n",
    "out=tf.scatter_nd(indices=indices,updates=updates,shape=[4,4,4])\n",
    "print(out)"
   ],
   "metadata": {
    "collapsed": false,
    "pycharm": {
     "name": "#%%\n"
    }
   }
  },
  {
   "cell_type": "markdown",
   "source": [
    "## 6.`meshgrid`\n",
    "\n",
    "通过`tf.meshgrid`函数可以方便地生成二维网络的采样点坐标，方便可视化等场合\n",
    "\n",
    "考虑如下表达式：\n",
    "\n",
    "$$z=\\frac{\\mathrm{sin}(x^2+y^2)}{x^2+y^2}$$\n",
    "\n",
    "如需绘制在$x\\in[-8,8],y\\in[-8,8]$区间的sinc函数的3D曲面,\n",
    "\n",
    "![](https://github.com/zfhxi/Learn_tensorflow/blob/master/ch05-TensorFlow%e8%bf%9b%e9%98%b6/img/07.png?raw=true)\n",
    "\n",
    "则首先应生成x和y的网格坐标集合${(x,y)}$，在通过表达式计算z的值。可通过如下方式生产1万个坐标："
   ],
   "metadata": {
    "collapsed": false,
    "pycharm": {
     "name": "#%% md\n"
    }
   }
  },
  {
   "cell_type": "code",
   "execution_count": 30,
   "outputs": [],
   "source": [
    "import math\n",
    "def my_sinc(x,y):\n",
    "    if not isinstance(x,tf.Tensor):\n",
    "        m_out=math.sqrt(x**2+y**2)\n",
    "        return math.sin(m_out)/m_out\n",
    "    m_out=tf.sqrt(x**2+y**2)\n",
    "    return tf.sin(m_out)/m_out\n",
    "points=list()\n",
    "for x in range(-8,8,100):\n",
    "    for y in range(-8,8,100):\n",
    "        z=my_sinc(x,y)\n",
    "        points.append(([x,y,z]))"
   ],
   "metadata": {
    "collapsed": false,
    "pycharm": {
     "name": "#%%\n"
    }
   }
  },
  {
   "cell_type": "markdown",
   "source": [
    "显然，这种方式效率极低。使用`tf.meshgrid`，先在x轴上采样100个点，y轴上采样100个点，然后利用`tf.meshgrid(x,y)`即可返回这个10000个数据点的张量数据，保存在shape为\\[100,100,2\\]的张量中。\n",
    "\n",
    "2表示返回两个张量A和B，A包含了所有点的x坐标，B包含了所有点的y坐标\n",
    "\n",
    "具体实现如下："
   ],
   "metadata": {
    "collapsed": false,
    "pycharm": {
     "name": "#%% md\n"
    }
   }
  },
  {
   "cell_type": "code",
   "execution_count": 31,
   "outputs": [
    {
     "name": "stdout",
     "output_type": "stream",
     "text": [
      "(100, 100)\n",
      "(100, 100)\n",
      "(100, 100)\n"
     ]
    }
   ],
   "source": [
    "x=tf.linspace(-8.,8,100) # x轴采样\n",
    "y=tf.linspace(-8.,8,100) # y轴采样\n",
    "X,Y=tf.meshgrid(x,y)\n",
    "Z=my_sinc(X,Y)\n",
    "print(X.shape)\n",
    "print(Y.shape)\n",
    "print(Z.shape)"
   ],
   "metadata": {
    "collapsed": false,
    "pycharm": {
     "name": "#%%\n"
    }
   }
  },
  {
   "cell_type": "markdown",
   "source": [
    "使用matplotlib画出曲面"
   ],
   "metadata": {
    "collapsed": false,
    "pycharm": {
     "name": "#%% md\n"
    }
   }
  },
  {
   "cell_type": "code",
   "execution_count": 32,
   "outputs": [
    {
     "data": {
      "text/plain": "<Figure size 432x288 with 1 Axes>",
      "image/png": "[encoded data removed]"
     },
     "metadata": {
      "needs_background": "light"
     },
     "output_type": "display_data"
    }
   ],
   "source": [
    "from matplotlib import pyplot as plt\n",
    "# 导入3D坐标轴支持\n",
    "from mpl_toolkits.mplot3d import Axes3D\n",
    "\n",
    "fig=plt.figure()\n",
    "ax=Axes3D(fig) # 设置3D坐标轴\n",
    "# 根据网格点绘制sinc函数3D曲面\n",
    "ax.contour3D(X.numpy(),Y.numpy(),Z.numpy(),50)\n",
    "plt.show()"
   ],
   "metadata": {
    "collapsed": false,
    "pycharm": {
     "name": "#%%\n"
    }
   }
  },
  {
   "cell_type": "code",
   "execution_count": null,
   "outputs": [],
   "source": [
    "import os\n",
    "pid=os.getpid()\n",
    "!kill -9 $pid"
   ],
   "metadata": {
    "collapsed": false,
    "pycharm": {
     "name": "#%%\n",
     "is_executing": true
    }
   }
  }
 ],
 "metadata": {
  "kernelspec": {
   "display_name": "Python 3",
   "language": "python",
   "name": "python3"
  },
  "language_info": {
   "codemirror_mode": {
    "name": "ipython",
    "version": 2
   },
   "file_extension": ".py",
   "mimetype": "text/x-python",
   "name": "python",
   "nbconvert_exporter": "python",
   "pygments_lexer": "ipython2",
   "version": "2.7.6"
  }
 },
 "nbformat": 4,
 "nbformat_minor": 0
}