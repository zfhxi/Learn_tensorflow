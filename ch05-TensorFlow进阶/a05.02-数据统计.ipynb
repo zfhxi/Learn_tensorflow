{
 "cells": [
  {
   "cell_type": "code",
   "execution_count": 1,
   "metadata": {
    "collapsed": true
   },
   "outputs": [],
   "source": [
    "import tensorflow as tf\n",
    "import numpy as np"
   ]
  },
  {
   "cell_type": "markdown",
   "source": [
    "## 0.前言\n",
    "在神经网络的计算过程中,经常需要统计数据的各种属性,如最值、最值位置、均值、范数等信息。\n",
    "由于张量通常较大,直接观察数据很难获得有用信息,通过获取这些张量的统计信息可以较轻松地推测张量数值的分布。"
   ],
   "metadata": {
    "collapsed": false,
    "pycharm": {
     "name": "#%% md\n"
    }
   }
  },
  {
   "cell_type": "markdown",
   "source": [
    "## 1.向量范数\n",
    "\n",
    "vector norm是表征向量\"长度\"的一种度量方法，可推广到张量上。常用的范数有\n",
    "* L1范数，向量所有元素的绝对值之和：$\\|x\\|_1=\\sum_i|x_i|$\n",
    "* L2范数，向量所有元素的平方之和，再开根号：$\\|x\\|_2=\\sqrt{\\sum_ix_i^2}$\n",
    "* $\\infty$范数，向量所有元素的绝对值最大值：$\\|x\\|_\\infty=\\mathrm{max}(|x_i|)$\n",
    "\n",
    "对于矩阵和张量，同样可利用如上公式计算范数，只不过需要先将其打平成向量后再计算\n",
    "\n",
    "关键函数：`tf.norm(x,ord)`：ord指定为`1`、`2`、`np.inf`"
   ],
   "metadata": {
    "collapsed": false,
    "pycharm": {
     "name": "#%% md\n"
    }
   }
  },
  {
   "cell_type": "code",
   "execution_count": 2,
   "outputs": [
    {
     "name": "stdout",
     "output_type": "stream",
     "text": [
      "tf.Tensor(4.0, shape=(), dtype=float32)\n",
      "tf.Tensor(2.0, shape=(), dtype=float32)\n",
      "tf.Tensor(1.0, shape=(), dtype=float32)\n"
     ]
    }
   ],
   "source": [
    "x=tf.ones([2,2])\n",
    "print(tf.norm(x,ord=1))\n",
    "print(tf.norm(x,ord=2))\n",
    "print(tf.norm(x,ord=np.inf))"
   ],
   "metadata": {
    "collapsed": false,
    "pycharm": {
     "name": "#%%\n"
    }
   }
  },
  {
   "cell_type": "markdown",
   "source": [
    "## 2.最值、均值、和\n",
    "\n",
    "求解张量在某个维度上的最大值、最小值、平均值、和的关键函数：\n",
    "* `tf.reduce_max(x,axis)`\n",
    "* `tf.reduce_min(x,axis)`\n",
    "* `tf.reduce_mean(x,axis)`\n",
    "* `tf.reduce_sum(x,axis)`\n",
    "\n",
    "当不指定axis时，求解全局元素的最大、最小、平均值、和"
   ],
   "metadata": {
    "collapsed": false,
    "pycharm": {
     "name": "#%% md\n"
    }
   }
  },
  {
   "cell_type": "code",
   "execution_count": 3,
   "outputs": [
    {
     "name": "stdout",
     "output_type": "stream",
     "text": [
      "(4,)\n",
      "(4,)\n",
      "(4,)\n",
      "(4,)\n",
      "tf.Tensor(-0.038900096, shape=(), dtype=float32)\n",
      "tf.Tensor(-0.038900107, shape=(), dtype=float32)\n",
      "tf.Tensor(1.1175871e-08, shape=(), dtype=float32)\n",
      "tf.Tensor(True, shape=(), dtype=bool)\n"
     ]
    }
   ],
   "source": [
    "x=tf.random.normal([4,10]) # 将x视为4个样本，每个样本10个类别的概率预测\n",
    "max_vals=tf.reduce_max(x,axis=1) # 求每个样本的最大值\n",
    "print(max_vals.shape)\n",
    "min_vals=tf.reduce_min(x,axis=1) # 求每个样本的最小值\n",
    "print(min_vals.shape)\n",
    "mean_vals=tf.reduce_mean(x,axis=1) # 求每个样本的平均值\n",
    "print(mean_vals.shape)\n",
    "sum_vals=tf.reduce_mean(x,axis=-1) # 求每个样本的平均值\n",
    "print(sum_vals.shape)\n",
    "\n",
    "# 测试不指定axis\n",
    "print(tf.reduce_mean(x))\n",
    "print(tf.reduce_mean(mean_vals))\n",
    "print(tf.abs(tf.reduce_mean(x)-tf.reduce_mean(mean_vals)))\n",
    "print(tf.abs(tf.reduce_mean(x)-tf.reduce_mean(mean_vals))<1e-6)"
   ],
   "metadata": {
    "collapsed": false,
    "pycharm": {
     "name": "#%%\n"
    }
   }
  },
  {
   "cell_type": "markdown",
   "source": [
    "有时需要求最大值、最小值等的位置索引（如分类任务的最后预测）,关键函数:\n",
    "* `tf.argmax(x,axis)`\n",
    "* `tf.argmin(x,axis)`"
   ],
   "metadata": {
    "collapsed": false,
    "pycharm": {
     "name": "#%% md\n"
    }
   }
  },
  {
   "cell_type": "code",
   "execution_count": 4,
   "outputs": [
    {
     "name": "stdout",
     "output_type": "stream",
     "text": [
      "tf.Tensor([4 3], shape=(2,), dtype=int64)\n"
     ]
    }
   ],
   "source": [
    "out=tf.random.normal([2,10]) # 考虑两个样本\n",
    "p=tf.nn.softmax(out,axis=1) # 对每个样本进行归一化\n",
    "\n",
    "pred=tf.argmax(p,axis=1) # 找出每个样本的最大值位置\n",
    "print(pred)\n"
   ],
   "metadata": {
    "collapsed": false,
    "pycharm": {
     "name": "#%%\n"
    }
   }
  },
  {
   "cell_type": "code",
   "execution_count": null,
   "outputs": [],
   "source": [
    "import os\n",
    "pid=os.getpid()\n",
    "!kill -9 $pid\n",
    "\n",
    "\n"
   ],
   "metadata": {
    "collapsed": false,
    "pycharm": {
     "name": "#%%\n",
     "is_executing": true
    }
   }
  }
 ],
 "metadata": {
  "kernelspec": {
   "display_name": "Python 3",
   "language": "python",
   "name": "python3"
  },
  "language_info": {
   "codemirror_mode": {
    "name": "ipython",
    "version": 2
   },
   "file_extension": ".py",
   "mimetype": "text/x-python",
   "name": "python",
   "nbconvert_exporter": "python",
   "pygments_lexer": "ipython2",
   "version": "2.7.6"
  }
 },
 "nbformat": 4,
 "nbformat_minor": 0
}