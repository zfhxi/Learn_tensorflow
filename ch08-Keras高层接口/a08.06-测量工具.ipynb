{
 "cells": [
  {
   "cell_type": "code",
   "execution_count": 1,
   "metadata": {
    "collapsed": true
   },
   "outputs": [],
   "source": [
    "import tensorflow as tf\n",
    "from tensorflow import keras"
   ]
  },
  {
   "cell_type": "markdown",
   "source": [
    "网络训练过程常需要统计准确率、召回率等指标，Keras提供了常用的测量工具，位于`keras.metrics`模块中\n",
    "\n",
    "Keras测量工具使用步骤如下：\n",
    "1. 新建测量器\n",
    "2. 写入数据\n",
    "3. 读取统计数据\n",
    "4. 清零测量器"
   ],
   "metadata": {
    "collapsed": false
   }
  },
  {
   "cell_type": "markdown",
   "source": [
    "`keras.metrics`提供了较多常用测量器类，如统计均值的Mean类、准确率的Accuracy类、余弦相似度的CosineSimilarity类等。"
   ],
   "metadata": {
    "collapsed": false,
    "pycharm": {
     "name": "#%% md\n"
    }
   }
  },
  {
   "cell_type": "markdown",
   "source": [
    "## 1.均值测量器例子\n",
    "以Mean测量器为例，我们统计每个step的平均误差："
   ],
   "metadata": {
    "collapsed": false,
    "pycharm": {
     "name": "#%% md\n"
    }
   }
  },
  {
   "cell_type": "code",
   "execution_count": 2,
   "outputs": [
    {
     "name": "stdout",
     "output_type": "stream",
     "text": [
      "epoch[0]-step[0] loss:0.13442061841487885\n",
      "epoch[0]-step[500] loss:0.032660964876413345\n",
      "epoch[0]-step[1000] loss:0.02246745117008686\n",
      "epoch[0]-step[1500] loss:0.021138837561011314\n",
      "epoch[0]-step[2000] loss:0.020540548488497734\n",
      "epoch[1]-step[0] loss:0.020303547382354736\n",
      "epoch[1]-step[500] loss:0.020146848633885384\n",
      "epoch[1]-step[1000] loss:0.020012257620692253\n",
      "epoch[1]-step[1500] loss:0.019957510754466057\n",
      "epoch[1]-step[2000] loss:0.019898351281881332\n"
     ]
    }
   ],
   "source": [
    "def preprocess(x,y):\n",
    "    # 调用此函数会自动传入x，y\n",
    "    # 标准化到0~1\n",
    "    x=tf.cast(x,dtype=tf.float32)/255.\n",
    "    x=tf.reshape(x,[-1,28*28]) # 打平\n",
    "    y=tf.cast(y,dtype=tf.int32) # 转换成整型张量\n",
    "    y=tf.one_hot(y,depth=10) # 进行one-hot编码\n",
    "    return x,y\n",
    "\n",
    "def load_data():\n",
    "    # 加载MNIST\n",
    "    (x,y),(x_val,y_val)=keras.datasets.mnist.load_data()\n",
    "    batchsz=512\n",
    "    # 构建数据集对象\n",
    "    train_dataset=tf.data.Dataset.from_tensor_slices((x,y))\n",
    "    train_dataset=train_dataset.shuffle(1000)\n",
    "    #批量训练\n",
    "    train_dataset=train_dataset.batch(batchsz)\n",
    "    train_dataset=train_dataset.map(preprocess)\n",
    "    train_dataset=train_dataset.repeat(20)\n",
    "\n",
    "    # 加载验证/测试集\n",
    "    val_dataset=tf.data.Dataset.from_tensor_slices((x_val,y_val))\n",
    "    val_dataset=val_dataset.shuffle(1000).batch(batchsz).map(preprocess)\n",
    "    return train_dataset,val_dataset\n",
    "\n",
    "class MyModel(keras.Model):\n",
    "    def __init__(self):\n",
    "        super(MyModel, self).__init__()\n",
    "        self.fc1=keras.layers.Dense(256,activation='relu')\n",
    "        self.fc2=keras.layers.Dense(128,activation='relu')\n",
    "        self.fc3=keras.layers.Dense(10,activation='relu')\n",
    "\n",
    "    def call(self, inputs, training=None, mask=None):\n",
    "        x=self.fc1(inputs)\n",
    "        x=self.fc2(x)\n",
    "        x=self.fc3(x)\n",
    "        return x\n",
    "\n",
    "model=MyModel()\n",
    "model.build(input_shape=(None,28*28))\n",
    "\n",
    "optimizer=keras.optimizers.RMSprop(0.001)\n",
    "train_dataset,val_dataset=load_data()\n",
    "loss_meter=keras.metrics.Mean() # 1.新建平均测量器\n",
    "\n",
    "for epoch in range(2):\n",
    "    for step,(x,y) in enumerate(train_dataset):\n",
    "        with tf.GradientTape() as tape:\n",
    "            out=model(x)\n",
    "            loss=tf.losses.MSE(y,out)\n",
    "            mean_mse_loss=tf.reduce_mean(loss)\n",
    "            loss_meter.update_state(loss) # 2.写入数据，记录采样的数据\n",
    "        grads=tape.gradient(mean_mse_loss,model.trainable_variables)\n",
    "        optimizer.apply_gradients(zip(grads,model.trainable_variables))\n",
    "\n",
    "        if step%500==0:\n",
    "            print(f'epoch[{epoch}]-step[{step}] loss:{loss_meter.result()}') # 3.读取统计信息\n",
    "            loss_meter.reset_states() # 4.清零测量器\n"
   ],
   "metadata": {
    "collapsed": false,
    "pycharm": {
     "name": "#%%\n"
    }
   }
  },
  {
   "cell_type": "markdown",
   "source": [
    "## 2.准确率统计例子"
   ],
   "metadata": {
    "collapsed": false,
    "pycharm": {
     "name": "#%% md\n"
    }
   }
  },
  {
   "cell_type": "code",
   "execution_count": 3,
   "outputs": [
    {
     "name": "stdout",
     "output_type": "stream",
     "text": [
      "TRAIN => epoch[0]-step[0] loss: 0.1015140637755394\n",
      "EVAL => epoch[0]-step[19] acc: 0.19499999284744263\n",
      "TRAIN => epoch[0]-step[500] loss: 0.015589861199259758\n",
      "EVAL => epoch[0]-step[19] acc: 0.9779000282287598\n",
      "TRAIN => epoch[0]-step[1000] loss: 0.009537935256958008\n",
      "EVAL => epoch[0]-step[19] acc: 0.9804999828338623\n",
      "TRAIN => epoch[0]-step[1500] loss: 0.007007712032645941\n",
      "EVAL => epoch[0]-step[19] acc: 0.9830999970436096\n",
      "TRAIN => epoch[0]-step[2000] loss: 0.005563453771173954\n",
      "EVAL => epoch[0]-step[19] acc: 0.984000027179718\n",
      "TRAIN => epoch[1]-step[0] loss: 0.004849955905228853\n",
      "EVAL => epoch[1]-step[19] acc: 0.9825999736785889\n",
      "TRAIN => epoch[1]-step[500] loss: 0.004123594146221876\n",
      "EVAL => epoch[1]-step[19] acc: 0.9815999865531921\n",
      "TRAIN => epoch[1]-step[1000] loss: 0.003591967048123479\n",
      "EVAL => epoch[1]-step[19] acc: 0.9822999835014343\n",
      "TRAIN => epoch[1]-step[1500] loss: 0.003186717862263322\n",
      "EVAL => epoch[1]-step[19] acc: 0.9836000204086304\n",
      "TRAIN => epoch[1]-step[2000] loss: 0.0028664427809417248\n",
      "EVAL => epoch[1]-step[19] acc: 0.9812999963760376\n"
     ]
    }
   ],
   "source": [
    "model2=MyModel()\n",
    "model2.build(input_shape=(None,28*28))\n",
    "\n",
    "optimizer2=keras.optimizers.RMSprop(0.001)\n",
    "acc_meter=keras.metrics.Accuracy()\n",
    "loss_meter2=keras.metrics.Mean()\n",
    "\n",
    "for epoch in range(2):\n",
    "    for step,(x,y) in enumerate(train_dataset):\n",
    "        with tf.GradientTape() as tape:\n",
    "            out=model2(x)\n",
    "            loss=tf.losses.MSE(y,out)\n",
    "            mean_mse_loss=tf.reduce_mean(loss)\n",
    "            loss_meter2.update_state(mean_mse_loss)\n",
    "\n",
    "        grads=tape.gradient(mean_mse_loss,model2.trainable_variables)\n",
    "        optimizer2.apply_gradients(zip(grads,model2.trainable_variables))\n",
    "\n",
    "        if step%500==0:\n",
    "            print(f'TRAIN => epoch[{epoch}]-step[{step}] loss: {loss_meter2.result()}')\n",
    "\n",
    "        if step%500==0:\n",
    "            total,total_correct=0,0\n",
    "            acc_meter.reset_states()\n",
    "\n",
    "            for step,(x,y) in enumerate(val_dataset):\n",
    "                x=tf.reshape(x,(-1,28*28))\n",
    "                out=model2(x)\n",
    "                # 预测\n",
    "                pred=tf.argmax(out,axis=1)\n",
    "                pred=tf.cast(pred,dtype=tf.int32)\n",
    "                y=tf.argmax(y,axis=1) # one-hot转为数字标签\n",
    "                correct=tf.equal(pred,0)\n",
    "                total_correct+=tf.reduce_sum(tf.cast(correct,dtype=tf.int32)).numpy()\n",
    "                total+=x.shape[0]\n",
    "                acc_meter.update_state(y,pred)\n",
    "            print(f'EVAL => epoch[{epoch}]-step[{step}] acc: {acc_meter.result().numpy()}')\n",
    "\n"
   ],
   "metadata": {
    "collapsed": false,
    "pycharm": {
     "name": "#%%\n"
    }
   }
  },
  {
   "cell_type": "code",
   "execution_count": null,
   "outputs": [],
   "source": [
    "import os\n",
    "pid=os.getpid()\n",
    "!kill -9 $pid\n"
   ],
   "metadata": {
    "collapsed": false,
    "pycharm": {
     "name": "#%%\n",
     "is_executing": true
    }
   }
  }
 ],
 "metadata": {
  "kernelspec": {
   "display_name": "Python 3",
   "language": "python",
   "name": "python3"
  },
  "language_info": {
   "codemirror_mode": {
    "name": "ipython",
    "version": 2
   },
   "file_extension": ".py",
   "mimetype": "text/x-python",
   "name": "python",
   "nbconvert_exporter": "python",
   "pygments_lexer": "ipython2",
   "version": "2.7.6"
  }
 },
 "nbformat": 4,
 "nbformat_minor": 0
}