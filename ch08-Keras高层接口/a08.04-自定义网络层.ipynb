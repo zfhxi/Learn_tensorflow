{
 "cells": [
  {
   "cell_type": "code",
   "execution_count": 6,
   "metadata": {
    "collapsed": true
   },
   "outputs": [],
   "source": [
    "import tensorflow as tf"
   ]
  },
  {
   "cell_type": "markdown",
   "source": [
    "## 0.前言\n",
    "\n",
    "* 对于需要创建自定义逻辑的网络层，需要继承自`layers.Layer`基类\n",
    "* 创建自定义网络类时，需要继承自`keras.Model`类"
   ],
   "metadata": {
    "collapsed": false
   }
  },
  {
   "cell_type": "markdown",
   "source": [
    "## 1.自定义网络层\n",
    "\n",
    "对于自定义的网络层，至少需要实现初始化`__init__`和前向传播逻辑`call`方法。\n",
    "\n",
    "例子：<br>\n",
    "实现一个没有偏置向量的全连接层(bias为0)，同时固定激活函数为ReLU函数：\n"
   ],
   "metadata": {
    "collapsed": false,
    "pycharm": {
     "name": "#%% md\n"
    }
   }
  },
  {
   "cell_type": "code",
   "execution_count": 7,
   "outputs": [],
   "source": [
    "from tensorflow import keras\n",
    "class MyDense(keras.layers.Layer):\n",
    "    ''' 自定义网络层\n",
    "    '''\n",
    "    def __init__(self,inp_dim,outp_dim):\n",
    "        super(MyDense, self).__init__()\n",
    "        # 创建权值张量并添加到类管理列表中，设置为需要优化\n",
    "        # self.kernel=self.add_variable('w',[inp_dim,outp_dim],trainable=True)\n",
    "        self.kernel=self.add_weight('w',[inp_dim,outp_dim],trainable=True)\n",
    "\n",
    "    def call(self, inputs, training=None):\n",
    "        # X@W\n",
    "        out=inputs@self.kernel\n",
    "        # 执行激活函数\n",
    "        out=tf.nn.relu(out)\n",
    "        return out\n"
   ],
   "metadata": {
    "collapsed": false,
    "pycharm": {
     "name": "#%%\n"
    }
   }
  },
  {
   "cell_type": "markdown",
   "source": [
    "* `self.add_variable(name,shape)`将权值张量添加到类管理列表后会返回张量W的Python引用，而变量名name由TensorFlow内部维护，使用的比较少。\n",
    "* `call(inputs,training=None)`中inputs代表输入，training参数指定模型状态，True为训练模式，None或False为测试模式\n"
   ],
   "metadata": {
    "collapsed": false,
    "pycharm": {
     "name": "#%% md\n"
    }
   }
  },
  {
   "cell_type": "code",
   "execution_count": 8,
   "outputs": [
    {
     "name": "stdout",
     "output_type": "stream",
     "text": [
      "[<tf.Variable 'w:0' shape=(4, 3) dtype=float32, numpy=\n",
      "array([[-0.37874138,  0.5557107 ,  0.53060985],\n",
      "       [ 0.29093695, -0.1935488 , -0.5136733 ],\n",
      "       [-0.47883105,  0.3693993 , -0.18341893],\n",
      "       [-0.43808645, -0.13748914, -0.03073812]], dtype=float32)>]\n",
      "[<tf.Variable 'w:0' shape=(4, 3) dtype=float32, numpy=\n",
      "array([[-0.37874138,  0.5557107 ,  0.53060985],\n",
      "       [ 0.29093695, -0.1935488 , -0.5136733 ],\n",
      "       [-0.47883105,  0.3693993 , -0.18341893],\n",
      "       [-0.43808645, -0.13748914, -0.03073812]], dtype=float32)>]\n"
     ]
    }
   ],
   "source": [
    "net=MyDense(4,3)\n",
    "print(net.variables)\n",
    "print(net.trainable_variables)"
   ],
   "metadata": {
    "collapsed": false,
    "pycharm": {
     "name": "#%%\n"
    }
   }
  },
  {
   "cell_type": "markdown",
   "source": [
    "## 2.自定义网络\n",
    "\n",
    "对于自定义网络，也需要实现初始化`__init__`和前向传播逻辑`call`方法。\n",
    "\n",
    "自定义网络类可以和其他标准类一样，可被Sequential容器封装。我们先通过自定义网络层来堆叠一个网络："
   ],
   "metadata": {
    "collapsed": false,
    "pycharm": {
     "name": "#%% md\n"
    }
   }
  },
  {
   "cell_type": "code",
   "execution_count": 9,
   "outputs": [
    {
     "name": "stdout",
     "output_type": "stream",
     "text": [
      "Model: \"sequential_1\"\n",
      "_________________________________________________________________\n",
      "Layer (type)                 Output Shape              Param #   \n",
      "=================================================================\n",
      "my_dense_12 (MyDense)        (None, 256)               200704    \n",
      "_________________________________________________________________\n",
      "my_dense_13 (MyDense)        (None, 128)               32768     \n",
      "_________________________________________________________________\n",
      "my_dense_14 (MyDense)        (None, 64)                8192      \n",
      "_________________________________________________________________\n",
      "my_dense_15 (MyDense)        (None, 32)                2048      \n",
      "_________________________________________________________________\n",
      "my_dense_16 (MyDense)        (None, 10)                320       \n",
      "=================================================================\n",
      "Total params: 244,032\n",
      "Trainable params: 244,032\n",
      "Non-trainable params: 0\n",
      "_________________________________________________________________\n"
     ]
    }
   ],
   "source": [
    "network=keras.Sequential([\n",
    "    MyDense(28*28,256),\n",
    "    MyDense(256,128),\n",
    "    MyDense(128,64),\n",
    "    MyDense(64,32),\n",
    "    MyDense(32,10),\n",
    "])\n",
    "network.build(input_shape=(None,28*28))\n",
    "network.summary()"
   ],
   "metadata": {
    "collapsed": false,
    "pycharm": {
     "name": "#%%\n"
    }
   }
  },
  {
   "cell_type": "markdown",
   "source": [
    "下面创建一个自定义网络类实现上述等价的效果："
   ],
   "metadata": {
    "collapsed": false,
    "pycharm": {
     "name": "#%% md\n"
    }
   }
  },
  {
   "cell_type": "code",
   "execution_count": 10,
   "outputs": [
    {
     "name": "stdout",
     "output_type": "stream",
     "text": [
      "Model: \"my_model_1\"\n",
      "_________________________________________________________________\n",
      "Layer (type)                 Output Shape              Param #   \n",
      "=================================================================\n",
      "my_dense_17 (MyDense)        multiple                  200704    \n",
      "_________________________________________________________________\n",
      "my_dense_18 (MyDense)        multiple                  32768     \n",
      "_________________________________________________________________\n",
      "my_dense_19 (MyDense)        multiple                  8192      \n",
      "_________________________________________________________________\n",
      "my_dense_20 (MyDense)        multiple                  2048      \n",
      "_________________________________________________________________\n",
      "my_dense_21 (MyDense)        multiple                  320       \n",
      "=================================================================\n",
      "Total params: 244,032\n",
      "Trainable params: 244,032\n",
      "Non-trainable params: 0\n",
      "_________________________________________________________________\n"
     ]
    }
   ],
   "source": [
    "class MyModel(keras.Model):\n",
    "    # 自定义网络类，继承Model基类\n",
    "    def __init__(self):\n",
    "        super(MyModel, self).__init__()\n",
    "        # 完成网络内需要的网络层的创建工作\n",
    "        self.fc1=MyDense(28*28,256)\n",
    "        self.fc2=MyDense(256,128)\n",
    "        self.fc3=MyDense(128,64)\n",
    "        self.fc4=MyDense(64,32)\n",
    "        self.fc5=MyDense(32,10)\n",
    "\n",
    "    def call(self, inputs, training=None, mask=None):\n",
    "        # 自定义前向运算逻辑\n",
    "        x=self.fc1(inputs)\n",
    "        x=self.fc2(x)\n",
    "        x=self.fc3(x)\n",
    "        x=self.fc4(x)\n",
    "        x=self.fc5(x)\n",
    "        return x\n",
    "\n",
    "model=MyModel()\n",
    "model.build(input_shape=(None,28*28))\n",
    "model.summary()"
   ],
   "metadata": {
    "collapsed": false,
    "pycharm": {
     "name": "#%%\n"
    }
   }
  },
  {
   "cell_type": "markdown",
   "source": [
    "虽然使用`Sequential`实现同样的效果，但自定义网络的前向设计更加自由，更通用。"
   ],
   "metadata": {
    "collapsed": false,
    "pycharm": {
     "name": "#%% md\n"
    }
   }
  },
  {
   "cell_type": "code",
   "execution_count": null,
   "outputs": [],
   "source": [
    "import os\n",
    "pid=os.getpid()\n",
    "!kill -9 $pid\n"
   ],
   "metadata": {
    "collapsed": false,
    "pycharm": {
     "name": "#%%\n",
     "is_executing": true
    }
   }
  }
 ],
 "metadata": {
  "kernelspec": {
   "display_name": "Python 3",
   "language": "python",
   "name": "python3"
  },
  "language_info": {
   "codemirror_mode": {
    "name": "ipython",
    "version": 2
   },
   "file_extension": ".py",
   "mimetype": "text/x-python",
   "name": "python",
   "nbconvert_exporter": "python",
   "pygments_lexer": "ipython2",
   "version": "2.7.6"
  }
 },
 "nbformat": 4,
 "nbformat_minor": 0
}